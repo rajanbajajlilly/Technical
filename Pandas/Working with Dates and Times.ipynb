{
 "cells": [
  {
   "cell_type": "code",
   "execution_count": 1,
   "metadata": {},
   "outputs": [],
   "source": [
    "import pandas as pd\n",
    "import datetime as dt\n",
    "from pandas_datareader import data"
   ]
  },
  {
   "cell_type": "markdown",
   "metadata": {},
   "source": [
    "# Review of Python's datetime Module"
   ]
  },
  {
   "cell_type": "markdown",
   "metadata": {},
   "source": [
    "Need on import it coz python auto doesn't add it to save memory"
   ]
  },
  {
   "cell_type": "code",
   "execution_count": 2,
   "metadata": {},
   "outputs": [
    {
     "data": {
      "text/plain": [
       "datetime.date(2016, 4, 12)"
      ]
     },
     "execution_count": 2,
     "metadata": {},
     "output_type": "execute_result"
    }
   ],
   "source": [
    "dt.date(2016, 4, 12)"
   ]
  },
  {
   "cell_type": "code",
   "execution_count": 3,
   "metadata": {},
   "outputs": [],
   "source": [
    "someday = dt.date(2016, 4, 12)"
   ]
  },
  {
   "cell_type": "code",
   "execution_count": 4,
   "metadata": {},
   "outputs": [
    {
     "data": {
      "text/plain": [
       "2016"
      ]
     },
     "execution_count": 4,
     "metadata": {},
     "output_type": "execute_result"
    }
   ],
   "source": [
    "someday.year"
   ]
  },
  {
   "cell_type": "code",
   "execution_count": 5,
   "metadata": {},
   "outputs": [
    {
     "data": {
      "text/plain": [
       "12"
      ]
     },
     "execution_count": 5,
     "metadata": {},
     "output_type": "execute_result"
    }
   ],
   "source": [
    "someday.day"
   ]
  },
  {
   "cell_type": "code",
   "execution_count": 6,
   "metadata": {},
   "outputs": [
    {
     "data": {
      "text/plain": [
       "4"
      ]
     },
     "execution_count": 6,
     "metadata": {},
     "output_type": "execute_result"
    }
   ],
   "source": [
    "someday.month"
   ]
  },
  {
   "cell_type": "code",
   "execution_count": 7,
   "metadata": {},
   "outputs": [
    {
     "data": {
      "text/plain": [
       "datetime.datetime(2010, 1, 10, 0, 0)"
      ]
     },
     "execution_count": 7,
     "metadata": {},
     "output_type": "execute_result"
    }
   ],
   "source": [
    "dt.datetime(2010, 1, 10)"
   ]
  },
  {
   "cell_type": "code",
   "execution_count": 8,
   "metadata": {},
   "outputs": [
    {
     "data": {
      "text/plain": [
       "datetime.datetime(2010, 1, 10, 8, 0)"
      ]
     },
     "execution_count": 8,
     "metadata": {},
     "output_type": "execute_result"
    }
   ],
   "source": [
    "dt.datetime(2010, 1, 10, 8, 0)"
   ]
  },
  {
   "cell_type": "code",
   "execution_count": 9,
   "metadata": {},
   "outputs": [
    {
     "data": {
      "text/plain": [
       "datetime.datetime(2010, 1, 10, 8, 13, 57)"
      ]
     },
     "execution_count": 9,
     "metadata": {},
     "output_type": "execute_result"
    }
   ],
   "source": [
    "dt.datetime(2010, 1, 10, 8, 13, 57)"
   ]
  },
  {
   "cell_type": "code",
   "execution_count": 10,
   "metadata": {},
   "outputs": [
    {
     "data": {
      "text/plain": [
       "'2010-01-10 17:12:44'"
      ]
     },
     "execution_count": 10,
     "metadata": {},
     "output_type": "execute_result"
    }
   ],
   "source": [
    "str(dt.datetime(2010, 1, 10, 17, 12, 44))"
   ]
  },
  {
   "cell_type": "code",
   "execution_count": 11,
   "metadata": {},
   "outputs": [],
   "source": [
    "sometime = (dt.datetime(2010, 1, 10, 17, 12, 44))"
   ]
  },
  {
   "cell_type": "code",
   "execution_count": 12,
   "metadata": {},
   "outputs": [
    {
     "data": {
      "text/plain": [
       "2010"
      ]
     },
     "execution_count": 12,
     "metadata": {},
     "output_type": "execute_result"
    }
   ],
   "source": [
    "sometime.year"
   ]
  },
  {
   "cell_type": "code",
   "execution_count": 13,
   "metadata": {},
   "outputs": [
    {
     "data": {
      "text/plain": [
       "1"
      ]
     },
     "execution_count": 13,
     "metadata": {},
     "output_type": "execute_result"
    }
   ],
   "source": [
    "sometime.month"
   ]
  },
  {
   "cell_type": "code",
   "execution_count": 14,
   "metadata": {},
   "outputs": [
    {
     "data": {
      "text/plain": [
       "10"
      ]
     },
     "execution_count": 14,
     "metadata": {},
     "output_type": "execute_result"
    }
   ],
   "source": [
    "sometime.day"
   ]
  },
  {
   "cell_type": "code",
   "execution_count": 15,
   "metadata": {},
   "outputs": [
    {
     "data": {
      "text/plain": [
       "12"
      ]
     },
     "execution_count": 15,
     "metadata": {},
     "output_type": "execute_result"
    }
   ],
   "source": [
    "sometime.minute"
   ]
  },
  {
   "cell_type": "code",
   "execution_count": 16,
   "metadata": {},
   "outputs": [
    {
     "data": {
      "text/plain": [
       "44"
      ]
     },
     "execution_count": 16,
     "metadata": {},
     "output_type": "execute_result"
    }
   ],
   "source": [
    "sometime.second"
   ]
  },
  {
   "cell_type": "code",
   "execution_count": 17,
   "metadata": {},
   "outputs": [
    {
     "data": {
      "text/plain": [
       "17"
      ]
     },
     "execution_count": 17,
     "metadata": {},
     "output_type": "execute_result"
    }
   ],
   "source": [
    "sometime.hour"
   ]
  },
  {
   "cell_type": "markdown",
   "metadata": {},
   "source": [
    "# Pandas timestamp method"
   ]
  },
  {
   "cell_type": "code",
   "execution_count": 19,
   "metadata": {},
   "outputs": [
    {
     "data": {
      "text/plain": [
       "Timestamp('2015-03-31 00:00:00')"
      ]
     },
     "execution_count": 19,
     "metadata": {},
     "output_type": "execute_result"
    }
   ],
   "source": [
    "pd.Timestamp(\"2015-03-31\")"
   ]
  },
  {
   "cell_type": "code",
   "execution_count": 20,
   "metadata": {},
   "outputs": [
    {
     "data": {
      "text/plain": [
       "Timestamp('2015-03-31 00:00:00')"
      ]
     },
     "execution_count": 20,
     "metadata": {},
     "output_type": "execute_result"
    }
   ],
   "source": [
    "pd.Timestamp(\"2015/03/31\")"
   ]
  },
  {
   "cell_type": "code",
   "execution_count": 21,
   "metadata": {},
   "outputs": [
    {
     "data": {
      "text/plain": [
       "Timestamp('2013-11-04 00:00:00')"
      ]
     },
     "execution_count": 21,
     "metadata": {},
     "output_type": "execute_result"
    }
   ],
   "source": [
    "pd.Timestamp(\"2013, 11, 4\")"
   ]
  },
  {
   "cell_type": "code",
   "execution_count": 22,
   "metadata": {},
   "outputs": [
    {
     "data": {
      "text/plain": [
       "Timestamp('2015-01-01 00:00:00')"
      ]
     },
     "execution_count": 22,
     "metadata": {},
     "output_type": "execute_result"
    }
   ],
   "source": [
    "pd.Timestamp(\"1/1/2015\")"
   ]
  },
  {
   "cell_type": "code",
   "execution_count": 23,
   "metadata": {},
   "outputs": [
    {
     "data": {
      "text/plain": [
       "Timestamp('2019-12-19 00:00:00')"
      ]
     },
     "execution_count": 23,
     "metadata": {},
     "output_type": "execute_result"
    }
   ],
   "source": [
    "pd.Timestamp(\"19/12/2019\")"
   ]
  },
  {
   "cell_type": "code",
   "execution_count": 24,
   "metadata": {},
   "outputs": [
    {
     "data": {
      "text/plain": [
       "Timestamp('2019-12-19 00:00:00')"
      ]
     },
     "execution_count": 24,
     "metadata": {},
     "output_type": "execute_result"
    }
   ],
   "source": [
    "pd.Timestamp(\"12/19/2019\")"
   ]
  },
  {
   "cell_type": "code",
   "execution_count": 25,
   "metadata": {},
   "outputs": [
    {
     "data": {
      "text/plain": [
       "Timestamp('2019-04-03 00:00:00')"
      ]
     },
     "execution_count": 25,
     "metadata": {},
     "output_type": "execute_result"
    }
   ],
   "source": [
    "pd.Timestamp(\"4/3/2019\") #4 - Month, 3 - Day"
   ]
  },
  {
   "cell_type": "code",
   "execution_count": 26,
   "metadata": {},
   "outputs": [
    {
     "data": {
      "text/plain": [
       "Timestamp('2021-03-08 08:35:15')"
      ]
     },
     "execution_count": 26,
     "metadata": {},
     "output_type": "execute_result"
    }
   ],
   "source": [
    "pd.Timestamp(\"2021-03-08 08:35:15\")"
   ]
  },
  {
   "cell_type": "code",
   "execution_count": 29,
   "metadata": {},
   "outputs": [
    {
     "data": {
      "text/plain": [
       "Timestamp('2021-03-09 18:14:29')"
      ]
     },
     "execution_count": 29,
     "metadata": {},
     "output_type": "execute_result"
    }
   ],
   "source": [
    "pd.Timestamp(\"2021-03-09 6:14:29 PM\")"
   ]
  },
  {
   "cell_type": "code",
   "execution_count": 30,
   "metadata": {},
   "outputs": [
    {
     "data": {
      "text/plain": [
       "Timestamp('2015-01-01 00:00:00')"
      ]
     },
     "execution_count": 30,
     "metadata": {},
     "output_type": "execute_result"
    }
   ],
   "source": [
    "pd.Timestamp(dt.date(2015, 1, 1))"
   ]
  },
  {
   "cell_type": "code",
   "execution_count": 31,
   "metadata": {},
   "outputs": [
    {
     "data": {
      "text/plain": [
       "Timestamp('2000-02-03 14:33:44')"
      ]
     },
     "execution_count": 31,
     "metadata": {},
     "output_type": "execute_result"
    }
   ],
   "source": [
    "pd.Timestamp(dt.datetime(2000, 2, 3, 14, 33, 44))"
   ]
  },
  {
   "cell_type": "markdown",
   "metadata": {},
   "source": [
    "# The pandas datetimeindex object"
   ]
  },
  {
   "cell_type": "code",
   "execution_count": 35,
   "metadata": {},
   "outputs": [],
   "source": [
    "dates = [\"2016-01-02\", \"2018-09-03\", \"2019-4-7\"]\n",
    "dtIndex = pd.DatetimeIndex(dates)"
   ]
  },
  {
   "cell_type": "code",
   "execution_count": 36,
   "metadata": {},
   "outputs": [
    {
     "data": {
      "text/plain": [
       "pandas.core.indexes.datetimes.DatetimeIndex"
      ]
     },
     "execution_count": 36,
     "metadata": {},
     "output_type": "execute_result"
    }
   ],
   "source": [
    "type(pd.DatetimeIndex(dates))"
   ]
  },
  {
   "cell_type": "code",
   "execution_count": 37,
   "metadata": {},
   "outputs": [
    {
     "data": {
      "text/plain": [
       "2016-01-02    100\n",
       "2018-09-03    200\n",
       "2019-04-07    300\n",
       "dtype: int64"
      ]
     },
     "execution_count": 37,
     "metadata": {},
     "output_type": "execute_result"
    }
   ],
   "source": [
    "values = [100, 200, 300]\n",
    "pd.Series(data = values, index = dtIndex)"
   ]
  },
  {
   "cell_type": "markdown",
   "metadata": {},
   "source": [
    "# The pd.to_datetime method"
   ]
  },
  {
   "cell_type": "code",
   "execution_count": 38,
   "metadata": {},
   "outputs": [
    {
     "data": {
      "text/plain": [
       "Timestamp('2001-04-09 00:00:00')"
      ]
     },
     "execution_count": 38,
     "metadata": {},
     "output_type": "execute_result"
    }
   ],
   "source": [
    "pd.to_datetime(\"2001-04-09\")"
   ]
  },
  {
   "cell_type": "code",
   "execution_count": 39,
   "metadata": {},
   "outputs": [
    {
     "data": {
      "text/plain": [
       "Timestamp('2015-01-01 00:00:00')"
      ]
     },
     "execution_count": 39,
     "metadata": {},
     "output_type": "execute_result"
    }
   ],
   "source": [
    "pd.to_datetime(dt.date(2015, 1, 1))"
   ]
  },
  {
   "cell_type": "code",
   "execution_count": 40,
   "metadata": {},
   "outputs": [
    {
     "data": {
      "text/plain": [
       "Timestamp('2015-01-01 01:01:01')"
      ]
     },
     "execution_count": 40,
     "metadata": {},
     "output_type": "execute_result"
    }
   ],
   "source": [
    "pd.to_datetime(dt.datetime(2015, 1, 1, 1, 1, 1))"
   ]
  },
  {
   "cell_type": "code",
   "execution_count": 41,
   "metadata": {},
   "outputs": [
    {
     "data": {
      "text/plain": [
       "DatetimeIndex(['2019-01-03', '2013-01-01', '2016-01-01', '1996-07-04'], dtype='datetime64[ns]', freq=None)"
      ]
     },
     "execution_count": 41,
     "metadata": {},
     "output_type": "execute_result"
    }
   ],
   "source": [
    "pd.to_datetime([\"2019-01-03\", \"2013/01/01\", \"2016\", \"July 4th, 1996\"])"
   ]
  },
  {
   "cell_type": "code",
   "execution_count": 42,
   "metadata": {},
   "outputs": [
    {
     "data": {
      "text/plain": [
       "0        2019-01-03\n",
       "1        2013/01/01\n",
       "2              2016\n",
       "3    July 4th, 1996\n",
       "dtype: object"
      ]
     },
     "execution_count": 42,
     "metadata": {},
     "output_type": "execute_result"
    }
   ],
   "source": [
    "pd.Series([\"2019-01-03\", \"2013/01/01\", \"2016\", \"July 4th, 1996\"])"
   ]
  },
  {
   "cell_type": "code",
   "execution_count": 43,
   "metadata": {},
   "outputs": [],
   "source": [
    "times = pd.Series([\"2019-01-03\", \"2013/01/01\", \"2016\", \"July 4th, 1996\"])"
   ]
  },
  {
   "cell_type": "code",
   "execution_count": 45,
   "metadata": {},
   "outputs": [
    {
     "data": {
      "text/plain": [
       "0   2019-01-03\n",
       "1   2013-01-01\n",
       "2   2016-01-01\n",
       "3   1996-07-04\n",
       "dtype: datetime64[ns]"
      ]
     },
     "execution_count": 45,
     "metadata": {},
     "output_type": "execute_result"
    }
   ],
   "source": [
    "pd.to_datetime(times)"
   ]
  },
  {
   "cell_type": "code",
   "execution_count": 52,
   "metadata": {},
   "outputs": [],
   "source": [
    "dates = pd.Series([\"July 4th 1996\", \"10/05/1991\", \"Hello\", \"2015-02-31\"])"
   ]
  },
  {
   "cell_type": "code",
   "execution_count": 53,
   "metadata": {
    "collapsed": true
   },
   "outputs": [
    {
     "ename": "ValueError",
     "evalue": "('Unknown string format:', 'Hello')",
     "output_type": "error",
     "traceback": [
      "\u001b[1;31m---------------------------------------------------------------------------\u001b[0m",
      "\u001b[1;31mTypeError\u001b[0m                                 Traceback (most recent call last)",
      "\u001b[1;32mC:\\ProgramData\\Anaconda3\\lib\\site-packages\\pandas\\core\\arrays\\datetimes.py\u001b[0m in \u001b[0;36mobjects_to_datetime64ns\u001b[1;34m(data, dayfirst, yearfirst, utc, errors, require_iso8601, allow_object)\u001b[0m\n\u001b[0;32m   1978\u001b[0m         \u001b[1;32mtry\u001b[0m\u001b[1;33m:\u001b[0m\u001b[1;33m\u001b[0m\u001b[1;33m\u001b[0m\u001b[0m\n\u001b[1;32m-> 1979\u001b[1;33m             \u001b[0mvalues\u001b[0m\u001b[1;33m,\u001b[0m \u001b[0mtz_parsed\u001b[0m \u001b[1;33m=\u001b[0m \u001b[0mconversion\u001b[0m\u001b[1;33m.\u001b[0m\u001b[0mdatetime_to_datetime64\u001b[0m\u001b[1;33m(\u001b[0m\u001b[0mdata\u001b[0m\u001b[1;33m)\u001b[0m\u001b[1;33m\u001b[0m\u001b[1;33m\u001b[0m\u001b[0m\n\u001b[0m\u001b[0;32m   1980\u001b[0m             \u001b[1;31m# If tzaware, these values represent unix timestamps, so we\u001b[0m\u001b[1;33m\u001b[0m\u001b[1;33m\u001b[0m\u001b[1;33m\u001b[0m\u001b[0m\n",
      "\u001b[1;32mpandas\\_libs\\tslibs\\conversion.pyx\u001b[0m in \u001b[0;36mpandas._libs.tslibs.conversion.datetime_to_datetime64\u001b[1;34m()\u001b[0m\n",
      "\u001b[1;31mTypeError\u001b[0m: Unrecognized value type: <class 'str'>",
      "\nDuring handling of the above exception, another exception occurred:\n",
      "\u001b[1;31mValueError\u001b[0m                                Traceback (most recent call last)",
      "\u001b[1;32m<ipython-input-53-ddd2d201db8c>\u001b[0m in \u001b[0;36m<module>\u001b[1;34m\u001b[0m\n\u001b[1;32m----> 1\u001b[1;33m \u001b[0mpd\u001b[0m\u001b[1;33m.\u001b[0m\u001b[0mto_datetime\u001b[0m\u001b[1;33m(\u001b[0m\u001b[0mdates\u001b[0m\u001b[1;33m)\u001b[0m\u001b[1;33m\u001b[0m\u001b[1;33m\u001b[0m\u001b[0m\n\u001b[0m",
      "\u001b[1;32mC:\\ProgramData\\Anaconda3\\lib\\site-packages\\pandas\\util\\_decorators.py\u001b[0m in \u001b[0;36mwrapper\u001b[1;34m(*args, **kwargs)\u001b[0m\n\u001b[0;32m    206\u001b[0m                 \u001b[1;32melse\u001b[0m\u001b[1;33m:\u001b[0m\u001b[1;33m\u001b[0m\u001b[1;33m\u001b[0m\u001b[0m\n\u001b[0;32m    207\u001b[0m                     \u001b[0mkwargs\u001b[0m\u001b[1;33m[\u001b[0m\u001b[0mnew_arg_name\u001b[0m\u001b[1;33m]\u001b[0m \u001b[1;33m=\u001b[0m \u001b[0mnew_arg_value\u001b[0m\u001b[1;33m\u001b[0m\u001b[1;33m\u001b[0m\u001b[0m\n\u001b[1;32m--> 208\u001b[1;33m             \u001b[1;32mreturn\u001b[0m \u001b[0mfunc\u001b[0m\u001b[1;33m(\u001b[0m\u001b[1;33m*\u001b[0m\u001b[0margs\u001b[0m\u001b[1;33m,\u001b[0m \u001b[1;33m**\u001b[0m\u001b[0mkwargs\u001b[0m\u001b[1;33m)\u001b[0m\u001b[1;33m\u001b[0m\u001b[1;33m\u001b[0m\u001b[0m\n\u001b[0m\u001b[0;32m    209\u001b[0m \u001b[1;33m\u001b[0m\u001b[0m\n\u001b[0;32m    210\u001b[0m         \u001b[1;32mreturn\u001b[0m \u001b[0mwrapper\u001b[0m\u001b[1;33m\u001b[0m\u001b[1;33m\u001b[0m\u001b[0m\n",
      "\u001b[1;32mC:\\ProgramData\\Anaconda3\\lib\\site-packages\\pandas\\core\\tools\\datetimes.py\u001b[0m in \u001b[0;36mto_datetime\u001b[1;34m(arg, errors, dayfirst, yearfirst, utc, box, format, exact, unit, infer_datetime_format, origin, cache)\u001b[0m\n\u001b[0;32m    776\u001b[0m             \u001b[0mresult\u001b[0m \u001b[1;33m=\u001b[0m \u001b[0marg\u001b[0m\u001b[1;33m.\u001b[0m\u001b[0mmap\u001b[0m\u001b[1;33m(\u001b[0m\u001b[0mcache_array\u001b[0m\u001b[1;33m)\u001b[0m\u001b[1;33m\u001b[0m\u001b[1;33m\u001b[0m\u001b[0m\n\u001b[0;32m    777\u001b[0m         \u001b[1;32melse\u001b[0m\u001b[1;33m:\u001b[0m\u001b[1;33m\u001b[0m\u001b[1;33m\u001b[0m\u001b[0m\n\u001b[1;32m--> 778\u001b[1;33m             \u001b[0mvalues\u001b[0m \u001b[1;33m=\u001b[0m \u001b[0mconvert_listlike\u001b[0m\u001b[1;33m(\u001b[0m\u001b[0marg\u001b[0m\u001b[1;33m.\u001b[0m\u001b[0m_values\u001b[0m\u001b[1;33m,\u001b[0m \u001b[1;32mTrue\u001b[0m\u001b[1;33m,\u001b[0m \u001b[0mformat\u001b[0m\u001b[1;33m)\u001b[0m\u001b[1;33m\u001b[0m\u001b[1;33m\u001b[0m\u001b[0m\n\u001b[0m\u001b[0;32m    779\u001b[0m             \u001b[0mresult\u001b[0m \u001b[1;33m=\u001b[0m \u001b[0marg\u001b[0m\u001b[1;33m.\u001b[0m\u001b[0m_constructor\u001b[0m\u001b[1;33m(\u001b[0m\u001b[0mvalues\u001b[0m\u001b[1;33m,\u001b[0m \u001b[0mindex\u001b[0m\u001b[1;33m=\u001b[0m\u001b[0marg\u001b[0m\u001b[1;33m.\u001b[0m\u001b[0mindex\u001b[0m\u001b[1;33m,\u001b[0m \u001b[0mname\u001b[0m\u001b[1;33m=\u001b[0m\u001b[0marg\u001b[0m\u001b[1;33m.\u001b[0m\u001b[0mname\u001b[0m\u001b[1;33m)\u001b[0m\u001b[1;33m\u001b[0m\u001b[1;33m\u001b[0m\u001b[0m\n\u001b[0;32m    780\u001b[0m     \u001b[1;32melif\u001b[0m \u001b[0misinstance\u001b[0m\u001b[1;33m(\u001b[0m\u001b[0marg\u001b[0m\u001b[1;33m,\u001b[0m \u001b[1;33m(\u001b[0m\u001b[0mABCDataFrame\u001b[0m\u001b[1;33m,\u001b[0m \u001b[0mabc\u001b[0m\u001b[1;33m.\u001b[0m\u001b[0mMutableMapping\u001b[0m\u001b[1;33m)\u001b[0m\u001b[1;33m)\u001b[0m\u001b[1;33m:\u001b[0m\u001b[1;33m\u001b[0m\u001b[1;33m\u001b[0m\u001b[0m\n",
      "\u001b[1;32mC:\\ProgramData\\Anaconda3\\lib\\site-packages\\pandas\\core\\tools\\datetimes.py\u001b[0m in \u001b[0;36m_convert_listlike_datetimes\u001b[1;34m(arg, box, format, name, tz, unit, errors, infer_datetime_format, dayfirst, yearfirst, exact)\u001b[0m\n\u001b[0;32m    461\u001b[0m             \u001b[0merrors\u001b[0m\u001b[1;33m=\u001b[0m\u001b[0merrors\u001b[0m\u001b[1;33m,\u001b[0m\u001b[1;33m\u001b[0m\u001b[1;33m\u001b[0m\u001b[0m\n\u001b[0;32m    462\u001b[0m             \u001b[0mrequire_iso8601\u001b[0m\u001b[1;33m=\u001b[0m\u001b[0mrequire_iso8601\u001b[0m\u001b[1;33m,\u001b[0m\u001b[1;33m\u001b[0m\u001b[1;33m\u001b[0m\u001b[0m\n\u001b[1;32m--> 463\u001b[1;33m             \u001b[0mallow_object\u001b[0m\u001b[1;33m=\u001b[0m\u001b[1;32mTrue\u001b[0m\u001b[1;33m,\u001b[0m\u001b[1;33m\u001b[0m\u001b[1;33m\u001b[0m\u001b[0m\n\u001b[0m\u001b[0;32m    464\u001b[0m         )\n\u001b[0;32m    465\u001b[0m \u001b[1;33m\u001b[0m\u001b[0m\n",
      "\u001b[1;32mC:\\ProgramData\\Anaconda3\\lib\\site-packages\\pandas\\core\\arrays\\datetimes.py\u001b[0m in \u001b[0;36mobjects_to_datetime64ns\u001b[1;34m(data, dayfirst, yearfirst, utc, errors, require_iso8601, allow_object)\u001b[0m\n\u001b[0;32m   1982\u001b[0m             \u001b[1;32mreturn\u001b[0m \u001b[0mvalues\u001b[0m\u001b[1;33m.\u001b[0m\u001b[0mview\u001b[0m\u001b[1;33m(\u001b[0m\u001b[1;34m\"i8\"\u001b[0m\u001b[1;33m)\u001b[0m\u001b[1;33m,\u001b[0m \u001b[0mtz_parsed\u001b[0m\u001b[1;33m\u001b[0m\u001b[1;33m\u001b[0m\u001b[0m\n\u001b[0;32m   1983\u001b[0m         \u001b[1;32mexcept\u001b[0m \u001b[1;33m(\u001b[0m\u001b[0mValueError\u001b[0m\u001b[1;33m,\u001b[0m \u001b[0mTypeError\u001b[0m\u001b[1;33m)\u001b[0m\u001b[1;33m:\u001b[0m\u001b[1;33m\u001b[0m\u001b[1;33m\u001b[0m\u001b[0m\n\u001b[1;32m-> 1984\u001b[1;33m             \u001b[1;32mraise\u001b[0m \u001b[0me\u001b[0m\u001b[1;33m\u001b[0m\u001b[1;33m\u001b[0m\u001b[0m\n\u001b[0m\u001b[0;32m   1985\u001b[0m \u001b[1;33m\u001b[0m\u001b[0m\n\u001b[0;32m   1986\u001b[0m     \u001b[1;32mif\u001b[0m \u001b[0mtz_parsed\u001b[0m \u001b[1;32mis\u001b[0m \u001b[1;32mnot\u001b[0m \u001b[1;32mNone\u001b[0m\u001b[1;33m:\u001b[0m\u001b[1;33m\u001b[0m\u001b[1;33m\u001b[0m\u001b[0m\n",
      "\u001b[1;32mC:\\ProgramData\\Anaconda3\\lib\\site-packages\\pandas\\core\\arrays\\datetimes.py\u001b[0m in \u001b[0;36mobjects_to_datetime64ns\u001b[1;34m(data, dayfirst, yearfirst, utc, errors, require_iso8601, allow_object)\u001b[0m\n\u001b[0;32m   1973\u001b[0m             \u001b[0mdayfirst\u001b[0m\u001b[1;33m=\u001b[0m\u001b[0mdayfirst\u001b[0m\u001b[1;33m,\u001b[0m\u001b[1;33m\u001b[0m\u001b[1;33m\u001b[0m\u001b[0m\n\u001b[0;32m   1974\u001b[0m             \u001b[0myearfirst\u001b[0m\u001b[1;33m=\u001b[0m\u001b[0myearfirst\u001b[0m\u001b[1;33m,\u001b[0m\u001b[1;33m\u001b[0m\u001b[1;33m\u001b[0m\u001b[0m\n\u001b[1;32m-> 1975\u001b[1;33m             \u001b[0mrequire_iso8601\u001b[0m\u001b[1;33m=\u001b[0m\u001b[0mrequire_iso8601\u001b[0m\u001b[1;33m,\u001b[0m\u001b[1;33m\u001b[0m\u001b[1;33m\u001b[0m\u001b[0m\n\u001b[0m\u001b[0;32m   1976\u001b[0m         )\n\u001b[0;32m   1977\u001b[0m     \u001b[1;32mexcept\u001b[0m \u001b[0mValueError\u001b[0m \u001b[1;32mas\u001b[0m \u001b[0me\u001b[0m\u001b[1;33m:\u001b[0m\u001b[1;33m\u001b[0m\u001b[1;33m\u001b[0m\u001b[0m\n",
      "\u001b[1;32mpandas\\_libs\\tslib.pyx\u001b[0m in \u001b[0;36mpandas._libs.tslib.array_to_datetime\u001b[1;34m()\u001b[0m\n",
      "\u001b[1;32mpandas\\_libs\\tslib.pyx\u001b[0m in \u001b[0;36mpandas._libs.tslib.array_to_datetime\u001b[1;34m()\u001b[0m\n",
      "\u001b[1;32mpandas\\_libs\\tslib.pyx\u001b[0m in \u001b[0;36mpandas._libs.tslib.array_to_datetime_object\u001b[1;34m()\u001b[0m\n",
      "\u001b[1;32mpandas\\_libs\\tslib.pyx\u001b[0m in \u001b[0;36mpandas._libs.tslib.array_to_datetime_object\u001b[1;34m()\u001b[0m\n",
      "\u001b[1;32mpandas\\_libs\\tslibs\\parsing.pyx\u001b[0m in \u001b[0;36mpandas._libs.tslibs.parsing.parse_datetime_string\u001b[1;34m()\u001b[0m\n",
      "\u001b[1;32mC:\\ProgramData\\Anaconda3\\lib\\site-packages\\dateutil\\parser\\_parser.py\u001b[0m in \u001b[0;36mparse\u001b[1;34m(timestr, parserinfo, **kwargs)\u001b[0m\n\u001b[0;32m   1356\u001b[0m         \u001b[1;32mreturn\u001b[0m \u001b[0mparser\u001b[0m\u001b[1;33m(\u001b[0m\u001b[0mparserinfo\u001b[0m\u001b[1;33m)\u001b[0m\u001b[1;33m.\u001b[0m\u001b[0mparse\u001b[0m\u001b[1;33m(\u001b[0m\u001b[0mtimestr\u001b[0m\u001b[1;33m,\u001b[0m \u001b[1;33m**\u001b[0m\u001b[0mkwargs\u001b[0m\u001b[1;33m)\u001b[0m\u001b[1;33m\u001b[0m\u001b[1;33m\u001b[0m\u001b[0m\n\u001b[0;32m   1357\u001b[0m     \u001b[1;32melse\u001b[0m\u001b[1;33m:\u001b[0m\u001b[1;33m\u001b[0m\u001b[1;33m\u001b[0m\u001b[0m\n\u001b[1;32m-> 1358\u001b[1;33m         \u001b[1;32mreturn\u001b[0m \u001b[0mDEFAULTPARSER\u001b[0m\u001b[1;33m.\u001b[0m\u001b[0mparse\u001b[0m\u001b[1;33m(\u001b[0m\u001b[0mtimestr\u001b[0m\u001b[1;33m,\u001b[0m \u001b[1;33m**\u001b[0m\u001b[0mkwargs\u001b[0m\u001b[1;33m)\u001b[0m\u001b[1;33m\u001b[0m\u001b[1;33m\u001b[0m\u001b[0m\n\u001b[0m\u001b[0;32m   1359\u001b[0m \u001b[1;33m\u001b[0m\u001b[0m\n\u001b[0;32m   1360\u001b[0m \u001b[1;33m\u001b[0m\u001b[0m\n",
      "\u001b[1;32mC:\\ProgramData\\Anaconda3\\lib\\site-packages\\dateutil\\parser\\_parser.py\u001b[0m in \u001b[0;36mparse\u001b[1;34m(self, timestr, default, ignoretz, tzinfos, **kwargs)\u001b[0m\n\u001b[0;32m    647\u001b[0m \u001b[1;33m\u001b[0m\u001b[0m\n\u001b[0;32m    648\u001b[0m         \u001b[1;32mif\u001b[0m \u001b[0mres\u001b[0m \u001b[1;32mis\u001b[0m \u001b[1;32mNone\u001b[0m\u001b[1;33m:\u001b[0m\u001b[1;33m\u001b[0m\u001b[1;33m\u001b[0m\u001b[0m\n\u001b[1;32m--> 649\u001b[1;33m             \u001b[1;32mraise\u001b[0m \u001b[0mValueError\u001b[0m\u001b[1;33m(\u001b[0m\u001b[1;34m\"Unknown string format:\"\u001b[0m\u001b[1;33m,\u001b[0m \u001b[0mtimestr\u001b[0m\u001b[1;33m)\u001b[0m\u001b[1;33m\u001b[0m\u001b[1;33m\u001b[0m\u001b[0m\n\u001b[0m\u001b[0;32m    650\u001b[0m \u001b[1;33m\u001b[0m\u001b[0m\n\u001b[0;32m    651\u001b[0m         \u001b[1;32mif\u001b[0m \u001b[0mlen\u001b[0m\u001b[1;33m(\u001b[0m\u001b[0mres\u001b[0m\u001b[1;33m)\u001b[0m \u001b[1;33m==\u001b[0m \u001b[1;36m0\u001b[0m\u001b[1;33m:\u001b[0m\u001b[1;33m\u001b[0m\u001b[1;33m\u001b[0m\u001b[0m\n",
      "\u001b[1;31mValueError\u001b[0m: ('Unknown string format:', 'Hello')"
     ]
    }
   ],
   "source": [
    "pd.to_datetime(dates)"
   ]
  },
  {
   "cell_type": "code",
   "execution_count": 49,
   "metadata": {
    "collapsed": true
   },
   "outputs": [
    {
     "ename": "ValueError",
     "evalue": "('Unknown string format:', 'Hello')",
     "output_type": "error",
     "traceback": [
      "\u001b[1;31m---------------------------------------------------------------------------\u001b[0m",
      "\u001b[1;31mTypeError\u001b[0m                                 Traceback (most recent call last)",
      "\u001b[1;32mC:\\ProgramData\\Anaconda3\\lib\\site-packages\\pandas\\core\\arrays\\datetimes.py\u001b[0m in \u001b[0;36mobjects_to_datetime64ns\u001b[1;34m(data, dayfirst, yearfirst, utc, errors, require_iso8601, allow_object)\u001b[0m\n\u001b[0;32m   1978\u001b[0m         \u001b[1;32mtry\u001b[0m\u001b[1;33m:\u001b[0m\u001b[1;33m\u001b[0m\u001b[1;33m\u001b[0m\u001b[0m\n\u001b[1;32m-> 1979\u001b[1;33m             \u001b[0mvalues\u001b[0m\u001b[1;33m,\u001b[0m \u001b[0mtz_parsed\u001b[0m \u001b[1;33m=\u001b[0m \u001b[0mconversion\u001b[0m\u001b[1;33m.\u001b[0m\u001b[0mdatetime_to_datetime64\u001b[0m\u001b[1;33m(\u001b[0m\u001b[0mdata\u001b[0m\u001b[1;33m)\u001b[0m\u001b[1;33m\u001b[0m\u001b[1;33m\u001b[0m\u001b[0m\n\u001b[0m\u001b[0;32m   1980\u001b[0m             \u001b[1;31m# If tzaware, these values represent unix timestamps, so we\u001b[0m\u001b[1;33m\u001b[0m\u001b[1;33m\u001b[0m\u001b[1;33m\u001b[0m\u001b[0m\n",
      "\u001b[1;32mpandas\\_libs\\tslibs\\conversion.pyx\u001b[0m in \u001b[0;36mpandas._libs.tslibs.conversion.datetime_to_datetime64\u001b[1;34m()\u001b[0m\n",
      "\u001b[1;31mTypeError\u001b[0m: Unrecognized value type: <class 'str'>",
      "\nDuring handling of the above exception, another exception occurred:\n",
      "\u001b[1;31mValueError\u001b[0m                                Traceback (most recent call last)",
      "\u001b[1;32m<ipython-input-49-40de04691934>\u001b[0m in \u001b[0;36m<module>\u001b[1;34m\u001b[0m\n\u001b[1;32m----> 1\u001b[1;33m \u001b[0mpd\u001b[0m\u001b[1;33m.\u001b[0m\u001b[0mto_datetime\u001b[0m\u001b[1;33m(\u001b[0m\u001b[0mdates\u001b[0m\u001b[1;33m,\u001b[0m \u001b[0merrors\u001b[0m \u001b[1;33m=\u001b[0m \u001b[1;34m'raise'\u001b[0m\u001b[1;33m)\u001b[0m\u001b[1;33m\u001b[0m\u001b[1;33m\u001b[0m\u001b[0m\n\u001b[0m",
      "\u001b[1;32mC:\\ProgramData\\Anaconda3\\lib\\site-packages\\pandas\\util\\_decorators.py\u001b[0m in \u001b[0;36mwrapper\u001b[1;34m(*args, **kwargs)\u001b[0m\n\u001b[0;32m    206\u001b[0m                 \u001b[1;32melse\u001b[0m\u001b[1;33m:\u001b[0m\u001b[1;33m\u001b[0m\u001b[1;33m\u001b[0m\u001b[0m\n\u001b[0;32m    207\u001b[0m                     \u001b[0mkwargs\u001b[0m\u001b[1;33m[\u001b[0m\u001b[0mnew_arg_name\u001b[0m\u001b[1;33m]\u001b[0m \u001b[1;33m=\u001b[0m \u001b[0mnew_arg_value\u001b[0m\u001b[1;33m\u001b[0m\u001b[1;33m\u001b[0m\u001b[0m\n\u001b[1;32m--> 208\u001b[1;33m             \u001b[1;32mreturn\u001b[0m \u001b[0mfunc\u001b[0m\u001b[1;33m(\u001b[0m\u001b[1;33m*\u001b[0m\u001b[0margs\u001b[0m\u001b[1;33m,\u001b[0m \u001b[1;33m**\u001b[0m\u001b[0mkwargs\u001b[0m\u001b[1;33m)\u001b[0m\u001b[1;33m\u001b[0m\u001b[1;33m\u001b[0m\u001b[0m\n\u001b[0m\u001b[0;32m    209\u001b[0m \u001b[1;33m\u001b[0m\u001b[0m\n\u001b[0;32m    210\u001b[0m         \u001b[1;32mreturn\u001b[0m \u001b[0mwrapper\u001b[0m\u001b[1;33m\u001b[0m\u001b[1;33m\u001b[0m\u001b[0m\n",
      "\u001b[1;32mC:\\ProgramData\\Anaconda3\\lib\\site-packages\\pandas\\core\\tools\\datetimes.py\u001b[0m in \u001b[0;36mto_datetime\u001b[1;34m(arg, errors, dayfirst, yearfirst, utc, box, format, exact, unit, infer_datetime_format, origin, cache)\u001b[0m\n\u001b[0;32m    776\u001b[0m             \u001b[0mresult\u001b[0m \u001b[1;33m=\u001b[0m \u001b[0marg\u001b[0m\u001b[1;33m.\u001b[0m\u001b[0mmap\u001b[0m\u001b[1;33m(\u001b[0m\u001b[0mcache_array\u001b[0m\u001b[1;33m)\u001b[0m\u001b[1;33m\u001b[0m\u001b[1;33m\u001b[0m\u001b[0m\n\u001b[0;32m    777\u001b[0m         \u001b[1;32melse\u001b[0m\u001b[1;33m:\u001b[0m\u001b[1;33m\u001b[0m\u001b[1;33m\u001b[0m\u001b[0m\n\u001b[1;32m--> 778\u001b[1;33m             \u001b[0mvalues\u001b[0m \u001b[1;33m=\u001b[0m \u001b[0mconvert_listlike\u001b[0m\u001b[1;33m(\u001b[0m\u001b[0marg\u001b[0m\u001b[1;33m.\u001b[0m\u001b[0m_values\u001b[0m\u001b[1;33m,\u001b[0m \u001b[1;32mTrue\u001b[0m\u001b[1;33m,\u001b[0m \u001b[0mformat\u001b[0m\u001b[1;33m)\u001b[0m\u001b[1;33m\u001b[0m\u001b[1;33m\u001b[0m\u001b[0m\n\u001b[0m\u001b[0;32m    779\u001b[0m             \u001b[0mresult\u001b[0m \u001b[1;33m=\u001b[0m \u001b[0marg\u001b[0m\u001b[1;33m.\u001b[0m\u001b[0m_constructor\u001b[0m\u001b[1;33m(\u001b[0m\u001b[0mvalues\u001b[0m\u001b[1;33m,\u001b[0m \u001b[0mindex\u001b[0m\u001b[1;33m=\u001b[0m\u001b[0marg\u001b[0m\u001b[1;33m.\u001b[0m\u001b[0mindex\u001b[0m\u001b[1;33m,\u001b[0m \u001b[0mname\u001b[0m\u001b[1;33m=\u001b[0m\u001b[0marg\u001b[0m\u001b[1;33m.\u001b[0m\u001b[0mname\u001b[0m\u001b[1;33m)\u001b[0m\u001b[1;33m\u001b[0m\u001b[1;33m\u001b[0m\u001b[0m\n\u001b[0;32m    780\u001b[0m     \u001b[1;32melif\u001b[0m \u001b[0misinstance\u001b[0m\u001b[1;33m(\u001b[0m\u001b[0marg\u001b[0m\u001b[1;33m,\u001b[0m \u001b[1;33m(\u001b[0m\u001b[0mABCDataFrame\u001b[0m\u001b[1;33m,\u001b[0m \u001b[0mabc\u001b[0m\u001b[1;33m.\u001b[0m\u001b[0mMutableMapping\u001b[0m\u001b[1;33m)\u001b[0m\u001b[1;33m)\u001b[0m\u001b[1;33m:\u001b[0m\u001b[1;33m\u001b[0m\u001b[1;33m\u001b[0m\u001b[0m\n",
      "\u001b[1;32mC:\\ProgramData\\Anaconda3\\lib\\site-packages\\pandas\\core\\tools\\datetimes.py\u001b[0m in \u001b[0;36m_convert_listlike_datetimes\u001b[1;34m(arg, box, format, name, tz, unit, errors, infer_datetime_format, dayfirst, yearfirst, exact)\u001b[0m\n\u001b[0;32m    461\u001b[0m             \u001b[0merrors\u001b[0m\u001b[1;33m=\u001b[0m\u001b[0merrors\u001b[0m\u001b[1;33m,\u001b[0m\u001b[1;33m\u001b[0m\u001b[1;33m\u001b[0m\u001b[0m\n\u001b[0;32m    462\u001b[0m             \u001b[0mrequire_iso8601\u001b[0m\u001b[1;33m=\u001b[0m\u001b[0mrequire_iso8601\u001b[0m\u001b[1;33m,\u001b[0m\u001b[1;33m\u001b[0m\u001b[1;33m\u001b[0m\u001b[0m\n\u001b[1;32m--> 463\u001b[1;33m             \u001b[0mallow_object\u001b[0m\u001b[1;33m=\u001b[0m\u001b[1;32mTrue\u001b[0m\u001b[1;33m,\u001b[0m\u001b[1;33m\u001b[0m\u001b[1;33m\u001b[0m\u001b[0m\n\u001b[0m\u001b[0;32m    464\u001b[0m         )\n\u001b[0;32m    465\u001b[0m \u001b[1;33m\u001b[0m\u001b[0m\n",
      "\u001b[1;32mC:\\ProgramData\\Anaconda3\\lib\\site-packages\\pandas\\core\\arrays\\datetimes.py\u001b[0m in \u001b[0;36mobjects_to_datetime64ns\u001b[1;34m(data, dayfirst, yearfirst, utc, errors, require_iso8601, allow_object)\u001b[0m\n\u001b[0;32m   1982\u001b[0m             \u001b[1;32mreturn\u001b[0m \u001b[0mvalues\u001b[0m\u001b[1;33m.\u001b[0m\u001b[0mview\u001b[0m\u001b[1;33m(\u001b[0m\u001b[1;34m\"i8\"\u001b[0m\u001b[1;33m)\u001b[0m\u001b[1;33m,\u001b[0m \u001b[0mtz_parsed\u001b[0m\u001b[1;33m\u001b[0m\u001b[1;33m\u001b[0m\u001b[0m\n\u001b[0;32m   1983\u001b[0m         \u001b[1;32mexcept\u001b[0m \u001b[1;33m(\u001b[0m\u001b[0mValueError\u001b[0m\u001b[1;33m,\u001b[0m \u001b[0mTypeError\u001b[0m\u001b[1;33m)\u001b[0m\u001b[1;33m:\u001b[0m\u001b[1;33m\u001b[0m\u001b[1;33m\u001b[0m\u001b[0m\n\u001b[1;32m-> 1984\u001b[1;33m             \u001b[1;32mraise\u001b[0m \u001b[0me\u001b[0m\u001b[1;33m\u001b[0m\u001b[1;33m\u001b[0m\u001b[0m\n\u001b[0m\u001b[0;32m   1985\u001b[0m \u001b[1;33m\u001b[0m\u001b[0m\n\u001b[0;32m   1986\u001b[0m     \u001b[1;32mif\u001b[0m \u001b[0mtz_parsed\u001b[0m \u001b[1;32mis\u001b[0m \u001b[1;32mnot\u001b[0m \u001b[1;32mNone\u001b[0m\u001b[1;33m:\u001b[0m\u001b[1;33m\u001b[0m\u001b[1;33m\u001b[0m\u001b[0m\n",
      "\u001b[1;32mC:\\ProgramData\\Anaconda3\\lib\\site-packages\\pandas\\core\\arrays\\datetimes.py\u001b[0m in \u001b[0;36mobjects_to_datetime64ns\u001b[1;34m(data, dayfirst, yearfirst, utc, errors, require_iso8601, allow_object)\u001b[0m\n\u001b[0;32m   1973\u001b[0m             \u001b[0mdayfirst\u001b[0m\u001b[1;33m=\u001b[0m\u001b[0mdayfirst\u001b[0m\u001b[1;33m,\u001b[0m\u001b[1;33m\u001b[0m\u001b[1;33m\u001b[0m\u001b[0m\n\u001b[0;32m   1974\u001b[0m             \u001b[0myearfirst\u001b[0m\u001b[1;33m=\u001b[0m\u001b[0myearfirst\u001b[0m\u001b[1;33m,\u001b[0m\u001b[1;33m\u001b[0m\u001b[1;33m\u001b[0m\u001b[0m\n\u001b[1;32m-> 1975\u001b[1;33m             \u001b[0mrequire_iso8601\u001b[0m\u001b[1;33m=\u001b[0m\u001b[0mrequire_iso8601\u001b[0m\u001b[1;33m,\u001b[0m\u001b[1;33m\u001b[0m\u001b[1;33m\u001b[0m\u001b[0m\n\u001b[0m\u001b[0;32m   1976\u001b[0m         )\n\u001b[0;32m   1977\u001b[0m     \u001b[1;32mexcept\u001b[0m \u001b[0mValueError\u001b[0m \u001b[1;32mas\u001b[0m \u001b[0me\u001b[0m\u001b[1;33m:\u001b[0m\u001b[1;33m\u001b[0m\u001b[1;33m\u001b[0m\u001b[0m\n",
      "\u001b[1;32mpandas\\_libs\\tslib.pyx\u001b[0m in \u001b[0;36mpandas._libs.tslib.array_to_datetime\u001b[1;34m()\u001b[0m\n",
      "\u001b[1;32mpandas\\_libs\\tslib.pyx\u001b[0m in \u001b[0;36mpandas._libs.tslib.array_to_datetime\u001b[1;34m()\u001b[0m\n",
      "\u001b[1;32mpandas\\_libs\\tslib.pyx\u001b[0m in \u001b[0;36mpandas._libs.tslib.array_to_datetime_object\u001b[1;34m()\u001b[0m\n",
      "\u001b[1;32mpandas\\_libs\\tslib.pyx\u001b[0m in \u001b[0;36mpandas._libs.tslib.array_to_datetime_object\u001b[1;34m()\u001b[0m\n",
      "\u001b[1;32mpandas\\_libs\\tslibs\\parsing.pyx\u001b[0m in \u001b[0;36mpandas._libs.tslibs.parsing.parse_datetime_string\u001b[1;34m()\u001b[0m\n",
      "\u001b[1;32mC:\\ProgramData\\Anaconda3\\lib\\site-packages\\dateutil\\parser\\_parser.py\u001b[0m in \u001b[0;36mparse\u001b[1;34m(timestr, parserinfo, **kwargs)\u001b[0m\n\u001b[0;32m   1356\u001b[0m         \u001b[1;32mreturn\u001b[0m \u001b[0mparser\u001b[0m\u001b[1;33m(\u001b[0m\u001b[0mparserinfo\u001b[0m\u001b[1;33m)\u001b[0m\u001b[1;33m.\u001b[0m\u001b[0mparse\u001b[0m\u001b[1;33m(\u001b[0m\u001b[0mtimestr\u001b[0m\u001b[1;33m,\u001b[0m \u001b[1;33m**\u001b[0m\u001b[0mkwargs\u001b[0m\u001b[1;33m)\u001b[0m\u001b[1;33m\u001b[0m\u001b[1;33m\u001b[0m\u001b[0m\n\u001b[0;32m   1357\u001b[0m     \u001b[1;32melse\u001b[0m\u001b[1;33m:\u001b[0m\u001b[1;33m\u001b[0m\u001b[1;33m\u001b[0m\u001b[0m\n\u001b[1;32m-> 1358\u001b[1;33m         \u001b[1;32mreturn\u001b[0m \u001b[0mDEFAULTPARSER\u001b[0m\u001b[1;33m.\u001b[0m\u001b[0mparse\u001b[0m\u001b[1;33m(\u001b[0m\u001b[0mtimestr\u001b[0m\u001b[1;33m,\u001b[0m \u001b[1;33m**\u001b[0m\u001b[0mkwargs\u001b[0m\u001b[1;33m)\u001b[0m\u001b[1;33m\u001b[0m\u001b[1;33m\u001b[0m\u001b[0m\n\u001b[0m\u001b[0;32m   1359\u001b[0m \u001b[1;33m\u001b[0m\u001b[0m\n\u001b[0;32m   1360\u001b[0m \u001b[1;33m\u001b[0m\u001b[0m\n",
      "\u001b[1;32mC:\\ProgramData\\Anaconda3\\lib\\site-packages\\dateutil\\parser\\_parser.py\u001b[0m in \u001b[0;36mparse\u001b[1;34m(self, timestr, default, ignoretz, tzinfos, **kwargs)\u001b[0m\n\u001b[0;32m    647\u001b[0m \u001b[1;33m\u001b[0m\u001b[0m\n\u001b[0;32m    648\u001b[0m         \u001b[1;32mif\u001b[0m \u001b[0mres\u001b[0m \u001b[1;32mis\u001b[0m \u001b[1;32mNone\u001b[0m\u001b[1;33m:\u001b[0m\u001b[1;33m\u001b[0m\u001b[1;33m\u001b[0m\u001b[0m\n\u001b[1;32m--> 649\u001b[1;33m             \u001b[1;32mraise\u001b[0m \u001b[0mValueError\u001b[0m\u001b[1;33m(\u001b[0m\u001b[1;34m\"Unknown string format:\"\u001b[0m\u001b[1;33m,\u001b[0m \u001b[0mtimestr\u001b[0m\u001b[1;33m)\u001b[0m\u001b[1;33m\u001b[0m\u001b[1;33m\u001b[0m\u001b[0m\n\u001b[0m\u001b[0;32m    650\u001b[0m \u001b[1;33m\u001b[0m\u001b[0m\n\u001b[0;32m    651\u001b[0m         \u001b[1;32mif\u001b[0m \u001b[0mlen\u001b[0m\u001b[1;33m(\u001b[0m\u001b[0mres\u001b[0m\u001b[1;33m)\u001b[0m \u001b[1;33m==\u001b[0m \u001b[1;36m0\u001b[0m\u001b[1;33m:\u001b[0m\u001b[1;33m\u001b[0m\u001b[1;33m\u001b[0m\u001b[0m\n",
      "\u001b[1;31mValueError\u001b[0m: ('Unknown string format:', 'Hello')"
     ]
    }
   ],
   "source": [
    "pd.to_datetime(dates, errors = 'raise')"
   ]
  },
  {
   "cell_type": "code",
   "execution_count": 55,
   "metadata": {},
   "outputs": [
    {
     "data": {
      "text/plain": [
       "0   1996-07-04\n",
       "1   1991-10-05\n",
       "2          NaT\n",
       "3          NaT\n",
       "dtype: datetime64[ns]"
      ]
     },
     "execution_count": 55,
     "metadata": {},
     "output_type": "execute_result"
    }
   ],
   "source": [
    "pd.to_datetime(dates, errors = \"coerce\") #converts invalid values to NaT"
   ]
  },
  {
   "cell_type": "markdown",
   "metadata": {},
   "source": [
    "Can convert unix time to datetime as well "
   ]
  },
  {
   "cell_type": "markdown",
   "metadata": {},
   "source": [
    "# Create range of dates with pd.date_range() method"
   ]
  },
  {
   "cell_type": "code",
   "execution_count": 56,
   "metadata": {},
   "outputs": [
    {
     "data": {
      "text/plain": [
       "DatetimeIndex(['2016-01-01', '2016-01-02', '2016-01-03', '2016-01-04',\n",
       "               '2016-01-05', '2016-01-06', '2016-01-07', '2016-01-08',\n",
       "               '2016-01-09', '2016-01-10'],\n",
       "              dtype='datetime64[ns]', freq='D')"
      ]
     },
     "execution_count": 56,
     "metadata": {},
     "output_type": "execute_result"
    }
   ],
   "source": [
    "pd.date_range(start = \"2016-01-01\", end = \"2016-01-10\", freq = \"D\")"
   ]
  },
  {
   "cell_type": "code",
   "execution_count": 57,
   "metadata": {},
   "outputs": [],
   "source": [
    "times = pd.date_range(start = \"2016-01-01\", end = \"2016-01-10\", freq = \"D\")"
   ]
  },
  {
   "cell_type": "code",
   "execution_count": 58,
   "metadata": {},
   "outputs": [
    {
     "data": {
      "text/plain": [
       "Timestamp('2016-01-01 00:00:00', freq='D')"
      ]
     },
     "execution_count": 58,
     "metadata": {},
     "output_type": "execute_result"
    }
   ],
   "source": [
    "times[0]"
   ]
  },
  {
   "cell_type": "code",
   "execution_count": 59,
   "metadata": {},
   "outputs": [
    {
     "data": {
      "text/plain": [
       "Timestamp('2016-01-10 00:00:00', freq='D')"
      ]
     },
     "execution_count": 59,
     "metadata": {},
     "output_type": "execute_result"
    }
   ],
   "source": [
    "times [9]"
   ]
  },
  {
   "cell_type": "code",
   "execution_count": 61,
   "metadata": {},
   "outputs": [
    {
     "data": {
      "text/plain": [
       "Timestamp('2016-01-02 00:00:00', freq='D')"
      ]
     },
     "execution_count": 61,
     "metadata": {},
     "output_type": "execute_result"
    }
   ],
   "source": [
    "times[1]"
   ]
  },
  {
   "cell_type": "code",
   "execution_count": 62,
   "metadata": {},
   "outputs": [],
   "source": [
    "times = pd.date_range(start = \"2016-01-01\", end = \"2016-01-10\", freq = \"2D\")"
   ]
  },
  {
   "cell_type": "code",
   "execution_count": 63,
   "metadata": {},
   "outputs": [
    {
     "data": {
      "text/plain": [
       "DatetimeIndex(['2016-01-01', '2016-01-03', '2016-01-05', '2016-01-07',\n",
       "               '2016-01-09'],\n",
       "              dtype='datetime64[ns]', freq='2D')"
      ]
     },
     "execution_count": 63,
     "metadata": {},
     "output_type": "execute_result"
    }
   ],
   "source": [
    "times"
   ]
  },
  {
   "cell_type": "code",
   "execution_count": 66,
   "metadata": {},
   "outputs": [],
   "source": [
    "times = pd.date_range(start = \"2016-01-01\", end = \"2016-01-10\", freq = \"B\") #business days, weekdays"
   ]
  },
  {
   "cell_type": "code",
   "execution_count": 67,
   "metadata": {},
   "outputs": [
    {
     "data": {
      "text/plain": [
       "DatetimeIndex(['2016-01-01', '2016-01-04', '2016-01-05', '2016-01-06',\n",
       "               '2016-01-07', '2016-01-08'],\n",
       "              dtype='datetime64[ns]', freq='B')"
      ]
     },
     "execution_count": 67,
     "metadata": {},
     "output_type": "execute_result"
    }
   ],
   "source": [
    "times"
   ]
  },
  {
   "cell_type": "code",
   "execution_count": 70,
   "metadata": {},
   "outputs": [],
   "source": [
    "times = pd.date_range(start = \"2016-01-01\", end = \"2016-01-15\", freq = \"W\") #weekly - Sunday"
   ]
  },
  {
   "cell_type": "code",
   "execution_count": 71,
   "metadata": {},
   "outputs": [
    {
     "data": {
      "text/plain": [
       "DatetimeIndex(['2016-01-03', '2016-01-10'], dtype='datetime64[ns]', freq='W-SUN')"
      ]
     },
     "execution_count": 71,
     "metadata": {},
     "output_type": "execute_result"
    }
   ],
   "source": [
    "times"
   ]
  },
  {
   "cell_type": "code",
   "execution_count": 72,
   "metadata": {},
   "outputs": [],
   "source": [
    "times = pd.date_range(start = \"2016-01-01\", end = \"2016-01-10\", freq = \"W-MON\")"
   ]
  },
  {
   "cell_type": "code",
   "execution_count": 73,
   "metadata": {},
   "outputs": [
    {
     "data": {
      "text/plain": [
       "DatetimeIndex(['2016-01-04'], dtype='datetime64[ns]', freq='W-MON')"
      ]
     },
     "execution_count": 73,
     "metadata": {},
     "output_type": "execute_result"
    }
   ],
   "source": [
    "times"
   ]
  },
  {
   "cell_type": "code",
   "execution_count": 76,
   "metadata": {},
   "outputs": [],
   "source": [
    "times = pd.date_range(start = \"2016-01-01\", end = \"2016-01-10\", freq = \"H\") #hours"
   ]
  },
  {
   "cell_type": "code",
   "execution_count": 77,
   "metadata": {},
   "outputs": [
    {
     "data": {
      "text/plain": [
       "DatetimeIndex(['2016-01-01 00:00:00', '2016-01-01 01:00:00',\n",
       "               '2016-01-01 02:00:00', '2016-01-01 03:00:00',\n",
       "               '2016-01-01 04:00:00', '2016-01-01 05:00:00',\n",
       "               '2016-01-01 06:00:00', '2016-01-01 07:00:00',\n",
       "               '2016-01-01 08:00:00', '2016-01-01 09:00:00',\n",
       "               ...\n",
       "               '2016-01-09 15:00:00', '2016-01-09 16:00:00',\n",
       "               '2016-01-09 17:00:00', '2016-01-09 18:00:00',\n",
       "               '2016-01-09 19:00:00', '2016-01-09 20:00:00',\n",
       "               '2016-01-09 21:00:00', '2016-01-09 22:00:00',\n",
       "               '2016-01-09 23:00:00', '2016-01-10 00:00:00'],\n",
       "              dtype='datetime64[ns]', length=217, freq='H')"
      ]
     },
     "execution_count": 77,
     "metadata": {},
     "output_type": "execute_result"
    }
   ],
   "source": [
    "times"
   ]
  },
  {
   "cell_type": "code",
   "execution_count": 78,
   "metadata": {},
   "outputs": [],
   "source": [
    "times = pd.date_range(start = \"2016-01-01\", end = \"2016-01-10\", freq = \"6H\")"
   ]
  },
  {
   "cell_type": "code",
   "execution_count": 79,
   "metadata": {},
   "outputs": [
    {
     "data": {
      "text/plain": [
       "DatetimeIndex(['2016-01-01 00:00:00', '2016-01-01 06:00:00',\n",
       "               '2016-01-01 12:00:00', '2016-01-01 18:00:00',\n",
       "               '2016-01-02 00:00:00', '2016-01-02 06:00:00',\n",
       "               '2016-01-02 12:00:00', '2016-01-02 18:00:00',\n",
       "               '2016-01-03 00:00:00', '2016-01-03 06:00:00',\n",
       "               '2016-01-03 12:00:00', '2016-01-03 18:00:00',\n",
       "               '2016-01-04 00:00:00', '2016-01-04 06:00:00',\n",
       "               '2016-01-04 12:00:00', '2016-01-04 18:00:00',\n",
       "               '2016-01-05 00:00:00', '2016-01-05 06:00:00',\n",
       "               '2016-01-05 12:00:00', '2016-01-05 18:00:00',\n",
       "               '2016-01-06 00:00:00', '2016-01-06 06:00:00',\n",
       "               '2016-01-06 12:00:00', '2016-01-06 18:00:00',\n",
       "               '2016-01-07 00:00:00', '2016-01-07 06:00:00',\n",
       "               '2016-01-07 12:00:00', '2016-01-07 18:00:00',\n",
       "               '2016-01-08 00:00:00', '2016-01-08 06:00:00',\n",
       "               '2016-01-08 12:00:00', '2016-01-08 18:00:00',\n",
       "               '2016-01-09 00:00:00', '2016-01-09 06:00:00',\n",
       "               '2016-01-09 12:00:00', '2016-01-09 18:00:00',\n",
       "               '2016-01-10 00:00:00'],\n",
       "              dtype='datetime64[ns]', freq='6H')"
      ]
     },
     "execution_count": 79,
     "metadata": {},
     "output_type": "execute_result"
    }
   ],
   "source": [
    "times"
   ]
  },
  {
   "cell_type": "code",
   "execution_count": 80,
   "metadata": {},
   "outputs": [],
   "source": [
    "times = pd.date_range(start = \"2016-01-01\", end = \"2016-01-31\", freq = \"M\") #Month ends"
   ]
  },
  {
   "cell_type": "code",
   "execution_count": 81,
   "metadata": {},
   "outputs": [
    {
     "data": {
      "text/plain": [
       "DatetimeIndex(['2016-01-31'], dtype='datetime64[ns]', freq='M')"
      ]
     },
     "execution_count": 81,
     "metadata": {},
     "output_type": "execute_result"
    }
   ],
   "source": [
    "times"
   ]
  },
  {
   "cell_type": "code",
   "execution_count": 82,
   "metadata": {},
   "outputs": [],
   "source": [
    "times = pd.date_range(start = \"2016-01-01\", end = \"2050-01-10\", freq = \"A\") #last day of each year"
   ]
  },
  {
   "cell_type": "code",
   "execution_count": 83,
   "metadata": {},
   "outputs": [
    {
     "data": {
      "text/plain": [
       "DatetimeIndex(['2016-12-31', '2017-12-31', '2018-12-31', '2019-12-31',\n",
       "               '2020-12-31', '2021-12-31', '2022-12-31', '2023-12-31',\n",
       "               '2024-12-31', '2025-12-31', '2026-12-31', '2027-12-31',\n",
       "               '2028-12-31', '2029-12-31', '2030-12-31', '2031-12-31',\n",
       "               '2032-12-31', '2033-12-31', '2034-12-31', '2035-12-31',\n",
       "               '2036-12-31', '2037-12-31', '2038-12-31', '2039-12-31',\n",
       "               '2040-12-31', '2041-12-31', '2042-12-31', '2043-12-31',\n",
       "               '2044-12-31', '2045-12-31', '2046-12-31', '2047-12-31',\n",
       "               '2048-12-31', '2049-12-31'],\n",
       "              dtype='datetime64[ns]', freq='A-DEC')"
      ]
     },
     "execution_count": 83,
     "metadata": {},
     "output_type": "execute_result"
    }
   ],
   "source": [
    "times"
   ]
  },
  {
   "cell_type": "code",
   "execution_count": 84,
   "metadata": {},
   "outputs": [
    {
     "data": {
      "text/plain": [
       "DatetimeIndex(['2012-09-09', '2012-09-10', '2012-09-11', '2012-09-12',\n",
       "               '2012-09-13', '2012-09-14', '2012-09-15', '2012-09-16',\n",
       "               '2012-09-17', '2012-09-18'],\n",
       "              dtype='datetime64[ns]', freq='D')"
      ]
     },
     "execution_count": 84,
     "metadata": {},
     "output_type": "execute_result"
    }
   ],
   "source": [
    "pd.date_range(start = \"2012-09-09\", periods = 10, freq = \"D\") #number of results we want to generate"
   ]
  },
  {
   "cell_type": "code",
   "execution_count": 85,
   "metadata": {},
   "outputs": [
    {
     "data": {
      "text/plain": [
       "DatetimeIndex(['2012-09-10', '2012-09-11', '2012-09-12', '2012-09-13',\n",
       "               '2012-09-14', '2012-09-17', '2012-09-18', '2012-09-19',\n",
       "               '2012-09-20', '2012-09-21'],\n",
       "              dtype='datetime64[ns]', freq='B')"
      ]
     },
     "execution_count": 85,
     "metadata": {},
     "output_type": "execute_result"
    }
   ],
   "source": [
    "pd.date_range(start = \"2012-09-09\", periods = 10, freq = \"B\") #number of results we want to generate"
   ]
  },
  {
   "cell_type": "code",
   "execution_count": 86,
   "metadata": {},
   "outputs": [
    {
     "data": {
      "text/plain": [
       "DatetimeIndex(['2012-10-01', '2012-11-01', '2012-12-01', '2013-01-01',\n",
       "               '2013-02-01', '2013-03-01', '2013-04-01', '2013-05-01',\n",
       "               '2013-06-01', '2013-07-01'],\n",
       "              dtype='datetime64[ns]', freq='MS')"
      ]
     },
     "execution_count": 86,
     "metadata": {},
     "output_type": "execute_result"
    }
   ],
   "source": [
    "pd.date_range(start = \"2012-09-09\", periods = 10, freq = \"MS\") #month starting"
   ]
  },
  {
   "cell_type": "code",
   "execution_count": 87,
   "metadata": {
    "collapsed": true
   },
   "outputs": [
    {
     "ename": "ValueError",
     "evalue": "Invalid frequency: 6HB",
     "output_type": "error",
     "traceback": [
      "\u001b[1;31m---------------------------------------------------------------------------\u001b[0m",
      "\u001b[1;31mKeyError\u001b[0m                                  Traceback (most recent call last)",
      "\u001b[1;32mC:\\ProgramData\\Anaconda3\\lib\\site-packages\\pandas\\tseries\\frequencies.py\u001b[0m in \u001b[0;36mget_offset\u001b[1;34m(name)\u001b[0m\n\u001b[0;32m    199\u001b[0m             \u001b[0msplit\u001b[0m \u001b[1;33m=\u001b[0m \u001b[0mname\u001b[0m\u001b[1;33m.\u001b[0m\u001b[0msplit\u001b[0m\u001b[1;33m(\u001b[0m\u001b[1;34m\"-\"\u001b[0m\u001b[1;33m)\u001b[0m\u001b[1;33m\u001b[0m\u001b[1;33m\u001b[0m\u001b[0m\n\u001b[1;32m--> 200\u001b[1;33m             \u001b[0mklass\u001b[0m \u001b[1;33m=\u001b[0m \u001b[0mprefix_mapping\u001b[0m\u001b[1;33m[\u001b[0m\u001b[0msplit\u001b[0m\u001b[1;33m[\u001b[0m\u001b[1;36m0\u001b[0m\u001b[1;33m]\u001b[0m\u001b[1;33m]\u001b[0m\u001b[1;33m\u001b[0m\u001b[1;33m\u001b[0m\u001b[0m\n\u001b[0m\u001b[0;32m    201\u001b[0m             \u001b[1;31m# handles case where there's no suffix (and will TypeError if too\u001b[0m\u001b[1;33m\u001b[0m\u001b[1;33m\u001b[0m\u001b[1;33m\u001b[0m\u001b[0m\n",
      "\u001b[1;31mKeyError\u001b[0m: 'HB'",
      "\nDuring handling of the above exception, another exception occurred:\n",
      "\u001b[1;31mValueError\u001b[0m                                Traceback (most recent call last)",
      "\u001b[1;32mC:\\ProgramData\\Anaconda3\\lib\\site-packages\\pandas\\tseries\\frequencies.py\u001b[0m in \u001b[0;36mto_offset\u001b[1;34m(freq)\u001b[0m\n\u001b[0;32m    166\u001b[0m                 \u001b[0mstride\u001b[0m \u001b[1;33m=\u001b[0m \u001b[0mint\u001b[0m\u001b[1;33m(\u001b[0m\u001b[0mstride\u001b[0m\u001b[1;33m)\u001b[0m\u001b[1;33m\u001b[0m\u001b[1;33m\u001b[0m\u001b[0m\n\u001b[1;32m--> 167\u001b[1;33m                 \u001b[0moffset\u001b[0m \u001b[1;33m=\u001b[0m \u001b[0mget_offset\u001b[0m\u001b[1;33m(\u001b[0m\u001b[0mname\u001b[0m\u001b[1;33m)\u001b[0m\u001b[1;33m\u001b[0m\u001b[1;33m\u001b[0m\u001b[0m\n\u001b[0m\u001b[0;32m    168\u001b[0m                 \u001b[0moffset\u001b[0m \u001b[1;33m=\u001b[0m \u001b[0moffset\u001b[0m \u001b[1;33m*\u001b[0m \u001b[0mint\u001b[0m\u001b[1;33m(\u001b[0m\u001b[0mnp\u001b[0m\u001b[1;33m.\u001b[0m\u001b[0mfabs\u001b[0m\u001b[1;33m(\u001b[0m\u001b[0mstride\u001b[0m\u001b[1;33m)\u001b[0m \u001b[1;33m*\u001b[0m \u001b[0mstride_sign\u001b[0m\u001b[1;33m)\u001b[0m\u001b[1;33m\u001b[0m\u001b[1;33m\u001b[0m\u001b[0m\n",
      "\u001b[1;32mC:\\ProgramData\\Anaconda3\\lib\\site-packages\\pandas\\tseries\\frequencies.py\u001b[0m in \u001b[0;36mget_offset\u001b[1;34m(name)\u001b[0m\n\u001b[0;32m    205\u001b[0m             \u001b[1;31m# bad prefix or suffix\u001b[0m\u001b[1;33m\u001b[0m\u001b[1;33m\u001b[0m\u001b[1;33m\u001b[0m\u001b[0m\n\u001b[1;32m--> 206\u001b[1;33m             \u001b[1;32mraise\u001b[0m \u001b[0mValueError\u001b[0m\u001b[1;33m(\u001b[0m\u001b[0mlibfreqs\u001b[0m\u001b[1;33m.\u001b[0m\u001b[0mINVALID_FREQ_ERR_MSG\u001b[0m\u001b[1;33m.\u001b[0m\u001b[0mformat\u001b[0m\u001b[1;33m(\u001b[0m\u001b[0mname\u001b[0m\u001b[1;33m)\u001b[0m\u001b[1;33m)\u001b[0m\u001b[1;33m\u001b[0m\u001b[1;33m\u001b[0m\u001b[0m\n\u001b[0m\u001b[0;32m    207\u001b[0m         \u001b[1;31m# cache\u001b[0m\u001b[1;33m\u001b[0m\u001b[1;33m\u001b[0m\u001b[1;33m\u001b[0m\u001b[0m\n",
      "\u001b[1;31mValueError\u001b[0m: Invalid frequency: HB",
      "\nDuring handling of the above exception, another exception occurred:\n",
      "\u001b[1;31mValueError\u001b[0m                                Traceback (most recent call last)",
      "\u001b[1;32m<ipython-input-87-cdd5bafa2a74>\u001b[0m in \u001b[0;36m<module>\u001b[1;34m\u001b[0m\n\u001b[1;32m----> 1\u001b[1;33m \u001b[0mpd\u001b[0m\u001b[1;33m.\u001b[0m\u001b[0mdate_range\u001b[0m\u001b[1;33m(\u001b[0m\u001b[0mstart\u001b[0m \u001b[1;33m=\u001b[0m \u001b[1;34m\"2012-09-09\"\u001b[0m\u001b[1;33m,\u001b[0m \u001b[0mperiods\u001b[0m \u001b[1;33m=\u001b[0m \u001b[1;36m10\u001b[0m\u001b[1;33m,\u001b[0m \u001b[0mfreq\u001b[0m \u001b[1;33m=\u001b[0m \u001b[1;34m\"6HB\"\u001b[0m\u001b[1;33m)\u001b[0m \u001b[1;31m#number of results we want to generate\u001b[0m\u001b[1;33m\u001b[0m\u001b[1;33m\u001b[0m\u001b[0m\n\u001b[0m",
      "\u001b[1;32mC:\\ProgramData\\Anaconda3\\lib\\site-packages\\pandas\\core\\indexes\\datetimes.py\u001b[0m in \u001b[0;36mdate_range\u001b[1;34m(start, end, periods, freq, tz, normalize, name, closed, **kwargs)\u001b[0m\n\u001b[0;32m   1583\u001b[0m         \u001b[0mnormalize\u001b[0m\u001b[1;33m=\u001b[0m\u001b[0mnormalize\u001b[0m\u001b[1;33m,\u001b[0m\u001b[1;33m\u001b[0m\u001b[1;33m\u001b[0m\u001b[0m\n\u001b[0;32m   1584\u001b[0m         \u001b[0mclosed\u001b[0m\u001b[1;33m=\u001b[0m\u001b[0mclosed\u001b[0m\u001b[1;33m,\u001b[0m\u001b[1;33m\u001b[0m\u001b[1;33m\u001b[0m\u001b[0m\n\u001b[1;32m-> 1585\u001b[1;33m         \u001b[1;33m**\u001b[0m\u001b[0mkwargs\u001b[0m\u001b[1;33m\u001b[0m\u001b[1;33m\u001b[0m\u001b[0m\n\u001b[0m\u001b[0;32m   1586\u001b[0m     )\n\u001b[0;32m   1587\u001b[0m     \u001b[1;32mreturn\u001b[0m \u001b[0mDatetimeIndex\u001b[0m\u001b[1;33m.\u001b[0m\u001b[0m_simple_new\u001b[0m\u001b[1;33m(\u001b[0m\u001b[0mdtarr\u001b[0m\u001b[1;33m,\u001b[0m \u001b[0mtz\u001b[0m\u001b[1;33m=\u001b[0m\u001b[0mdtarr\u001b[0m\u001b[1;33m.\u001b[0m\u001b[0mtz\u001b[0m\u001b[1;33m,\u001b[0m \u001b[0mfreq\u001b[0m\u001b[1;33m=\u001b[0m\u001b[0mdtarr\u001b[0m\u001b[1;33m.\u001b[0m\u001b[0mfreq\u001b[0m\u001b[1;33m,\u001b[0m \u001b[0mname\u001b[0m\u001b[1;33m=\u001b[0m\u001b[0mname\u001b[0m\u001b[1;33m)\u001b[0m\u001b[1;33m\u001b[0m\u001b[1;33m\u001b[0m\u001b[0m\n",
      "\u001b[1;32mC:\\ProgramData\\Anaconda3\\lib\\site-packages\\pandas\\core\\arrays\\datetimes.py\u001b[0m in \u001b[0;36m_generate_range\u001b[1;34m(cls, start, end, periods, freq, tz, normalize, ambiguous, nonexistent, closed)\u001b[0m\n\u001b[0;32m    486\u001b[0m                 \u001b[1;34m\"and freq, exactly three must be specified\"\u001b[0m\u001b[1;33m\u001b[0m\u001b[1;33m\u001b[0m\u001b[0m\n\u001b[0;32m    487\u001b[0m             )\n\u001b[1;32m--> 488\u001b[1;33m         \u001b[0mfreq\u001b[0m \u001b[1;33m=\u001b[0m \u001b[0mto_offset\u001b[0m\u001b[1;33m(\u001b[0m\u001b[0mfreq\u001b[0m\u001b[1;33m)\u001b[0m\u001b[1;33m\u001b[0m\u001b[1;33m\u001b[0m\u001b[0m\n\u001b[0m\u001b[0;32m    489\u001b[0m \u001b[1;33m\u001b[0m\u001b[0m\n\u001b[0;32m    490\u001b[0m         \u001b[1;32mif\u001b[0m \u001b[0mstart\u001b[0m \u001b[1;32mis\u001b[0m \u001b[1;32mnot\u001b[0m \u001b[1;32mNone\u001b[0m\u001b[1;33m:\u001b[0m\u001b[1;33m\u001b[0m\u001b[1;33m\u001b[0m\u001b[0m\n",
      "\u001b[1;32mC:\\ProgramData\\Anaconda3\\lib\\site-packages\\pandas\\tseries\\frequencies.py\u001b[0m in \u001b[0;36mto_offset\u001b[1;34m(freq)\u001b[0m\n\u001b[0;32m    172\u001b[0m                     \u001b[0mdelta\u001b[0m \u001b[1;33m=\u001b[0m \u001b[0mdelta\u001b[0m \u001b[1;33m+\u001b[0m \u001b[0moffset\u001b[0m\u001b[1;33m\u001b[0m\u001b[1;33m\u001b[0m\u001b[0m\n\u001b[0;32m    173\u001b[0m         \u001b[1;32mexcept\u001b[0m \u001b[0mException\u001b[0m\u001b[1;33m:\u001b[0m\u001b[1;33m\u001b[0m\u001b[1;33m\u001b[0m\u001b[0m\n\u001b[1;32m--> 174\u001b[1;33m             \u001b[1;32mraise\u001b[0m \u001b[0mValueError\u001b[0m\u001b[1;33m(\u001b[0m\u001b[0mlibfreqs\u001b[0m\u001b[1;33m.\u001b[0m\u001b[0mINVALID_FREQ_ERR_MSG\u001b[0m\u001b[1;33m.\u001b[0m\u001b[0mformat\u001b[0m\u001b[1;33m(\u001b[0m\u001b[0mfreq\u001b[0m\u001b[1;33m)\u001b[0m\u001b[1;33m)\u001b[0m\u001b[1;33m\u001b[0m\u001b[1;33m\u001b[0m\u001b[0m\n\u001b[0m\u001b[0;32m    175\u001b[0m \u001b[1;33m\u001b[0m\u001b[0m\n\u001b[0;32m    176\u001b[0m     \u001b[1;32mif\u001b[0m \u001b[0mdelta\u001b[0m \u001b[1;32mis\u001b[0m \u001b[1;32mNone\u001b[0m\u001b[1;33m:\u001b[0m\u001b[1;33m\u001b[0m\u001b[1;33m\u001b[0m\u001b[0m\n",
      "\u001b[1;31mValueError\u001b[0m: Invalid frequency: 6HB"
     ]
    }
   ],
   "source": [
    "pd.date_range(start = \"2012-09-09\", periods = 10, freq = \"6HB\") #number of results we want to generate"
   ]
  },
  {
   "cell_type": "code",
   "execution_count": 89,
   "metadata": {},
   "outputs": [
    {
     "data": {
      "text/plain": [
       "DatetimeIndex(['1999-12-12', '1999-12-13', '1999-12-14', '1999-12-15',\n",
       "               '1999-12-16', '1999-12-17', '1999-12-18', '1999-12-19',\n",
       "               '1999-12-20', '1999-12-21', '1999-12-22', '1999-12-23',\n",
       "               '1999-12-24', '1999-12-25', '1999-12-26', '1999-12-27',\n",
       "               '1999-12-28', '1999-12-29', '1999-12-30', '1999-12-31'],\n",
       "              dtype='datetime64[ns]', freq='D')"
      ]
     },
     "execution_count": 89,
     "metadata": {},
     "output_type": "execute_result"
    }
   ],
   "source": [
    "pd.date_range(end = \"1999-12-31\", periods = 20, freq = 'D') #move backwards towards start based on the period"
   ]
  },
  {
   "cell_type": "markdown",
   "metadata": {},
   "source": [
    "# The .dt() accessor"
   ]
  },
  {
   "cell_type": "markdown",
   "metadata": {},
   "source": [
    "Similar to .str accessor"
   ]
  },
  {
   "cell_type": "code",
   "execution_count": 91,
   "metadata": {},
   "outputs": [
    {
     "data": {
      "text/plain": [
       "DatetimeIndex(['2000-01-01', '2000-01-25', '2000-02-18', '2000-03-13',\n",
       "               '2000-04-06', '2000-04-30', '2000-05-24', '2000-06-17',\n",
       "               '2000-07-11', '2000-08-04',\n",
       "               ...\n",
       "               '2010-05-20', '2010-06-13', '2010-07-07', '2010-07-31',\n",
       "               '2010-08-24', '2010-09-17', '2010-10-11', '2010-11-04',\n",
       "               '2010-11-28', '2010-12-22'],\n",
       "              dtype='datetime64[ns]', length=168, freq='24D')"
      ]
     },
     "execution_count": 91,
     "metadata": {},
     "output_type": "execute_result"
    }
   ],
   "source": [
    "pd.date_range(start = \"2000-01-01\", end=\"2010-12-31\", freq = \"24D\")"
   ]
  },
  {
   "cell_type": "code",
   "execution_count": 92,
   "metadata": {},
   "outputs": [],
   "source": [
    "bunch_of_dates = pd.date_range(start = \"2000-01-01\", end=\"2010-12-31\", freq = \"24D\")"
   ]
  },
  {
   "cell_type": "code",
   "execution_count": 93,
   "metadata": {},
   "outputs": [
    {
     "data": {
      "text/plain": [
       "0   2000-01-01\n",
       "1   2000-01-25\n",
       "2   2000-02-18\n",
       "3   2000-03-13\n",
       "dtype: datetime64[ns]"
      ]
     },
     "execution_count": 93,
     "metadata": {},
     "output_type": "execute_result"
    }
   ],
   "source": [
    "s = pd.Series(bunch_of_dates)\n",
    "s.head(4)"
   ]
  },
  {
   "cell_type": "code",
   "execution_count": 94,
   "metadata": {},
   "outputs": [
    {
     "data": {
      "text/plain": [
       "0       1\n",
       "1      25\n",
       "2      18\n",
       "3      13\n",
       "4       6\n",
       "       ..\n",
       "163    17\n",
       "164    11\n",
       "165     4\n",
       "166    28\n",
       "167    22\n",
       "Length: 168, dtype: int64"
      ]
     },
     "execution_count": 94,
     "metadata": {},
     "output_type": "execute_result"
    }
   ],
   "source": [
    "s.dt.day"
   ]
  },
  {
   "cell_type": "markdown",
   "metadata": {},
   "source": [
    "Each value of the series will be customized"
   ]
  },
  {
   "cell_type": "code",
   "execution_count": 95,
   "metadata": {},
   "outputs": [
    {
     "data": {
      "text/plain": [
       "0       1\n",
       "1       1\n",
       "2       2\n",
       "3       3\n",
       "4       4\n",
       "       ..\n",
       "163     9\n",
       "164    10\n",
       "165    11\n",
       "166    11\n",
       "167    12\n",
       "Length: 168, dtype: int64"
      ]
     },
     "execution_count": 95,
     "metadata": {},
     "output_type": "execute_result"
    }
   ],
   "source": [
    "s.dt.month"
   ]
  },
  {
   "cell_type": "code",
   "execution_count": 96,
   "metadata": {},
   "outputs": [
    {
     "data": {
      "text/plain": [
       "0       Saturday\n",
       "1        Tuesday\n",
       "2         Friday\n",
       "3         Monday\n",
       "4       Thursday\n",
       "         ...    \n",
       "163       Friday\n",
       "164       Monday\n",
       "165     Thursday\n",
       "166       Sunday\n",
       "167    Wednesday\n",
       "Length: 168, dtype: object"
      ]
     },
     "execution_count": 96,
     "metadata": {},
     "output_type": "execute_result"
    }
   ],
   "source": [
    "s.dt.weekday_name"
   ]
  },
  {
   "cell_type": "code",
   "execution_count": 97,
   "metadata": {},
   "outputs": [
    {
     "data": {
      "text/plain": [
       "0       True\n",
       "1      False\n",
       "2      False\n",
       "3      False\n",
       "4      False\n",
       "       ...  \n",
       "163    False\n",
       "164    False\n",
       "165    False\n",
       "166    False\n",
       "167    False\n",
       "Length: 168, dtype: bool"
      ]
     },
     "execution_count": 97,
     "metadata": {},
     "output_type": "execute_result"
    }
   ],
   "source": [
    "s.dt.is_quarter_start"
   ]
  },
  {
   "cell_type": "code",
   "execution_count": 98,
   "metadata": {},
   "outputs": [
    {
     "data": {
      "text/plain": [
       "0     2000-01-01\n",
       "19    2001-04-01\n",
       "38    2002-07-01\n",
       "137   2009-01-01\n",
       "dtype: datetime64[ns]"
      ]
     },
     "execution_count": 98,
     "metadata": {},
     "output_type": "execute_result"
    }
   ],
   "source": [
    "mask = s.dt.is_quarter_start\n",
    "s[mask]"
   ]
  },
  {
   "cell_type": "markdown",
   "metadata": {},
   "source": [
    "# Import Financial daaset with pandas_datareader library"
   ]
  },
  {
   "cell_type": "code",
   "execution_count": 2,
   "metadata": {},
   "outputs": [],
   "source": [
    "from pandas_datareader import data"
   ]
  },
  {
   "cell_type": "code",
   "execution_count": 3,
   "metadata": {},
   "outputs": [
    {
     "data": {
      "text/html": [
       "<div>\n",
       "<style scoped>\n",
       "    .dataframe tbody tr th:only-of-type {\n",
       "        vertical-align: middle;\n",
       "    }\n",
       "\n",
       "    .dataframe tbody tr th {\n",
       "        vertical-align: top;\n",
       "    }\n",
       "\n",
       "    .dataframe thead th {\n",
       "        text-align: right;\n",
       "    }\n",
       "</style>\n",
       "<table border=\"1\" class=\"dataframe\">\n",
       "  <thead>\n",
       "    <tr style=\"text-align: right;\">\n",
       "      <th></th>\n",
       "      <th>High</th>\n",
       "      <th>Low</th>\n",
       "      <th>Open</th>\n",
       "      <th>Close</th>\n",
       "      <th>Volume</th>\n",
       "      <th>Adj Close</th>\n",
       "    </tr>\n",
       "    <tr>\n",
       "      <th>Date</th>\n",
       "      <th></th>\n",
       "      <th></th>\n",
       "      <th></th>\n",
       "      <th></th>\n",
       "      <th></th>\n",
       "      <th></th>\n",
       "    </tr>\n",
       "  </thead>\n",
       "  <tbody>\n",
       "    <tr>\n",
       "      <td>2010-01-04</td>\n",
       "      <td>31.100000</td>\n",
       "      <td>30.590000</td>\n",
       "      <td>30.620001</td>\n",
       "      <td>30.950001</td>\n",
       "      <td>38409100.0</td>\n",
       "      <td>24.226894</td>\n",
       "    </tr>\n",
       "    <tr>\n",
       "      <td>2010-01-05</td>\n",
       "      <td>31.100000</td>\n",
       "      <td>30.639999</td>\n",
       "      <td>30.850000</td>\n",
       "      <td>30.959999</td>\n",
       "      <td>49749600.0</td>\n",
       "      <td>24.234720</td>\n",
       "    </tr>\n",
       "    <tr>\n",
       "      <td>2010-01-06</td>\n",
       "      <td>31.080000</td>\n",
       "      <td>30.520000</td>\n",
       "      <td>30.879999</td>\n",
       "      <td>30.770000</td>\n",
       "      <td>58182400.0</td>\n",
       "      <td>24.085989</td>\n",
       "    </tr>\n",
       "    <tr>\n",
       "      <td>2010-01-07</td>\n",
       "      <td>30.700001</td>\n",
       "      <td>30.190001</td>\n",
       "      <td>30.629999</td>\n",
       "      <td>30.450001</td>\n",
       "      <td>50559700.0</td>\n",
       "      <td>23.835503</td>\n",
       "    </tr>\n",
       "    <tr>\n",
       "      <td>2010-01-08</td>\n",
       "      <td>30.879999</td>\n",
       "      <td>30.240000</td>\n",
       "      <td>30.280001</td>\n",
       "      <td>30.660000</td>\n",
       "      <td>51197400.0</td>\n",
       "      <td>23.999893</td>\n",
       "    </tr>\n",
       "    <tr>\n",
       "      <td>...</td>\n",
       "      <td>...</td>\n",
       "      <td>...</td>\n",
       "      <td>...</td>\n",
       "      <td>...</td>\n",
       "      <td>...</td>\n",
       "      <td>...</td>\n",
       "    </tr>\n",
       "    <tr>\n",
       "      <td>2020-07-27</td>\n",
       "      <td>203.970001</td>\n",
       "      <td>200.860001</td>\n",
       "      <td>201.470001</td>\n",
       "      <td>203.850006</td>\n",
       "      <td>30160900.0</td>\n",
       "      <td>203.850006</td>\n",
       "    </tr>\n",
       "    <tr>\n",
       "      <td>2020-07-28</td>\n",
       "      <td>204.699997</td>\n",
       "      <td>201.740005</td>\n",
       "      <td>203.610001</td>\n",
       "      <td>202.020004</td>\n",
       "      <td>23251400.0</td>\n",
       "      <td>202.020004</td>\n",
       "    </tr>\n",
       "    <tr>\n",
       "      <td>2020-07-29</td>\n",
       "      <td>204.649994</td>\n",
       "      <td>202.009995</td>\n",
       "      <td>202.500000</td>\n",
       "      <td>204.059998</td>\n",
       "      <td>19632600.0</td>\n",
       "      <td>204.059998</td>\n",
       "    </tr>\n",
       "    <tr>\n",
       "      <td>2020-07-30</td>\n",
       "      <td>204.460007</td>\n",
       "      <td>199.570007</td>\n",
       "      <td>201.000000</td>\n",
       "      <td>203.899994</td>\n",
       "      <td>25079600.0</td>\n",
       "      <td>203.899994</td>\n",
       "    </tr>\n",
       "    <tr>\n",
       "      <td>2020-07-31</td>\n",
       "      <td>205.100006</td>\n",
       "      <td>199.009995</td>\n",
       "      <td>204.399994</td>\n",
       "      <td>205.009995</td>\n",
       "      <td>51044000.0</td>\n",
       "      <td>205.009995</td>\n",
       "    </tr>\n",
       "  </tbody>\n",
       "</table>\n",
       "<p>2663 rows × 6 columns</p>\n",
       "</div>"
      ],
      "text/plain": [
       "                  High         Low        Open       Close      Volume  \\\n",
       "Date                                                                     \n",
       "2010-01-04   31.100000   30.590000   30.620001   30.950001  38409100.0   \n",
       "2010-01-05   31.100000   30.639999   30.850000   30.959999  49749600.0   \n",
       "2010-01-06   31.080000   30.520000   30.879999   30.770000  58182400.0   \n",
       "2010-01-07   30.700001   30.190001   30.629999   30.450001  50559700.0   \n",
       "2010-01-08   30.879999   30.240000   30.280001   30.660000  51197400.0   \n",
       "...                ...         ...         ...         ...         ...   \n",
       "2020-07-27  203.970001  200.860001  201.470001  203.850006  30160900.0   \n",
       "2020-07-28  204.699997  201.740005  203.610001  202.020004  23251400.0   \n",
       "2020-07-29  204.649994  202.009995  202.500000  204.059998  19632600.0   \n",
       "2020-07-30  204.460007  199.570007  201.000000  203.899994  25079600.0   \n",
       "2020-07-31  205.100006  199.009995  204.399994  205.009995  51044000.0   \n",
       "\n",
       "             Adj Close  \n",
       "Date                    \n",
       "2010-01-04   24.226894  \n",
       "2010-01-05   24.234720  \n",
       "2010-01-06   24.085989  \n",
       "2010-01-07   23.835503  \n",
       "2010-01-08   23.999893  \n",
       "...                ...  \n",
       "2020-07-27  203.850006  \n",
       "2020-07-28  202.020004  \n",
       "2020-07-29  204.059998  \n",
       "2020-07-30  203.899994  \n",
       "2020-07-31  205.009995  \n",
       "\n",
       "[2663 rows x 6 columns]"
      ]
     },
     "execution_count": 3,
     "metadata": {},
     "output_type": "execute_result"
    }
   ],
   "source": [
    "data.DataReader(name = \"MSFT\", data_source = \"yahoo\", start = \"2010-01-01\", end = \"2020-12-31\")"
   ]
  },
  {
   "cell_type": "code",
   "execution_count": 5,
   "metadata": {},
   "outputs": [
    {
     "data": {
      "text/html": [
       "<div>\n",
       "<style scoped>\n",
       "    .dataframe tbody tr th:only-of-type {\n",
       "        vertical-align: middle;\n",
       "    }\n",
       "\n",
       "    .dataframe tbody tr th {\n",
       "        vertical-align: top;\n",
       "    }\n",
       "\n",
       "    .dataframe thead th {\n",
       "        text-align: right;\n",
       "    }\n",
       "</style>\n",
       "<table border=\"1\" class=\"dataframe\">\n",
       "  <thead>\n",
       "    <tr style=\"text-align: right;\">\n",
       "      <th></th>\n",
       "      <th>High</th>\n",
       "      <th>Low</th>\n",
       "      <th>Open</th>\n",
       "      <th>Close</th>\n",
       "      <th>Volume</th>\n",
       "      <th>Adj Close</th>\n",
       "    </tr>\n",
       "    <tr>\n",
       "      <th>Date</th>\n",
       "      <th></th>\n",
       "      <th></th>\n",
       "      <th></th>\n",
       "      <th></th>\n",
       "      <th></th>\n",
       "      <th></th>\n",
       "    </tr>\n",
       "  </thead>\n",
       "  <tbody>\n",
       "    <tr>\n",
       "      <td>2010-01-04</td>\n",
       "      <td>9.750000</td>\n",
       "      <td>9.310000</td>\n",
       "      <td>9.43</td>\n",
       "      <td>9.730000</td>\n",
       "      <td>24670100.0</td>\n",
       "      <td>9.197938</td>\n",
       "    </tr>\n",
       "    <tr>\n",
       "      <td>2010-01-05</td>\n",
       "      <td>10.590000</td>\n",
       "      <td>9.800000</td>\n",
       "      <td>9.82</td>\n",
       "      <td>10.500000</td>\n",
       "      <td>49268000.0</td>\n",
       "      <td>9.925833</td>\n",
       "    </tr>\n",
       "    <tr>\n",
       "      <td>2010-01-06</td>\n",
       "      <td>10.450000</td>\n",
       "      <td>10.140000</td>\n",
       "      <td>10.44</td>\n",
       "      <td>10.140000</td>\n",
       "      <td>21539900.0</td>\n",
       "      <td>9.585518</td>\n",
       "    </tr>\n",
       "    <tr>\n",
       "      <td>2010-01-07</td>\n",
       "      <td>10.810000</td>\n",
       "      <td>9.980000</td>\n",
       "      <td>10.01</td>\n",
       "      <td>10.800000</td>\n",
       "      <td>30219400.0</td>\n",
       "      <td>10.209429</td>\n",
       "    </tr>\n",
       "    <tr>\n",
       "      <td>2010-01-08</td>\n",
       "      <td>10.870000</td>\n",
       "      <td>10.450000</td>\n",
       "      <td>10.70</td>\n",
       "      <td>10.600000</td>\n",
       "      <td>17728500.0</td>\n",
       "      <td>10.020366</td>\n",
       "    </tr>\n",
       "    <tr>\n",
       "      <td>...</td>\n",
       "      <td>...</td>\n",
       "      <td>...</td>\n",
       "      <td>...</td>\n",
       "      <td>...</td>\n",
       "      <td>...</td>\n",
       "      <td>...</td>\n",
       "    </tr>\n",
       "    <tr>\n",
       "      <td>2020-07-27</td>\n",
       "      <td>15.770000</td>\n",
       "      <td>14.650000</td>\n",
       "      <td>15.76</td>\n",
       "      <td>14.960000</td>\n",
       "      <td>24905900.0</td>\n",
       "      <td>14.960000</td>\n",
       "    </tr>\n",
       "    <tr>\n",
       "      <td>2020-07-28</td>\n",
       "      <td>15.820000</td>\n",
       "      <td>14.760000</td>\n",
       "      <td>14.80</td>\n",
       "      <td>15.410000</td>\n",
       "      <td>21069100.0</td>\n",
       "      <td>15.410000</td>\n",
       "    </tr>\n",
       "    <tr>\n",
       "      <td>2020-07-29</td>\n",
       "      <td>16.260000</td>\n",
       "      <td>15.570000</td>\n",
       "      <td>15.65</td>\n",
       "      <td>16.250000</td>\n",
       "      <td>21980500.0</td>\n",
       "      <td>16.250000</td>\n",
       "    </tr>\n",
       "    <tr>\n",
       "      <td>2020-07-30</td>\n",
       "      <td>16.700001</td>\n",
       "      <td>16.040001</td>\n",
       "      <td>16.18</td>\n",
       "      <td>16.639999</td>\n",
       "      <td>26814500.0</td>\n",
       "      <td>16.639999</td>\n",
       "    </tr>\n",
       "    <tr>\n",
       "      <td>2020-07-31</td>\n",
       "      <td>16.490000</td>\n",
       "      <td>15.580000</td>\n",
       "      <td>15.99</td>\n",
       "      <td>16.090000</td>\n",
       "      <td>31854500.0</td>\n",
       "      <td>16.090000</td>\n",
       "    </tr>\n",
       "  </tbody>\n",
       "</table>\n",
       "<p>2663 rows × 6 columns</p>\n",
       "</div>"
      ],
      "text/plain": [
       "                 High        Low   Open      Close      Volume  Adj Close\n",
       "Date                                                                     \n",
       "2010-01-04   9.750000   9.310000   9.43   9.730000  24670100.0   9.197938\n",
       "2010-01-05  10.590000   9.800000   9.82  10.500000  49268000.0   9.925833\n",
       "2010-01-06  10.450000  10.140000  10.44  10.140000  21539900.0   9.585518\n",
       "2010-01-07  10.810000   9.980000  10.01  10.800000  30219400.0  10.209429\n",
       "2010-01-08  10.870000  10.450000  10.70  10.600000  17728500.0  10.020366\n",
       "...               ...        ...    ...        ...         ...        ...\n",
       "2020-07-27  15.770000  14.650000  15.76  14.960000  24905900.0  14.960000\n",
       "2020-07-28  15.820000  14.760000  14.80  15.410000  21069100.0  15.410000\n",
       "2020-07-29  16.260000  15.570000  15.65  16.250000  21980500.0  16.250000\n",
       "2020-07-30  16.700001  16.040001  16.18  16.639999  26814500.0  16.639999\n",
       "2020-07-31  16.490000  15.580000  15.99  16.090000  31854500.0  16.090000\n",
       "\n",
       "[2663 rows x 6 columns]"
      ]
     },
     "execution_count": 5,
     "metadata": {},
     "output_type": "execute_result"
    }
   ],
   "source": [
    "data.DataReader(name = \"MGM\", data_source = \"yahoo\", start = \"2010-01-01\", end = \"2020-12-31\")"
   ]
  },
  {
   "cell_type": "code",
   "execution_count": 6,
   "metadata": {},
   "outputs": [
    {
     "data": {
      "text/html": [
       "<div>\n",
       "<style scoped>\n",
       "    .dataframe tbody tr th:only-of-type {\n",
       "        vertical-align: middle;\n",
       "    }\n",
       "\n",
       "    .dataframe tbody tr th {\n",
       "        vertical-align: top;\n",
       "    }\n",
       "\n",
       "    .dataframe thead th {\n",
       "        text-align: right;\n",
       "    }\n",
       "</style>\n",
       "<table border=\"1\" class=\"dataframe\">\n",
       "  <thead>\n",
       "    <tr style=\"text-align: right;\">\n",
       "      <th></th>\n",
       "      <th>High</th>\n",
       "      <th>Low</th>\n",
       "      <th>Open</th>\n",
       "      <th>Close</th>\n",
       "      <th>Volume</th>\n",
       "      <th>Adj Close</th>\n",
       "    </tr>\n",
       "    <tr>\n",
       "      <th>Date</th>\n",
       "      <th></th>\n",
       "      <th></th>\n",
       "      <th></th>\n",
       "      <th></th>\n",
       "      <th></th>\n",
       "      <th></th>\n",
       "    </tr>\n",
       "  </thead>\n",
       "  <tbody>\n",
       "    <tr>\n",
       "      <td>2010-01-04</td>\n",
       "      <td>9.75</td>\n",
       "      <td>9.31</td>\n",
       "      <td>9.43</td>\n",
       "      <td>9.73</td>\n",
       "      <td>24670100.0</td>\n",
       "      <td>9.197938</td>\n",
       "    </tr>\n",
       "    <tr>\n",
       "      <td>2010-01-05</td>\n",
       "      <td>10.59</td>\n",
       "      <td>9.80</td>\n",
       "      <td>9.82</td>\n",
       "      <td>10.50</td>\n",
       "      <td>49268000.0</td>\n",
       "      <td>9.925833</td>\n",
       "    </tr>\n",
       "    <tr>\n",
       "      <td>2010-01-06</td>\n",
       "      <td>10.45</td>\n",
       "      <td>10.14</td>\n",
       "      <td>10.44</td>\n",
       "      <td>10.14</td>\n",
       "      <td>21539900.0</td>\n",
       "      <td>9.585518</td>\n",
       "    </tr>\n",
       "    <tr>\n",
       "      <td>2010-01-07</td>\n",
       "      <td>10.81</td>\n",
       "      <td>9.98</td>\n",
       "      <td>10.01</td>\n",
       "      <td>10.80</td>\n",
       "      <td>30219400.0</td>\n",
       "      <td>10.209429</td>\n",
       "    </tr>\n",
       "  </tbody>\n",
       "</table>\n",
       "</div>"
      ],
      "text/plain": [
       "             High    Low   Open  Close      Volume  Adj Close\n",
       "Date                                                         \n",
       "2010-01-04   9.75   9.31   9.43   9.73  24670100.0   9.197938\n",
       "2010-01-05  10.59   9.80   9.82  10.50  49268000.0   9.925833\n",
       "2010-01-06  10.45  10.14  10.44  10.14  21539900.0   9.585518\n",
       "2010-01-07  10.81   9.98  10.01  10.80  30219400.0  10.209429"
      ]
     },
     "execution_count": 6,
     "metadata": {},
     "output_type": "execute_result"
    }
   ],
   "source": [
    "mgm = data.DataReader(name = \"MGM\", data_source = \"yahoo\", start = \"2010-01-01\", end = \"2020-12-31\")\n",
    "mgm.head(4)"
   ]
  },
  {
   "cell_type": "code",
   "execution_count": 8,
   "metadata": {},
   "outputs": [
    {
     "data": {
      "text/plain": [
       "array([[9.75000000e+00, 9.31000042e+00, 9.43000031e+00, 9.72999954e+00,\n",
       "        2.46701000e+07, 9.19793797e+00],\n",
       "       [1.05900002e+01, 9.80000019e+00, 9.81999969e+00, 1.05000000e+01,\n",
       "        4.92680000e+07, 9.92583275e+00],\n",
       "       [1.04499998e+01, 1.01400003e+01, 1.04399996e+01, 1.01400003e+01,\n",
       "        2.15399000e+07, 9.58551788e+00],\n",
       "       ...,\n",
       "       [1.62600002e+01, 1.55699997e+01, 1.56499996e+01, 1.62500000e+01,\n",
       "        2.19805000e+07, 1.62500000e+01],\n",
       "       [1.67000008e+01, 1.60400009e+01, 1.61800003e+01, 1.66399994e+01,\n",
       "        2.68145000e+07, 1.66399994e+01],\n",
       "       [1.64899998e+01, 1.55799999e+01, 1.59899998e+01, 1.60900002e+01,\n",
       "        3.18545000e+07, 1.60900002e+01]])"
      ]
     },
     "execution_count": 8,
     "metadata": {},
     "output_type": "execute_result"
    }
   ],
   "source": [
    "mgm.values"
   ]
  },
  {
   "cell_type": "code",
   "execution_count": 9,
   "metadata": {},
   "outputs": [
    {
     "data": {
      "text/plain": [
       "Index(['High', 'Low', 'Open', 'Close', 'Volume', 'Adj Close'], dtype='object')"
      ]
     },
     "execution_count": 9,
     "metadata": {},
     "output_type": "execute_result"
    }
   ],
   "source": [
    "mgm.columns"
   ]
  },
  {
   "cell_type": "code",
   "execution_count": 10,
   "metadata": {},
   "outputs": [
    {
     "data": {
      "text/plain": [
       "DatetimeIndex(['2010-01-04', '2010-01-05', '2010-01-06', '2010-01-07',\n",
       "               '2010-01-08', '2010-01-11', '2010-01-12', '2010-01-13',\n",
       "               '2010-01-14', '2010-01-15',\n",
       "               ...\n",
       "               '2020-07-20', '2020-07-21', '2020-07-22', '2020-07-23',\n",
       "               '2020-07-24', '2020-07-27', '2020-07-28', '2020-07-29',\n",
       "               '2020-07-30', '2020-07-31'],\n",
       "              dtype='datetime64[ns]', name='Date', length=2663, freq=None)"
      ]
     },
     "execution_count": 10,
     "metadata": {},
     "output_type": "execute_result"
    }
   ],
   "source": [
    "mgm.index"
   ]
  },
  {
   "cell_type": "code",
   "execution_count": 11,
   "metadata": {},
   "outputs": [
    {
     "data": {
      "text/plain": [
       "[DatetimeIndex(['2010-01-04', '2010-01-05', '2010-01-06', '2010-01-07',\n",
       "                '2010-01-08', '2010-01-11', '2010-01-12', '2010-01-13',\n",
       "                '2010-01-14', '2010-01-15',\n",
       "                ...\n",
       "                '2020-07-20', '2020-07-21', '2020-07-22', '2020-07-23',\n",
       "                '2020-07-24', '2020-07-27', '2020-07-28', '2020-07-29',\n",
       "                '2020-07-30', '2020-07-31'],\n",
       "               dtype='datetime64[ns]', name='Date', length=2663, freq=None),\n",
       " Index(['High', 'Low', 'Open', 'Close', 'Volume', 'Adj Close'], dtype='object')]"
      ]
     },
     "execution_count": 11,
     "metadata": {},
     "output_type": "execute_result"
    }
   ],
   "source": [
    "mgm.axes"
   ]
  },
  {
   "cell_type": "markdown",
   "metadata": {},
   "source": [
    "# Selecting rows from a df with the datetimeindex"
   ]
  },
  {
   "cell_type": "code",
   "execution_count": 23,
   "metadata": {},
   "outputs": [
    {
     "data": {
      "text/html": [
       "<div>\n",
       "<style scoped>\n",
       "    .dataframe tbody tr th:only-of-type {\n",
       "        vertical-align: middle;\n",
       "    }\n",
       "\n",
       "    .dataframe tbody tr th {\n",
       "        vertical-align: top;\n",
       "    }\n",
       "\n",
       "    .dataframe thead th {\n",
       "        text-align: right;\n",
       "    }\n",
       "</style>\n",
       "<table border=\"1\" class=\"dataframe\">\n",
       "  <thead>\n",
       "    <tr style=\"text-align: right;\">\n",
       "      <th></th>\n",
       "      <th>High</th>\n",
       "      <th>Low</th>\n",
       "      <th>Open</th>\n",
       "      <th>Close</th>\n",
       "      <th>Volume</th>\n",
       "      <th>Adj Close</th>\n",
       "    </tr>\n",
       "    <tr>\n",
       "      <th>Date</th>\n",
       "      <th></th>\n",
       "      <th></th>\n",
       "      <th></th>\n",
       "      <th></th>\n",
       "      <th></th>\n",
       "      <th></th>\n",
       "    </tr>\n",
       "  </thead>\n",
       "  <tbody>\n",
       "    <tr>\n",
       "      <td>2010-01-04</td>\n",
       "      <td>9.75</td>\n",
       "      <td>9.31</td>\n",
       "      <td>9.43</td>\n",
       "      <td>9.73</td>\n",
       "      <td>24670100.0</td>\n",
       "      <td>9.197938</td>\n",
       "    </tr>\n",
       "    <tr>\n",
       "      <td>2010-01-05</td>\n",
       "      <td>10.59</td>\n",
       "      <td>9.80</td>\n",
       "      <td>9.82</td>\n",
       "      <td>10.50</td>\n",
       "      <td>49268000.0</td>\n",
       "      <td>9.925833</td>\n",
       "    </tr>\n",
       "    <tr>\n",
       "      <td>2010-01-06</td>\n",
       "      <td>10.45</td>\n",
       "      <td>10.14</td>\n",
       "      <td>10.44</td>\n",
       "      <td>10.14</td>\n",
       "      <td>21539900.0</td>\n",
       "      <td>9.585518</td>\n",
       "    </tr>\n",
       "    <tr>\n",
       "      <td>2010-01-07</td>\n",
       "      <td>10.81</td>\n",
       "      <td>9.98</td>\n",
       "      <td>10.01</td>\n",
       "      <td>10.80</td>\n",
       "      <td>30219400.0</td>\n",
       "      <td>10.209429</td>\n",
       "    </tr>\n",
       "  </tbody>\n",
       "</table>\n",
       "</div>"
      ],
      "text/plain": [
       "             High    Low   Open  Close      Volume  Adj Close\n",
       "Date                                                         \n",
       "2010-01-04   9.75   9.31   9.43   9.73  24670100.0   9.197938\n",
       "2010-01-05  10.59   9.80   9.82  10.50  49268000.0   9.925833\n",
       "2010-01-06  10.45  10.14  10.44  10.14  21539900.0   9.585518\n",
       "2010-01-07  10.81   9.98  10.01  10.80  30219400.0  10.209429"
      ]
     },
     "execution_count": 23,
     "metadata": {},
     "output_type": "execute_result"
    }
   ],
   "source": [
    "stocks = data.DataReader(name = \"MGM\", data_source = \"yahoo\", start = \"2010-01-01\", end = \"2020-12-31\")\n",
    "stocks.head(4)"
   ]
  },
  {
   "cell_type": "code",
   "execution_count": 13,
   "metadata": {},
   "outputs": [
    {
     "data": {
      "text/plain": [
       "High         9.750000e+00\n",
       "Low          9.310000e+00\n",
       "Open         9.430000e+00\n",
       "Close        9.730000e+00\n",
       "Volume       2.467010e+07\n",
       "Adj Close    9.197938e+00\n",
       "Name: 2010-01-04 00:00:00, dtype: float64"
      ]
     },
     "execution_count": 13,
     "metadata": {},
     "output_type": "execute_result"
    }
   ],
   "source": [
    "stocks.loc[\"2010-01-04\"]"
   ]
  },
  {
   "cell_type": "code",
   "execution_count": 14,
   "metadata": {},
   "outputs": [
    {
     "data": {
      "text/plain": [
       "High         9.750000e+00\n",
       "Low          9.310000e+00\n",
       "Open         9.430000e+00\n",
       "Close        9.730000e+00\n",
       "Volume       2.467010e+07\n",
       "Adj Close    9.197938e+00\n",
       "Name: 2010-01-04 00:00:00, dtype: float64"
      ]
     },
     "execution_count": 14,
     "metadata": {},
     "output_type": "execute_result"
    }
   ],
   "source": [
    "stocks.loc[pd.Timestamp(\"2010-01-04\")]"
   ]
  },
  {
   "cell_type": "code",
   "execution_count": 15,
   "metadata": {},
   "outputs": [
    {
     "data": {
      "text/plain": [
       "High         9.750000e+00\n",
       "Low          9.310000e+00\n",
       "Open         9.430000e+00\n",
       "Close        9.730000e+00\n",
       "Volume       2.467010e+07\n",
       "Adj Close    9.197938e+00\n",
       "Name: 2010-01-04 00:00:00, dtype: float64"
      ]
     },
     "execution_count": 15,
     "metadata": {},
     "output_type": "execute_result"
    }
   ],
   "source": [
    "stocks.iloc[0]"
   ]
  },
  {
   "cell_type": "code",
   "execution_count": 17,
   "metadata": {},
   "outputs": [
    {
     "data": {
      "text/plain": [
       "High               16.49\n",
       "Low                15.58\n",
       "Open               15.99\n",
       "Close              16.09\n",
       "Volume       31854500.00\n",
       "Adj Close          16.09\n",
       "Name: 2020-07-31 00:00:00, dtype: float64"
      ]
     },
     "execution_count": 17,
     "metadata": {},
     "output_type": "execute_result"
    }
   ],
   "source": [
    "stocks.iloc[2662]"
   ]
  },
  {
   "cell_type": "code",
   "execution_count": 18,
   "metadata": {},
   "outputs": [
    {
     "data": {
      "text/plain": [
       "High               16.49\n",
       "Low                15.58\n",
       "Open               15.99\n",
       "Close              16.09\n",
       "Volume       31854500.00\n",
       "Adj Close          16.09\n",
       "Name: 2020-07-31 00:00:00, dtype: float64"
      ]
     },
     "execution_count": 18,
     "metadata": {},
     "output_type": "execute_result"
    }
   ],
   "source": [
    "stocks.iloc[-1]"
   ]
  },
  {
   "cell_type": "code",
   "execution_count": 26,
   "metadata": {},
   "outputs": [
    {
     "data": {
      "text/html": [
       "<div>\n",
       "<style scoped>\n",
       "    .dataframe tbody tr th:only-of-type {\n",
       "        vertical-align: middle;\n",
       "    }\n",
       "\n",
       "    .dataframe tbody tr th {\n",
       "        vertical-align: top;\n",
       "    }\n",
       "\n",
       "    .dataframe thead th {\n",
       "        text-align: right;\n",
       "    }\n",
       "</style>\n",
       "<table border=\"1\" class=\"dataframe\">\n",
       "  <thead>\n",
       "    <tr style=\"text-align: right;\">\n",
       "      <th></th>\n",
       "      <th>High</th>\n",
       "      <th>Low</th>\n",
       "      <th>Open</th>\n",
       "      <th>Close</th>\n",
       "      <th>Volume</th>\n",
       "      <th>Adj Close</th>\n",
       "    </tr>\n",
       "    <tr>\n",
       "      <th>Date</th>\n",
       "      <th></th>\n",
       "      <th></th>\n",
       "      <th></th>\n",
       "      <th></th>\n",
       "      <th></th>\n",
       "      <th></th>\n",
       "    </tr>\n",
       "  </thead>\n",
       "  <tbody>\n",
       "    <tr>\n",
       "      <td>2010-02-01</td>\n",
       "      <td>11.82</td>\n",
       "      <td>11.14</td>\n",
       "      <td>11.14</td>\n",
       "      <td>11.82</td>\n",
       "      <td>30873300.0</td>\n",
       "      <td>11.173653</td>\n",
       "    </tr>\n",
       "    <tr>\n",
       "      <td>2011-02-01</td>\n",
       "      <td>15.26</td>\n",
       "      <td>14.95</td>\n",
       "      <td>15.05</td>\n",
       "      <td>15.09</td>\n",
       "      <td>19639800.0</td>\n",
       "      <td>14.264842</td>\n",
       "    </tr>\n",
       "  </tbody>\n",
       "</table>\n",
       "</div>"
      ],
      "text/plain": [
       "             High    Low   Open  Close      Volume  Adj Close\n",
       "Date                                                         \n",
       "2010-02-01  11.82  11.14  11.14  11.82  30873300.0  11.173653\n",
       "2011-02-01  15.26  14.95  15.05  15.09  19639800.0  14.264842"
      ]
     },
     "execution_count": 26,
     "metadata": {},
     "output_type": "execute_result"
    }
   ],
   "source": [
    "stocks.loc[[pd.Timestamp(\"2010-02-01\"), pd.Timestamp(\"2011-02-01\")]]"
   ]
  },
  {
   "cell_type": "code",
   "execution_count": 28,
   "metadata": {},
   "outputs": [
    {
     "data": {
      "text/html": [
       "<div>\n",
       "<style scoped>\n",
       "    .dataframe tbody tr th:only-of-type {\n",
       "        vertical-align: middle;\n",
       "    }\n",
       "\n",
       "    .dataframe tbody tr th {\n",
       "        vertical-align: top;\n",
       "    }\n",
       "\n",
       "    .dataframe thead th {\n",
       "        text-align: right;\n",
       "    }\n",
       "</style>\n",
       "<table border=\"1\" class=\"dataframe\">\n",
       "  <thead>\n",
       "    <tr style=\"text-align: right;\">\n",
       "      <th></th>\n",
       "      <th>High</th>\n",
       "      <th>Low</th>\n",
       "      <th>Open</th>\n",
       "      <th>Close</th>\n",
       "      <th>Volume</th>\n",
       "      <th>Adj Close</th>\n",
       "    </tr>\n",
       "    <tr>\n",
       "      <th>Date</th>\n",
       "      <th></th>\n",
       "      <th></th>\n",
       "      <th></th>\n",
       "      <th></th>\n",
       "      <th></th>\n",
       "      <th></th>\n",
       "    </tr>\n",
       "  </thead>\n",
       "  <tbody>\n",
       "    <tr>\n",
       "      <td>2013-10-01</td>\n",
       "      <td>20.820000</td>\n",
       "      <td>20.450001</td>\n",
       "      <td>20.540001</td>\n",
       "      <td>20.740000</td>\n",
       "      <td>6501100.0</td>\n",
       "      <td>19.605881</td>\n",
       "    </tr>\n",
       "    <tr>\n",
       "      <td>2013-10-02</td>\n",
       "      <td>20.809999</td>\n",
       "      <td>20.510000</td>\n",
       "      <td>20.590000</td>\n",
       "      <td>20.700001</td>\n",
       "      <td>5332200.0</td>\n",
       "      <td>19.568075</td>\n",
       "    </tr>\n",
       "    <tr>\n",
       "      <td>2013-10-03</td>\n",
       "      <td>20.900000</td>\n",
       "      <td>20.209999</td>\n",
       "      <td>20.809999</td>\n",
       "      <td>20.580000</td>\n",
       "      <td>7717500.0</td>\n",
       "      <td>19.454632</td>\n",
       "    </tr>\n",
       "    <tr>\n",
       "      <td>2013-10-04</td>\n",
       "      <td>20.830000</td>\n",
       "      <td>20.559999</td>\n",
       "      <td>20.650000</td>\n",
       "      <td>20.590000</td>\n",
       "      <td>5332000.0</td>\n",
       "      <td>19.464088</td>\n",
       "    </tr>\n",
       "    <tr>\n",
       "      <td>2013-10-07</td>\n",
       "      <td>20.760000</td>\n",
       "      <td>20.299999</td>\n",
       "      <td>20.389999</td>\n",
       "      <td>20.379999</td>\n",
       "      <td>5298700.0</td>\n",
       "      <td>19.265568</td>\n",
       "    </tr>\n",
       "    <tr>\n",
       "      <td>2013-10-08</td>\n",
       "      <td>20.610001</td>\n",
       "      <td>19.580000</td>\n",
       "      <td>20.360001</td>\n",
       "      <td>19.940001</td>\n",
       "      <td>14126800.0</td>\n",
       "      <td>18.849630</td>\n",
       "    </tr>\n",
       "    <tr>\n",
       "      <td>2013-10-09</td>\n",
       "      <td>20.360001</td>\n",
       "      <td>19.400000</td>\n",
       "      <td>20.080000</td>\n",
       "      <td>20.030001</td>\n",
       "      <td>11756900.0</td>\n",
       "      <td>18.934710</td>\n",
       "    </tr>\n",
       "    <tr>\n",
       "      <td>2013-10-10</td>\n",
       "      <td>20.610001</td>\n",
       "      <td>20.209999</td>\n",
       "      <td>20.350000</td>\n",
       "      <td>20.340000</td>\n",
       "      <td>8145200.0</td>\n",
       "      <td>19.227758</td>\n",
       "    </tr>\n",
       "    <tr>\n",
       "      <td>2013-10-11</td>\n",
       "      <td>20.799999</td>\n",
       "      <td>20.309999</td>\n",
       "      <td>20.430000</td>\n",
       "      <td>20.459999</td>\n",
       "      <td>10386000.0</td>\n",
       "      <td>19.341194</td>\n",
       "    </tr>\n",
       "    <tr>\n",
       "      <td>2013-10-14</td>\n",
       "      <td>20.700001</td>\n",
       "      <td>20.250000</td>\n",
       "      <td>20.340000</td>\n",
       "      <td>20.590000</td>\n",
       "      <td>9076500.0</td>\n",
       "      <td>19.464088</td>\n",
       "    </tr>\n",
       "    <tr>\n",
       "      <td>2013-10-15</td>\n",
       "      <td>20.900000</td>\n",
       "      <td>20.420000</td>\n",
       "      <td>20.690001</td>\n",
       "      <td>20.559999</td>\n",
       "      <td>10488200.0</td>\n",
       "      <td>19.435728</td>\n",
       "    </tr>\n",
       "    <tr>\n",
       "      <td>2013-10-16</td>\n",
       "      <td>20.900000</td>\n",
       "      <td>20.600000</td>\n",
       "      <td>20.760000</td>\n",
       "      <td>20.690001</td>\n",
       "      <td>9206800.0</td>\n",
       "      <td>19.558619</td>\n",
       "    </tr>\n",
       "    <tr>\n",
       "      <td>2013-10-17</td>\n",
       "      <td>20.799999</td>\n",
       "      <td>20.510000</td>\n",
       "      <td>20.690001</td>\n",
       "      <td>20.780001</td>\n",
       "      <td>5647800.0</td>\n",
       "      <td>19.643698</td>\n",
       "    </tr>\n",
       "    <tr>\n",
       "      <td>2013-10-18</td>\n",
       "      <td>20.980000</td>\n",
       "      <td>20.600000</td>\n",
       "      <td>20.910000</td>\n",
       "      <td>20.690001</td>\n",
       "      <td>10605200.0</td>\n",
       "      <td>19.558619</td>\n",
       "    </tr>\n",
       "    <tr>\n",
       "      <td>2013-10-21</td>\n",
       "      <td>20.900000</td>\n",
       "      <td>20.629999</td>\n",
       "      <td>20.690001</td>\n",
       "      <td>20.770000</td>\n",
       "      <td>7928700.0</td>\n",
       "      <td>19.634245</td>\n",
       "    </tr>\n",
       "    <tr>\n",
       "      <td>2013-10-22</td>\n",
       "      <td>20.889999</td>\n",
       "      <td>20.240000</td>\n",
       "      <td>20.760000</td>\n",
       "      <td>20.570000</td>\n",
       "      <td>9893900.0</td>\n",
       "      <td>19.445181</td>\n",
       "    </tr>\n",
       "    <tr>\n",
       "      <td>2013-10-23</td>\n",
       "      <td>20.500000</td>\n",
       "      <td>20.049999</td>\n",
       "      <td>20.480000</td>\n",
       "      <td>20.059999</td>\n",
       "      <td>7053600.0</td>\n",
       "      <td>18.963066</td>\n",
       "    </tr>\n",
       "    <tr>\n",
       "      <td>2013-10-24</td>\n",
       "      <td>20.719999</td>\n",
       "      <td>20.139999</td>\n",
       "      <td>20.170000</td>\n",
       "      <td>20.639999</td>\n",
       "      <td>8131900.0</td>\n",
       "      <td>19.511351</td>\n",
       "    </tr>\n",
       "    <tr>\n",
       "      <td>2013-10-25</td>\n",
       "      <td>20.719999</td>\n",
       "      <td>20.160000</td>\n",
       "      <td>20.700001</td>\n",
       "      <td>20.309999</td>\n",
       "      <td>9061100.0</td>\n",
       "      <td>19.199396</td>\n",
       "    </tr>\n",
       "    <tr>\n",
       "      <td>2013-10-28</td>\n",
       "      <td>20.350000</td>\n",
       "      <td>19.750000</td>\n",
       "      <td>20.350000</td>\n",
       "      <td>19.950001</td>\n",
       "      <td>10051800.0</td>\n",
       "      <td>18.859083</td>\n",
       "    </tr>\n",
       "    <tr>\n",
       "      <td>2013-10-29</td>\n",
       "      <td>20.240000</td>\n",
       "      <td>19.740000</td>\n",
       "      <td>19.990000</td>\n",
       "      <td>20.219999</td>\n",
       "      <td>6861100.0</td>\n",
       "      <td>19.114317</td>\n",
       "    </tr>\n",
       "    <tr>\n",
       "      <td>2013-10-30</td>\n",
       "      <td>20.600000</td>\n",
       "      <td>20.000000</td>\n",
       "      <td>20.389999</td>\n",
       "      <td>20.290001</td>\n",
       "      <td>11382300.0</td>\n",
       "      <td>19.180490</td>\n",
       "    </tr>\n",
       "    <tr>\n",
       "      <td>2013-10-31</td>\n",
       "      <td>19.799999</td>\n",
       "      <td>18.559999</td>\n",
       "      <td>19.490000</td>\n",
       "      <td>19.040001</td>\n",
       "      <td>32907800.0</td>\n",
       "      <td>17.998848</td>\n",
       "    </tr>\n",
       "    <tr>\n",
       "      <td>2013-11-01</td>\n",
       "      <td>19.500000</td>\n",
       "      <td>18.959999</td>\n",
       "      <td>19.090000</td>\n",
       "      <td>19.299999</td>\n",
       "      <td>13830600.0</td>\n",
       "      <td>18.244627</td>\n",
       "    </tr>\n",
       "  </tbody>\n",
       "</table>\n",
       "</div>"
      ],
      "text/plain": [
       "                 High        Low       Open      Close      Volume  Adj Close\n",
       "Date                                                                         \n",
       "2013-10-01  20.820000  20.450001  20.540001  20.740000   6501100.0  19.605881\n",
       "2013-10-02  20.809999  20.510000  20.590000  20.700001   5332200.0  19.568075\n",
       "2013-10-03  20.900000  20.209999  20.809999  20.580000   7717500.0  19.454632\n",
       "2013-10-04  20.830000  20.559999  20.650000  20.590000   5332000.0  19.464088\n",
       "2013-10-07  20.760000  20.299999  20.389999  20.379999   5298700.0  19.265568\n",
       "2013-10-08  20.610001  19.580000  20.360001  19.940001  14126800.0  18.849630\n",
       "2013-10-09  20.360001  19.400000  20.080000  20.030001  11756900.0  18.934710\n",
       "2013-10-10  20.610001  20.209999  20.350000  20.340000   8145200.0  19.227758\n",
       "2013-10-11  20.799999  20.309999  20.430000  20.459999  10386000.0  19.341194\n",
       "2013-10-14  20.700001  20.250000  20.340000  20.590000   9076500.0  19.464088\n",
       "2013-10-15  20.900000  20.420000  20.690001  20.559999  10488200.0  19.435728\n",
       "2013-10-16  20.900000  20.600000  20.760000  20.690001   9206800.0  19.558619\n",
       "2013-10-17  20.799999  20.510000  20.690001  20.780001   5647800.0  19.643698\n",
       "2013-10-18  20.980000  20.600000  20.910000  20.690001  10605200.0  19.558619\n",
       "2013-10-21  20.900000  20.629999  20.690001  20.770000   7928700.0  19.634245\n",
       "2013-10-22  20.889999  20.240000  20.760000  20.570000   9893900.0  19.445181\n",
       "2013-10-23  20.500000  20.049999  20.480000  20.059999   7053600.0  18.963066\n",
       "2013-10-24  20.719999  20.139999  20.170000  20.639999   8131900.0  19.511351\n",
       "2013-10-25  20.719999  20.160000  20.700001  20.309999   9061100.0  19.199396\n",
       "2013-10-28  20.350000  19.750000  20.350000  19.950001  10051800.0  18.859083\n",
       "2013-10-29  20.240000  19.740000  19.990000  20.219999   6861100.0  19.114317\n",
       "2013-10-30  20.600000  20.000000  20.389999  20.290001  11382300.0  19.180490\n",
       "2013-10-31  19.799999  18.559999  19.490000  19.040001  32907800.0  17.998848\n",
       "2013-11-01  19.500000  18.959999  19.090000  19.299999  13830600.0  18.244627"
      ]
     },
     "execution_count": 28,
     "metadata": {},
     "output_type": "execute_result"
    }
   ],
   "source": [
    "stocks.loc[\"2013-10-01\":\"2013-11-01\"]"
   ]
  },
  {
   "cell_type": "code",
   "execution_count": 29,
   "metadata": {},
   "outputs": [
    {
     "data": {
      "text/html": [
       "<div>\n",
       "<style scoped>\n",
       "    .dataframe tbody tr th:only-of-type {\n",
       "        vertical-align: middle;\n",
       "    }\n",
       "\n",
       "    .dataframe tbody tr th {\n",
       "        vertical-align: top;\n",
       "    }\n",
       "\n",
       "    .dataframe thead th {\n",
       "        text-align: right;\n",
       "    }\n",
       "</style>\n",
       "<table border=\"1\" class=\"dataframe\">\n",
       "  <thead>\n",
       "    <tr style=\"text-align: right;\">\n",
       "      <th></th>\n",
       "      <th>High</th>\n",
       "      <th>Low</th>\n",
       "      <th>Open</th>\n",
       "      <th>Close</th>\n",
       "      <th>Volume</th>\n",
       "      <th>Adj Close</th>\n",
       "    </tr>\n",
       "    <tr>\n",
       "      <th>Date</th>\n",
       "      <th></th>\n",
       "      <th></th>\n",
       "      <th></th>\n",
       "      <th></th>\n",
       "      <th></th>\n",
       "      <th></th>\n",
       "    </tr>\n",
       "  </thead>\n",
       "  <tbody>\n",
       "    <tr>\n",
       "      <td>2013-10-01</td>\n",
       "      <td>20.820000</td>\n",
       "      <td>20.450001</td>\n",
       "      <td>20.540001</td>\n",
       "      <td>20.740000</td>\n",
       "      <td>6501100.0</td>\n",
       "      <td>19.605881</td>\n",
       "    </tr>\n",
       "    <tr>\n",
       "      <td>2013-10-02</td>\n",
       "      <td>20.809999</td>\n",
       "      <td>20.510000</td>\n",
       "      <td>20.590000</td>\n",
       "      <td>20.700001</td>\n",
       "      <td>5332200.0</td>\n",
       "      <td>19.568075</td>\n",
       "    </tr>\n",
       "    <tr>\n",
       "      <td>2013-10-03</td>\n",
       "      <td>20.900000</td>\n",
       "      <td>20.209999</td>\n",
       "      <td>20.809999</td>\n",
       "      <td>20.580000</td>\n",
       "      <td>7717500.0</td>\n",
       "      <td>19.454632</td>\n",
       "    </tr>\n",
       "    <tr>\n",
       "      <td>2013-10-04</td>\n",
       "      <td>20.830000</td>\n",
       "      <td>20.559999</td>\n",
       "      <td>20.650000</td>\n",
       "      <td>20.590000</td>\n",
       "      <td>5332000.0</td>\n",
       "      <td>19.464088</td>\n",
       "    </tr>\n",
       "    <tr>\n",
       "      <td>2013-10-07</td>\n",
       "      <td>20.760000</td>\n",
       "      <td>20.299999</td>\n",
       "      <td>20.389999</td>\n",
       "      <td>20.379999</td>\n",
       "      <td>5298700.0</td>\n",
       "      <td>19.265568</td>\n",
       "    </tr>\n",
       "  </tbody>\n",
       "</table>\n",
       "</div>"
      ],
      "text/plain": [
       "                 High        Low       Open      Close     Volume  Adj Close\n",
       "Date                                                                        \n",
       "2013-10-01  20.820000  20.450001  20.540001  20.740000  6501100.0  19.605881\n",
       "2013-10-02  20.809999  20.510000  20.590000  20.700001  5332200.0  19.568075\n",
       "2013-10-03  20.900000  20.209999  20.809999  20.580000  7717500.0  19.454632\n",
       "2013-10-04  20.830000  20.559999  20.650000  20.590000  5332000.0  19.464088\n",
       "2013-10-07  20.760000  20.299999  20.389999  20.379999  5298700.0  19.265568"
      ]
     },
     "execution_count": 29,
     "metadata": {},
     "output_type": "execute_result"
    }
   ],
   "source": [
    "stocks.truncate(before = \"2013-10-01\", after = \"2013-10-07\") #similar to slicing with before and after"
   ]
  },
  {
   "cell_type": "code",
   "execution_count": 30,
   "metadata": {},
   "outputs": [
    {
     "data": {
      "text/html": [
       "<div>\n",
       "<style scoped>\n",
       "    .dataframe tbody tr th:only-of-type {\n",
       "        vertical-align: middle;\n",
       "    }\n",
       "\n",
       "    .dataframe tbody tr th {\n",
       "        vertical-align: top;\n",
       "    }\n",
       "\n",
       "    .dataframe thead th {\n",
       "        text-align: right;\n",
       "    }\n",
       "</style>\n",
       "<table border=\"1\" class=\"dataframe\">\n",
       "  <thead>\n",
       "    <tr style=\"text-align: right;\">\n",
       "      <th></th>\n",
       "      <th>High</th>\n",
       "      <th>Low</th>\n",
       "      <th>Open</th>\n",
       "      <th>Close</th>\n",
       "      <th>Volume</th>\n",
       "      <th>Adj Close</th>\n",
       "    </tr>\n",
       "    <tr>\n",
       "      <th>Date</th>\n",
       "      <th></th>\n",
       "      <th></th>\n",
       "      <th></th>\n",
       "      <th></th>\n",
       "      <th></th>\n",
       "      <th></th>\n",
       "    </tr>\n",
       "  </thead>\n",
       "  <tbody>\n",
       "    <tr>\n",
       "      <td>2013-12-23</td>\n",
       "      <td>22.950001</td>\n",
       "      <td>22.750000</td>\n",
       "      <td>22.920000</td>\n",
       "      <td>22.870001</td>\n",
       "      <td>6849400.0</td>\n",
       "      <td>21.619411</td>\n",
       "    </tr>\n",
       "    <tr>\n",
       "      <td>2013-12-24</td>\n",
       "      <td>23.240000</td>\n",
       "      <td>22.709999</td>\n",
       "      <td>22.730000</td>\n",
       "      <td>23.080000</td>\n",
       "      <td>4453200.0</td>\n",
       "      <td>21.817928</td>\n",
       "    </tr>\n",
       "    <tr>\n",
       "      <td>2013-12-26</td>\n",
       "      <td>23.500000</td>\n",
       "      <td>23.090000</td>\n",
       "      <td>23.100000</td>\n",
       "      <td>23.240000</td>\n",
       "      <td>5950300.0</td>\n",
       "      <td>21.969181</td>\n",
       "    </tr>\n",
       "    <tr>\n",
       "      <td>2013-12-27</td>\n",
       "      <td>23.250000</td>\n",
       "      <td>23.010000</td>\n",
       "      <td>23.219999</td>\n",
       "      <td>23.150000</td>\n",
       "      <td>3449300.0</td>\n",
       "      <td>21.884098</td>\n",
       "    </tr>\n",
       "    <tr>\n",
       "      <td>2013-12-30</td>\n",
       "      <td>23.500000</td>\n",
       "      <td>23.160000</td>\n",
       "      <td>23.180000</td>\n",
       "      <td>23.379999</td>\n",
       "      <td>4937500.0</td>\n",
       "      <td>22.101524</td>\n",
       "    </tr>\n",
       "    <tr>\n",
       "      <td>2013-12-31</td>\n",
       "      <td>23.650000</td>\n",
       "      <td>23.330000</td>\n",
       "      <td>23.400000</td>\n",
       "      <td>23.520000</td>\n",
       "      <td>5222500.0</td>\n",
       "      <td>22.233868</td>\n",
       "    </tr>\n",
       "    <tr>\n",
       "      <td>2014-01-02</td>\n",
       "      <td>23.940001</td>\n",
       "      <td>23.320000</td>\n",
       "      <td>23.540001</td>\n",
       "      <td>23.719999</td>\n",
       "      <td>8408700.0</td>\n",
       "      <td>22.422930</td>\n",
       "    </tr>\n",
       "  </tbody>\n",
       "</table>\n",
       "</div>"
      ],
      "text/plain": [
       "                 High        Low       Open      Close     Volume  Adj Close\n",
       "Date                                                                        \n",
       "2013-12-23  22.950001  22.750000  22.920000  22.870001  6849400.0  21.619411\n",
       "2013-12-24  23.240000  22.709999  22.730000  23.080000  4453200.0  21.817928\n",
       "2013-12-26  23.500000  23.090000  23.100000  23.240000  5950300.0  21.969181\n",
       "2013-12-27  23.250000  23.010000  23.219999  23.150000  3449300.0  21.884098\n",
       "2013-12-30  23.500000  23.160000  23.180000  23.379999  4937500.0  22.101524\n",
       "2013-12-31  23.650000  23.330000  23.400000  23.520000  5222500.0  22.233868\n",
       "2014-01-02  23.940001  23.320000  23.540001  23.719999  8408700.0  22.422930"
      ]
     },
     "execution_count": 30,
     "metadata": {},
     "output_type": "execute_result"
    }
   ],
   "source": [
    "stocks.iloc[1000:1007] #end is exclusive"
   ]
  },
  {
   "cell_type": "code",
   "execution_count": 31,
   "metadata": {},
   "outputs": [
    {
     "data": {
      "text/plain": [
       "DatetimeIndex(['1991-04-12', '1992-04-12', '1993-04-12', '1994-04-12',\n",
       "               '1995-04-12', '1996-04-12', '1997-04-12', '1998-04-12',\n",
       "               '1999-04-12', '2000-04-12', '2001-04-12', '2002-04-12',\n",
       "               '2003-04-12', '2004-04-12', '2005-04-12', '2006-04-12',\n",
       "               '2007-04-12', '2008-04-12', '2009-04-12', '2010-04-12',\n",
       "               '2011-04-12', '2012-04-12', '2013-04-12', '2014-04-12',\n",
       "               '2015-04-12', '2016-04-12', '2017-04-12', '2018-04-12',\n",
       "               '2019-04-12', '2020-04-12'],\n",
       "              dtype='datetime64[ns]', freq='<DateOffset: years=1>')"
      ]
     },
     "execution_count": 31,
     "metadata": {},
     "output_type": "execute_result"
    }
   ],
   "source": [
    "pd.date_range(start = \"1991-04-12\", end = \"2020-12-31\", freq = pd.DateOffset(years = 1)) # will get april 12 using dateoffset"
   ]
  },
  {
   "cell_type": "code",
   "execution_count": 32,
   "metadata": {},
   "outputs": [],
   "source": [
    "birthdays = pd.date_range(start = \"1991-04-12\", end = \"2020-12-31\", freq = pd.DateOffset(years = 1)) # will get april 12 using dateoffset"
   ]
  },
  {
   "cell_type": "code",
   "execution_count": 33,
   "metadata": {},
   "outputs": [
    {
     "data": {
      "text/plain": [
       "array([False, False, False, ..., False, False, False])"
      ]
     },
     "execution_count": 33,
     "metadata": {},
     "output_type": "execute_result"
    }
   ],
   "source": [
    "stocks.index.isin(birthdays)"
   ]
  },
  {
   "cell_type": "code",
   "execution_count": 37,
   "metadata": {},
   "outputs": [
    {
     "data": {
      "text/html": [
       "<div>\n",
       "<style scoped>\n",
       "    .dataframe tbody tr th:only-of-type {\n",
       "        vertical-align: middle;\n",
       "    }\n",
       "\n",
       "    .dataframe tbody tr th {\n",
       "        vertical-align: top;\n",
       "    }\n",
       "\n",
       "    .dataframe thead th {\n",
       "        text-align: right;\n",
       "    }\n",
       "</style>\n",
       "<table border=\"1\" class=\"dataframe\">\n",
       "  <thead>\n",
       "    <tr style=\"text-align: right;\">\n",
       "      <th></th>\n",
       "      <th>High</th>\n",
       "      <th>Low</th>\n",
       "      <th>Open</th>\n",
       "      <th>Close</th>\n",
       "      <th>Volume</th>\n",
       "      <th>Adj Close</th>\n",
       "    </tr>\n",
       "    <tr>\n",
       "      <th>Date</th>\n",
       "      <th></th>\n",
       "      <th></th>\n",
       "      <th></th>\n",
       "      <th></th>\n",
       "      <th></th>\n",
       "      <th></th>\n",
       "    </tr>\n",
       "  </thead>\n",
       "  <tbody>\n",
       "    <tr>\n",
       "      <td>2010-04-12</td>\n",
       "      <td>15.540000</td>\n",
       "      <td>14.700000</td>\n",
       "      <td>14.800000</td>\n",
       "      <td>15.04</td>\n",
       "      <td>41662000.0</td>\n",
       "      <td>14.217575</td>\n",
       "    </tr>\n",
       "    <tr>\n",
       "      <td>2011-04-12</td>\n",
       "      <td>12.690000</td>\n",
       "      <td>12.410000</td>\n",
       "      <td>12.600000</td>\n",
       "      <td>12.61</td>\n",
       "      <td>16870500.0</td>\n",
       "      <td>11.920454</td>\n",
       "    </tr>\n",
       "    <tr>\n",
       "      <td>2012-04-12</td>\n",
       "      <td>14.110000</td>\n",
       "      <td>13.590000</td>\n",
       "      <td>13.610000</td>\n",
       "      <td>13.86</td>\n",
       "      <td>12690500.0</td>\n",
       "      <td>13.102100</td>\n",
       "    </tr>\n",
       "    <tr>\n",
       "      <td>2013-04-12</td>\n",
       "      <td>13.050000</td>\n",
       "      <td>12.700000</td>\n",
       "      <td>12.780000</td>\n",
       "      <td>13.04</td>\n",
       "      <td>5516400.0</td>\n",
       "      <td>12.326939</td>\n",
       "    </tr>\n",
       "    <tr>\n",
       "      <td>2016-04-12</td>\n",
       "      <td>22.750000</td>\n",
       "      <td>22.010000</td>\n",
       "      <td>22.070000</td>\n",
       "      <td>22.65</td>\n",
       "      <td>6212500.0</td>\n",
       "      <td>21.411440</td>\n",
       "    </tr>\n",
       "    <tr>\n",
       "      <td>2017-04-12</td>\n",
       "      <td>27.840000</td>\n",
       "      <td>27.490000</td>\n",
       "      <td>27.690001</td>\n",
       "      <td>27.57</td>\n",
       "      <td>3059500.0</td>\n",
       "      <td>26.174257</td>\n",
       "    </tr>\n",
       "    <tr>\n",
       "      <td>2018-04-12</td>\n",
       "      <td>35.669998</td>\n",
       "      <td>33.650002</td>\n",
       "      <td>33.810001</td>\n",
       "      <td>34.93</td>\n",
       "      <td>16895200.0</td>\n",
       "      <td>33.608543</td>\n",
       "    </tr>\n",
       "    <tr>\n",
       "      <td>2019-04-12</td>\n",
       "      <td>27.600000</td>\n",
       "      <td>26.990000</td>\n",
       "      <td>27.250000</td>\n",
       "      <td>27.35</td>\n",
       "      <td>5230400.0</td>\n",
       "      <td>26.779419</td>\n",
       "    </tr>\n",
       "  </tbody>\n",
       "</table>\n",
       "</div>"
      ],
      "text/plain": [
       "                 High        Low       Open  Close      Volume  Adj Close\n",
       "Date                                                                     \n",
       "2010-04-12  15.540000  14.700000  14.800000  15.04  41662000.0  14.217575\n",
       "2011-04-12  12.690000  12.410000  12.600000  12.61  16870500.0  11.920454\n",
       "2012-04-12  14.110000  13.590000  13.610000  13.86  12690500.0  13.102100\n",
       "2013-04-12  13.050000  12.700000  12.780000  13.04   5516400.0  12.326939\n",
       "2016-04-12  22.750000  22.010000  22.070000  22.65   6212500.0  21.411440\n",
       "2017-04-12  27.840000  27.490000  27.690001  27.57   3059500.0  26.174257\n",
       "2018-04-12  35.669998  33.650002  33.810001  34.93  16895200.0  33.608543\n",
       "2019-04-12  27.600000  26.990000  27.250000  27.35   5230400.0  26.779419"
      ]
     },
     "execution_count": 37,
     "metadata": {},
     "output_type": "execute_result"
    }
   ],
   "source": [
    "mask = stocks.index.isin(birthdays)\n",
    "stocks[mask]"
   ]
  },
  {
   "cell_type": "markdown",
   "metadata": {},
   "source": [
    "# Timestamp objects attributes and methods"
   ]
  },
  {
   "cell_type": "code",
   "execution_count": 38,
   "metadata": {},
   "outputs": [
    {
     "data": {
      "text/html": [
       "<div>\n",
       "<style scoped>\n",
       "    .dataframe tbody tr th:only-of-type {\n",
       "        vertical-align: middle;\n",
       "    }\n",
       "\n",
       "    .dataframe tbody tr th {\n",
       "        vertical-align: top;\n",
       "    }\n",
       "\n",
       "    .dataframe thead th {\n",
       "        text-align: right;\n",
       "    }\n",
       "</style>\n",
       "<table border=\"1\" class=\"dataframe\">\n",
       "  <thead>\n",
       "    <tr style=\"text-align: right;\">\n",
       "      <th></th>\n",
       "      <th>High</th>\n",
       "      <th>Low</th>\n",
       "      <th>Open</th>\n",
       "      <th>Close</th>\n",
       "      <th>Volume</th>\n",
       "      <th>Adj Close</th>\n",
       "    </tr>\n",
       "    <tr>\n",
       "      <th>Date</th>\n",
       "      <th></th>\n",
       "      <th></th>\n",
       "      <th></th>\n",
       "      <th></th>\n",
       "      <th></th>\n",
       "      <th></th>\n",
       "    </tr>\n",
       "  </thead>\n",
       "  <tbody>\n",
       "    <tr>\n",
       "      <td>2010-01-04</td>\n",
       "      <td>9.750000</td>\n",
       "      <td>9.310000</td>\n",
       "      <td>9.43</td>\n",
       "      <td>9.730000</td>\n",
       "      <td>24670100.0</td>\n",
       "      <td>9.197938</td>\n",
       "    </tr>\n",
       "    <tr>\n",
       "      <td>2010-01-05</td>\n",
       "      <td>10.590000</td>\n",
       "      <td>9.800000</td>\n",
       "      <td>9.82</td>\n",
       "      <td>10.500000</td>\n",
       "      <td>49268000.0</td>\n",
       "      <td>9.925833</td>\n",
       "    </tr>\n",
       "    <tr>\n",
       "      <td>2010-01-06</td>\n",
       "      <td>10.450000</td>\n",
       "      <td>10.140000</td>\n",
       "      <td>10.44</td>\n",
       "      <td>10.140000</td>\n",
       "      <td>21539900.0</td>\n",
       "      <td>9.585518</td>\n",
       "    </tr>\n",
       "    <tr>\n",
       "      <td>2010-01-07</td>\n",
       "      <td>10.810000</td>\n",
       "      <td>9.980000</td>\n",
       "      <td>10.01</td>\n",
       "      <td>10.800000</td>\n",
       "      <td>30219400.0</td>\n",
       "      <td>10.209429</td>\n",
       "    </tr>\n",
       "    <tr>\n",
       "      <td>2010-01-08</td>\n",
       "      <td>10.870000</td>\n",
       "      <td>10.450000</td>\n",
       "      <td>10.70</td>\n",
       "      <td>10.600000</td>\n",
       "      <td>17728500.0</td>\n",
       "      <td>10.020366</td>\n",
       "    </tr>\n",
       "    <tr>\n",
       "      <td>...</td>\n",
       "      <td>...</td>\n",
       "      <td>...</td>\n",
       "      <td>...</td>\n",
       "      <td>...</td>\n",
       "      <td>...</td>\n",
       "      <td>...</td>\n",
       "    </tr>\n",
       "    <tr>\n",
       "      <td>2020-07-27</td>\n",
       "      <td>15.770000</td>\n",
       "      <td>14.650000</td>\n",
       "      <td>15.76</td>\n",
       "      <td>14.960000</td>\n",
       "      <td>24905900.0</td>\n",
       "      <td>14.960000</td>\n",
       "    </tr>\n",
       "    <tr>\n",
       "      <td>2020-07-28</td>\n",
       "      <td>15.820000</td>\n",
       "      <td>14.760000</td>\n",
       "      <td>14.80</td>\n",
       "      <td>15.410000</td>\n",
       "      <td>21069100.0</td>\n",
       "      <td>15.410000</td>\n",
       "    </tr>\n",
       "    <tr>\n",
       "      <td>2020-07-29</td>\n",
       "      <td>16.260000</td>\n",
       "      <td>15.570000</td>\n",
       "      <td>15.65</td>\n",
       "      <td>16.250000</td>\n",
       "      <td>21980500.0</td>\n",
       "      <td>16.250000</td>\n",
       "    </tr>\n",
       "    <tr>\n",
       "      <td>2020-07-30</td>\n",
       "      <td>16.700001</td>\n",
       "      <td>16.040001</td>\n",
       "      <td>16.18</td>\n",
       "      <td>16.639999</td>\n",
       "      <td>26814500.0</td>\n",
       "      <td>16.639999</td>\n",
       "    </tr>\n",
       "    <tr>\n",
       "      <td>2020-07-31</td>\n",
       "      <td>16.490000</td>\n",
       "      <td>15.580000</td>\n",
       "      <td>15.99</td>\n",
       "      <td>16.090000</td>\n",
       "      <td>31854500.0</td>\n",
       "      <td>16.090000</td>\n",
       "    </tr>\n",
       "  </tbody>\n",
       "</table>\n",
       "<p>2663 rows × 6 columns</p>\n",
       "</div>"
      ],
      "text/plain": [
       "                 High        Low   Open      Close      Volume  Adj Close\n",
       "Date                                                                     \n",
       "2010-01-04   9.750000   9.310000   9.43   9.730000  24670100.0   9.197938\n",
       "2010-01-05  10.590000   9.800000   9.82  10.500000  49268000.0   9.925833\n",
       "2010-01-06  10.450000  10.140000  10.44  10.140000  21539900.0   9.585518\n",
       "2010-01-07  10.810000   9.980000  10.01  10.800000  30219400.0  10.209429\n",
       "2010-01-08  10.870000  10.450000  10.70  10.600000  17728500.0  10.020366\n",
       "...               ...        ...    ...        ...         ...        ...\n",
       "2020-07-27  15.770000  14.650000  15.76  14.960000  24905900.0  14.960000\n",
       "2020-07-28  15.820000  14.760000  14.80  15.410000  21069100.0  15.410000\n",
       "2020-07-29  16.260000  15.570000  15.65  16.250000  21980500.0  16.250000\n",
       "2020-07-30  16.700001  16.040001  16.18  16.639999  26814500.0  16.639999\n",
       "2020-07-31  16.490000  15.580000  15.99  16.090000  31854500.0  16.090000\n",
       "\n",
       "[2663 rows x 6 columns]"
      ]
     },
     "execution_count": 38,
     "metadata": {},
     "output_type": "execute_result"
    }
   ],
   "source": [
    "stocks"
   ]
  },
  {
   "cell_type": "code",
   "execution_count": 39,
   "metadata": {},
   "outputs": [
    {
     "data": {
      "text/plain": [
       "Timestamp('2011-12-27 00:00:00')"
      ]
     },
     "execution_count": 39,
     "metadata": {},
     "output_type": "execute_result"
    }
   ],
   "source": [
    "stocks.index[500]"
   ]
  },
  {
   "cell_type": "code",
   "execution_count": 40,
   "metadata": {},
   "outputs": [],
   "source": [
    "someday = stocks.index[500]"
   ]
  },
  {
   "cell_type": "code",
   "execution_count": 43,
   "metadata": {},
   "outputs": [
    {
     "data": {
      "text/plain": [
       "12"
      ]
     },
     "execution_count": 43,
     "metadata": {},
     "output_type": "execute_result"
    }
   ],
   "source": [
    "someday.month"
   ]
  },
  {
   "cell_type": "code",
   "execution_count": 44,
   "metadata": {},
   "outputs": [
    {
     "data": {
      "text/plain": [
       "False"
      ]
     },
     "execution_count": 44,
     "metadata": {},
     "output_type": "execute_result"
    }
   ],
   "source": [
    "someday.is_month_start"
   ]
  },
  {
   "cell_type": "code",
   "execution_count": 45,
   "metadata": {},
   "outputs": [
    {
     "data": {
      "text/plain": [
       "False"
      ]
     },
     "execution_count": 45,
     "metadata": {},
     "output_type": "execute_result"
    }
   ],
   "source": [
    "someday.is_month_end"
   ]
  },
  {
   "cell_type": "code",
   "execution_count": 46,
   "metadata": {},
   "outputs": [
    {
     "data": {
      "text/plain": [
       "False"
      ]
     },
     "execution_count": 46,
     "metadata": {},
     "output_type": "execute_result"
    }
   ],
   "source": [
    "someday.is_quarter_start"
   ]
  },
  {
   "cell_type": "code",
   "execution_count": 47,
   "metadata": {},
   "outputs": [
    {
     "data": {
      "text/plain": [
       "False"
      ]
     },
     "execution_count": 47,
     "metadata": {},
     "output_type": "execute_result"
    }
   ],
   "source": [
    "someday.is_quarter_end"
   ]
  },
  {
   "cell_type": "code",
   "execution_count": 48,
   "metadata": {},
   "outputs": [
    {
     "data": {
      "text/plain": [
       "27"
      ]
     },
     "execution_count": 48,
     "metadata": {},
     "output_type": "execute_result"
    }
   ],
   "source": [
    "someday.day"
   ]
  },
  {
   "cell_type": "code",
   "execution_count": 49,
   "metadata": {},
   "outputs": [
    {
     "data": {
      "text/plain": [
       "'December'"
      ]
     },
     "execution_count": 49,
     "metadata": {},
     "output_type": "execute_result"
    }
   ],
   "source": [
    "someday.month_name()"
   ]
  },
  {
   "cell_type": "code",
   "execution_count": 50,
   "metadata": {},
   "outputs": [
    {
     "data": {
      "text/plain": [
       "'Tuesday'"
      ]
     },
     "execution_count": 50,
     "metadata": {},
     "output_type": "execute_result"
    }
   ],
   "source": [
    "someday.day_name()"
   ]
  },
  {
   "cell_type": "code",
   "execution_count": 51,
   "metadata": {},
   "outputs": [
    {
     "data": {
      "text/plain": [
       "Index(['Monday', 'Tuesday', 'Wednesday', 'Thursday', 'Friday', 'Monday',\n",
       "       'Tuesday', 'Wednesday', 'Thursday', 'Friday',\n",
       "       ...\n",
       "       'Monday', 'Tuesday', 'Wednesday', 'Thursday', 'Friday', 'Monday',\n",
       "       'Tuesday', 'Wednesday', 'Thursday', 'Friday'],\n",
       "      dtype='object', name='Date', length=2663)"
      ]
     },
     "execution_count": 51,
     "metadata": {},
     "output_type": "execute_result"
    }
   ],
   "source": [
    "stocks.index.day_name()"
   ]
  },
  {
   "cell_type": "code",
   "execution_count": 52,
   "metadata": {},
   "outputs": [],
   "source": [
    "stocks.insert(0, \"Day of Week\", stocks.index.day_name())"
   ]
  },
  {
   "cell_type": "code",
   "execution_count": 53,
   "metadata": {},
   "outputs": [
    {
     "data": {
      "text/html": [
       "<div>\n",
       "<style scoped>\n",
       "    .dataframe tbody tr th:only-of-type {\n",
       "        vertical-align: middle;\n",
       "    }\n",
       "\n",
       "    .dataframe tbody tr th {\n",
       "        vertical-align: top;\n",
       "    }\n",
       "\n",
       "    .dataframe thead th {\n",
       "        text-align: right;\n",
       "    }\n",
       "</style>\n",
       "<table border=\"1\" class=\"dataframe\">\n",
       "  <thead>\n",
       "    <tr style=\"text-align: right;\">\n",
       "      <th></th>\n",
       "      <th>Day of Week</th>\n",
       "      <th>High</th>\n",
       "      <th>Low</th>\n",
       "      <th>Open</th>\n",
       "      <th>Close</th>\n",
       "      <th>Volume</th>\n",
       "      <th>Adj Close</th>\n",
       "    </tr>\n",
       "    <tr>\n",
       "      <th>Date</th>\n",
       "      <th></th>\n",
       "      <th></th>\n",
       "      <th></th>\n",
       "      <th></th>\n",
       "      <th></th>\n",
       "      <th></th>\n",
       "      <th></th>\n",
       "    </tr>\n",
       "  </thead>\n",
       "  <tbody>\n",
       "    <tr>\n",
       "      <td>2010-01-04</td>\n",
       "      <td>Monday</td>\n",
       "      <td>9.750000</td>\n",
       "      <td>9.310000</td>\n",
       "      <td>9.43</td>\n",
       "      <td>9.730000</td>\n",
       "      <td>24670100.0</td>\n",
       "      <td>9.197938</td>\n",
       "    </tr>\n",
       "    <tr>\n",
       "      <td>2010-01-05</td>\n",
       "      <td>Tuesday</td>\n",
       "      <td>10.590000</td>\n",
       "      <td>9.800000</td>\n",
       "      <td>9.82</td>\n",
       "      <td>10.500000</td>\n",
       "      <td>49268000.0</td>\n",
       "      <td>9.925833</td>\n",
       "    </tr>\n",
       "    <tr>\n",
       "      <td>2010-01-06</td>\n",
       "      <td>Wednesday</td>\n",
       "      <td>10.450000</td>\n",
       "      <td>10.140000</td>\n",
       "      <td>10.44</td>\n",
       "      <td>10.140000</td>\n",
       "      <td>21539900.0</td>\n",
       "      <td>9.585518</td>\n",
       "    </tr>\n",
       "    <tr>\n",
       "      <td>2010-01-07</td>\n",
       "      <td>Thursday</td>\n",
       "      <td>10.810000</td>\n",
       "      <td>9.980000</td>\n",
       "      <td>10.01</td>\n",
       "      <td>10.800000</td>\n",
       "      <td>30219400.0</td>\n",
       "      <td>10.209429</td>\n",
       "    </tr>\n",
       "    <tr>\n",
       "      <td>2010-01-08</td>\n",
       "      <td>Friday</td>\n",
       "      <td>10.870000</td>\n",
       "      <td>10.450000</td>\n",
       "      <td>10.70</td>\n",
       "      <td>10.600000</td>\n",
       "      <td>17728500.0</td>\n",
       "      <td>10.020366</td>\n",
       "    </tr>\n",
       "    <tr>\n",
       "      <td>...</td>\n",
       "      <td>...</td>\n",
       "      <td>...</td>\n",
       "      <td>...</td>\n",
       "      <td>...</td>\n",
       "      <td>...</td>\n",
       "      <td>...</td>\n",
       "      <td>...</td>\n",
       "    </tr>\n",
       "    <tr>\n",
       "      <td>2020-07-27</td>\n",
       "      <td>Monday</td>\n",
       "      <td>15.770000</td>\n",
       "      <td>14.650000</td>\n",
       "      <td>15.76</td>\n",
       "      <td>14.960000</td>\n",
       "      <td>24905900.0</td>\n",
       "      <td>14.960000</td>\n",
       "    </tr>\n",
       "    <tr>\n",
       "      <td>2020-07-28</td>\n",
       "      <td>Tuesday</td>\n",
       "      <td>15.820000</td>\n",
       "      <td>14.760000</td>\n",
       "      <td>14.80</td>\n",
       "      <td>15.410000</td>\n",
       "      <td>21069100.0</td>\n",
       "      <td>15.410000</td>\n",
       "    </tr>\n",
       "    <tr>\n",
       "      <td>2020-07-29</td>\n",
       "      <td>Wednesday</td>\n",
       "      <td>16.260000</td>\n",
       "      <td>15.570000</td>\n",
       "      <td>15.65</td>\n",
       "      <td>16.250000</td>\n",
       "      <td>21980500.0</td>\n",
       "      <td>16.250000</td>\n",
       "    </tr>\n",
       "    <tr>\n",
       "      <td>2020-07-30</td>\n",
       "      <td>Thursday</td>\n",
       "      <td>16.700001</td>\n",
       "      <td>16.040001</td>\n",
       "      <td>16.18</td>\n",
       "      <td>16.639999</td>\n",
       "      <td>26814500.0</td>\n",
       "      <td>16.639999</td>\n",
       "    </tr>\n",
       "    <tr>\n",
       "      <td>2020-07-31</td>\n",
       "      <td>Friday</td>\n",
       "      <td>16.490000</td>\n",
       "      <td>15.580000</td>\n",
       "      <td>15.99</td>\n",
       "      <td>16.090000</td>\n",
       "      <td>31854500.0</td>\n",
       "      <td>16.090000</td>\n",
       "    </tr>\n",
       "  </tbody>\n",
       "</table>\n",
       "<p>2663 rows × 7 columns</p>\n",
       "</div>"
      ],
      "text/plain": [
       "           Day of Week       High        Low   Open      Close      Volume  \\\n",
       "Date                                                                         \n",
       "2010-01-04      Monday   9.750000   9.310000   9.43   9.730000  24670100.0   \n",
       "2010-01-05     Tuesday  10.590000   9.800000   9.82  10.500000  49268000.0   \n",
       "2010-01-06   Wednesday  10.450000  10.140000  10.44  10.140000  21539900.0   \n",
       "2010-01-07    Thursday  10.810000   9.980000  10.01  10.800000  30219400.0   \n",
       "2010-01-08      Friday  10.870000  10.450000  10.70  10.600000  17728500.0   \n",
       "...                ...        ...        ...    ...        ...         ...   \n",
       "2020-07-27      Monday  15.770000  14.650000  15.76  14.960000  24905900.0   \n",
       "2020-07-28     Tuesday  15.820000  14.760000  14.80  15.410000  21069100.0   \n",
       "2020-07-29   Wednesday  16.260000  15.570000  15.65  16.250000  21980500.0   \n",
       "2020-07-30    Thursday  16.700001  16.040001  16.18  16.639999  26814500.0   \n",
       "2020-07-31      Friday  16.490000  15.580000  15.99  16.090000  31854500.0   \n",
       "\n",
       "            Adj Close  \n",
       "Date                   \n",
       "2010-01-04   9.197938  \n",
       "2010-01-05   9.925833  \n",
       "2010-01-06   9.585518  \n",
       "2010-01-07  10.209429  \n",
       "2010-01-08  10.020366  \n",
       "...               ...  \n",
       "2020-07-27  14.960000  \n",
       "2020-07-28  15.410000  \n",
       "2020-07-29  16.250000  \n",
       "2020-07-30  16.639999  \n",
       "2020-07-31  16.090000  \n",
       "\n",
       "[2663 rows x 7 columns]"
      ]
     },
     "execution_count": 53,
     "metadata": {},
     "output_type": "execute_result"
    }
   ],
   "source": [
    "stocks"
   ]
  },
  {
   "cell_type": "code",
   "execution_count": 54,
   "metadata": {},
   "outputs": [
    {
     "data": {
      "text/plain": [
       "array([False, False, False, ..., False, False, False])"
      ]
     },
     "execution_count": 54,
     "metadata": {},
     "output_type": "execute_result"
    }
   ],
   "source": [
    "stocks.index.is_month_start"
   ]
  },
  {
   "cell_type": "code",
   "execution_count": 56,
   "metadata": {},
   "outputs": [],
   "source": [
    "stocks.insert(1, \"IS Start of Month\", stocks.index.is_month_start)"
   ]
  },
  {
   "cell_type": "code",
   "execution_count": 57,
   "metadata": {},
   "outputs": [
    {
     "data": {
      "text/html": [
       "<div>\n",
       "<style scoped>\n",
       "    .dataframe tbody tr th:only-of-type {\n",
       "        vertical-align: middle;\n",
       "    }\n",
       "\n",
       "    .dataframe tbody tr th {\n",
       "        vertical-align: top;\n",
       "    }\n",
       "\n",
       "    .dataframe thead th {\n",
       "        text-align: right;\n",
       "    }\n",
       "</style>\n",
       "<table border=\"1\" class=\"dataframe\">\n",
       "  <thead>\n",
       "    <tr style=\"text-align: right;\">\n",
       "      <th></th>\n",
       "      <th>Day of Week</th>\n",
       "      <th>IS Start of Month</th>\n",
       "      <th>High</th>\n",
       "      <th>Low</th>\n",
       "      <th>Open</th>\n",
       "      <th>Close</th>\n",
       "      <th>Volume</th>\n",
       "      <th>Adj Close</th>\n",
       "    </tr>\n",
       "    <tr>\n",
       "      <th>Date</th>\n",
       "      <th></th>\n",
       "      <th></th>\n",
       "      <th></th>\n",
       "      <th></th>\n",
       "      <th></th>\n",
       "      <th></th>\n",
       "      <th></th>\n",
       "      <th></th>\n",
       "    </tr>\n",
       "  </thead>\n",
       "  <tbody>\n",
       "    <tr>\n",
       "      <td>2010-01-04</td>\n",
       "      <td>Monday</td>\n",
       "      <td>False</td>\n",
       "      <td>9.750000</td>\n",
       "      <td>9.310000</td>\n",
       "      <td>9.43</td>\n",
       "      <td>9.730000</td>\n",
       "      <td>24670100.0</td>\n",
       "      <td>9.197938</td>\n",
       "    </tr>\n",
       "    <tr>\n",
       "      <td>2010-01-05</td>\n",
       "      <td>Tuesday</td>\n",
       "      <td>False</td>\n",
       "      <td>10.590000</td>\n",
       "      <td>9.800000</td>\n",
       "      <td>9.82</td>\n",
       "      <td>10.500000</td>\n",
       "      <td>49268000.0</td>\n",
       "      <td>9.925833</td>\n",
       "    </tr>\n",
       "    <tr>\n",
       "      <td>2010-01-06</td>\n",
       "      <td>Wednesday</td>\n",
       "      <td>False</td>\n",
       "      <td>10.450000</td>\n",
       "      <td>10.140000</td>\n",
       "      <td>10.44</td>\n",
       "      <td>10.140000</td>\n",
       "      <td>21539900.0</td>\n",
       "      <td>9.585518</td>\n",
       "    </tr>\n",
       "    <tr>\n",
       "      <td>2010-01-07</td>\n",
       "      <td>Thursday</td>\n",
       "      <td>False</td>\n",
       "      <td>10.810000</td>\n",
       "      <td>9.980000</td>\n",
       "      <td>10.01</td>\n",
       "      <td>10.800000</td>\n",
       "      <td>30219400.0</td>\n",
       "      <td>10.209429</td>\n",
       "    </tr>\n",
       "    <tr>\n",
       "      <td>2010-01-08</td>\n",
       "      <td>Friday</td>\n",
       "      <td>False</td>\n",
       "      <td>10.870000</td>\n",
       "      <td>10.450000</td>\n",
       "      <td>10.70</td>\n",
       "      <td>10.600000</td>\n",
       "      <td>17728500.0</td>\n",
       "      <td>10.020366</td>\n",
       "    </tr>\n",
       "    <tr>\n",
       "      <td>...</td>\n",
       "      <td>...</td>\n",
       "      <td>...</td>\n",
       "      <td>...</td>\n",
       "      <td>...</td>\n",
       "      <td>...</td>\n",
       "      <td>...</td>\n",
       "      <td>...</td>\n",
       "      <td>...</td>\n",
       "    </tr>\n",
       "    <tr>\n",
       "      <td>2020-07-27</td>\n",
       "      <td>Monday</td>\n",
       "      <td>False</td>\n",
       "      <td>15.770000</td>\n",
       "      <td>14.650000</td>\n",
       "      <td>15.76</td>\n",
       "      <td>14.960000</td>\n",
       "      <td>24905900.0</td>\n",
       "      <td>14.960000</td>\n",
       "    </tr>\n",
       "    <tr>\n",
       "      <td>2020-07-28</td>\n",
       "      <td>Tuesday</td>\n",
       "      <td>False</td>\n",
       "      <td>15.820000</td>\n",
       "      <td>14.760000</td>\n",
       "      <td>14.80</td>\n",
       "      <td>15.410000</td>\n",
       "      <td>21069100.0</td>\n",
       "      <td>15.410000</td>\n",
       "    </tr>\n",
       "    <tr>\n",
       "      <td>2020-07-29</td>\n",
       "      <td>Wednesday</td>\n",
       "      <td>False</td>\n",
       "      <td>16.260000</td>\n",
       "      <td>15.570000</td>\n",
       "      <td>15.65</td>\n",
       "      <td>16.250000</td>\n",
       "      <td>21980500.0</td>\n",
       "      <td>16.250000</td>\n",
       "    </tr>\n",
       "    <tr>\n",
       "      <td>2020-07-30</td>\n",
       "      <td>Thursday</td>\n",
       "      <td>False</td>\n",
       "      <td>16.700001</td>\n",
       "      <td>16.040001</td>\n",
       "      <td>16.18</td>\n",
       "      <td>16.639999</td>\n",
       "      <td>26814500.0</td>\n",
       "      <td>16.639999</td>\n",
       "    </tr>\n",
       "    <tr>\n",
       "      <td>2020-07-31</td>\n",
       "      <td>Friday</td>\n",
       "      <td>False</td>\n",
       "      <td>16.490000</td>\n",
       "      <td>15.580000</td>\n",
       "      <td>15.99</td>\n",
       "      <td>16.090000</td>\n",
       "      <td>31854500.0</td>\n",
       "      <td>16.090000</td>\n",
       "    </tr>\n",
       "  </tbody>\n",
       "</table>\n",
       "<p>2663 rows × 8 columns</p>\n",
       "</div>"
      ],
      "text/plain": [
       "           Day of Week  IS Start of Month       High        Low   Open  \\\n",
       "Date                                                                     \n",
       "2010-01-04      Monday              False   9.750000   9.310000   9.43   \n",
       "2010-01-05     Tuesday              False  10.590000   9.800000   9.82   \n",
       "2010-01-06   Wednesday              False  10.450000  10.140000  10.44   \n",
       "2010-01-07    Thursday              False  10.810000   9.980000  10.01   \n",
       "2010-01-08      Friday              False  10.870000  10.450000  10.70   \n",
       "...                ...                ...        ...        ...    ...   \n",
       "2020-07-27      Monday              False  15.770000  14.650000  15.76   \n",
       "2020-07-28     Tuesday              False  15.820000  14.760000  14.80   \n",
       "2020-07-29   Wednesday              False  16.260000  15.570000  15.65   \n",
       "2020-07-30    Thursday              False  16.700001  16.040001  16.18   \n",
       "2020-07-31      Friday              False  16.490000  15.580000  15.99   \n",
       "\n",
       "                Close      Volume  Adj Close  \n",
       "Date                                          \n",
       "2010-01-04   9.730000  24670100.0   9.197938  \n",
       "2010-01-05  10.500000  49268000.0   9.925833  \n",
       "2010-01-06  10.140000  21539900.0   9.585518  \n",
       "2010-01-07  10.800000  30219400.0  10.209429  \n",
       "2010-01-08  10.600000  17728500.0  10.020366  \n",
       "...               ...         ...        ...  \n",
       "2020-07-27  14.960000  24905900.0  14.960000  \n",
       "2020-07-28  15.410000  21069100.0  15.410000  \n",
       "2020-07-29  16.250000  21980500.0  16.250000  \n",
       "2020-07-30  16.639999  26814500.0  16.639999  \n",
       "2020-07-31  16.090000  31854500.0  16.090000  \n",
       "\n",
       "[2663 rows x 8 columns]"
      ]
     },
     "execution_count": 57,
     "metadata": {},
     "output_type": "execute_result"
    }
   ],
   "source": [
    "stocks"
   ]
  },
  {
   "cell_type": "code",
   "execution_count": 58,
   "metadata": {},
   "outputs": [
    {
     "data": {
      "text/plain": [
       "Date\n",
       "2010-01-04    False\n",
       "2010-01-05    False\n",
       "2010-01-06    False\n",
       "2010-01-07    False\n",
       "2010-01-08    False\n",
       "              ...  \n",
       "2020-07-27    False\n",
       "2020-07-28    False\n",
       "2020-07-29    False\n",
       "2020-07-30    False\n",
       "2020-07-31    False\n",
       "Name: IS Start of Month, Length: 2663, dtype: bool"
      ]
     },
     "execution_count": 58,
     "metadata": {},
     "output_type": "execute_result"
    }
   ],
   "source": [
    "stocks[\"IS Start of Month\"]"
   ]
  },
  {
   "cell_type": "code",
   "execution_count": 59,
   "metadata": {},
   "outputs": [
    {
     "data": {
      "text/html": [
       "<div>\n",
       "<style scoped>\n",
       "    .dataframe tbody tr th:only-of-type {\n",
       "        vertical-align: middle;\n",
       "    }\n",
       "\n",
       "    .dataframe tbody tr th {\n",
       "        vertical-align: top;\n",
       "    }\n",
       "\n",
       "    .dataframe thead th {\n",
       "        text-align: right;\n",
       "    }\n",
       "</style>\n",
       "<table border=\"1\" class=\"dataframe\">\n",
       "  <thead>\n",
       "    <tr style=\"text-align: right;\">\n",
       "      <th></th>\n",
       "      <th>Day of Week</th>\n",
       "      <th>IS Start of Month</th>\n",
       "      <th>High</th>\n",
       "      <th>Low</th>\n",
       "      <th>Open</th>\n",
       "      <th>Close</th>\n",
       "      <th>Volume</th>\n",
       "      <th>Adj Close</th>\n",
       "    </tr>\n",
       "    <tr>\n",
       "      <th>Date</th>\n",
       "      <th></th>\n",
       "      <th></th>\n",
       "      <th></th>\n",
       "      <th></th>\n",
       "      <th></th>\n",
       "      <th></th>\n",
       "      <th></th>\n",
       "      <th></th>\n",
       "    </tr>\n",
       "  </thead>\n",
       "  <tbody>\n",
       "    <tr>\n",
       "      <td>2010-02-01</td>\n",
       "      <td>Monday</td>\n",
       "      <td>True</td>\n",
       "      <td>11.820000</td>\n",
       "      <td>11.140000</td>\n",
       "      <td>11.140000</td>\n",
       "      <td>11.820000</td>\n",
       "      <td>30873300.0</td>\n",
       "      <td>11.173653</td>\n",
       "    </tr>\n",
       "    <tr>\n",
       "      <td>2010-03-01</td>\n",
       "      <td>Monday</td>\n",
       "      <td>True</td>\n",
       "      <td>10.770000</td>\n",
       "      <td>10.570000</td>\n",
       "      <td>10.690000</td>\n",
       "      <td>10.660000</td>\n",
       "      <td>16189600.0</td>\n",
       "      <td>10.077084</td>\n",
       "    </tr>\n",
       "    <tr>\n",
       "      <td>2010-04-01</td>\n",
       "      <td>Thursday</td>\n",
       "      <td>True</td>\n",
       "      <td>12.320000</td>\n",
       "      <td>11.820000</td>\n",
       "      <td>12.150000</td>\n",
       "      <td>12.040000</td>\n",
       "      <td>19151900.0</td>\n",
       "      <td>11.381623</td>\n",
       "    </tr>\n",
       "    <tr>\n",
       "      <td>2010-06-01</td>\n",
       "      <td>Tuesday</td>\n",
       "      <td>True</td>\n",
       "      <td>12.720000</td>\n",
       "      <td>12.100000</td>\n",
       "      <td>12.180000</td>\n",
       "      <td>12.170000</td>\n",
       "      <td>28513800.0</td>\n",
       "      <td>11.504515</td>\n",
       "    </tr>\n",
       "    <tr>\n",
       "      <td>2010-07-01</td>\n",
       "      <td>Thursday</td>\n",
       "      <td>True</td>\n",
       "      <td>9.870000</td>\n",
       "      <td>9.090000</td>\n",
       "      <td>9.640000</td>\n",
       "      <td>9.700000</td>\n",
       "      <td>40881100.0</td>\n",
       "      <td>9.169580</td>\n",
       "    </tr>\n",
       "    <tr>\n",
       "      <td>...</td>\n",
       "      <td>...</td>\n",
       "      <td>...</td>\n",
       "      <td>...</td>\n",
       "      <td>...</td>\n",
       "      <td>...</td>\n",
       "      <td>...</td>\n",
       "      <td>...</td>\n",
       "      <td>...</td>\n",
       "    </tr>\n",
       "    <tr>\n",
       "      <td>2019-11-01</td>\n",
       "      <td>Friday</td>\n",
       "      <td>True</td>\n",
       "      <td>28.850000</td>\n",
       "      <td>28.350000</td>\n",
       "      <td>28.690001</td>\n",
       "      <td>28.830000</td>\n",
       "      <td>4367700.0</td>\n",
       "      <td>28.498667</td>\n",
       "    </tr>\n",
       "    <tr>\n",
       "      <td>2020-04-01</td>\n",
       "      <td>Wednesday</td>\n",
       "      <td>True</td>\n",
       "      <td>12.220000</td>\n",
       "      <td>10.600000</td>\n",
       "      <td>11.010000</td>\n",
       "      <td>11.770000</td>\n",
       "      <td>30333300.0</td>\n",
       "      <td>11.768515</td>\n",
       "    </tr>\n",
       "    <tr>\n",
       "      <td>2020-05-01</td>\n",
       "      <td>Friday</td>\n",
       "      <td>True</td>\n",
       "      <td>15.990000</td>\n",
       "      <td>14.910000</td>\n",
       "      <td>15.560000</td>\n",
       "      <td>15.010000</td>\n",
       "      <td>27992600.0</td>\n",
       "      <td>15.008105</td>\n",
       "    </tr>\n",
       "    <tr>\n",
       "      <td>2020-06-01</td>\n",
       "      <td>Monday</td>\n",
       "      <td>True</td>\n",
       "      <td>18.040001</td>\n",
       "      <td>17.120001</td>\n",
       "      <td>17.309999</td>\n",
       "      <td>17.799999</td>\n",
       "      <td>21636600.0</td>\n",
       "      <td>17.797752</td>\n",
       "    </tr>\n",
       "    <tr>\n",
       "      <td>2020-07-01</td>\n",
       "      <td>Wednesday</td>\n",
       "      <td>True</td>\n",
       "      <td>17.680000</td>\n",
       "      <td>16.629999</td>\n",
       "      <td>16.950001</td>\n",
       "      <td>16.770000</td>\n",
       "      <td>31420800.0</td>\n",
       "      <td>16.770000</td>\n",
       "    </tr>\n",
       "  </tbody>\n",
       "</table>\n",
       "<p>82 rows × 8 columns</p>\n",
       "</div>"
      ],
      "text/plain": [
       "           Day of Week  IS Start of Month       High        Low       Open  \\\n",
       "Date                                                                         \n",
       "2010-02-01      Monday               True  11.820000  11.140000  11.140000   \n",
       "2010-03-01      Monday               True  10.770000  10.570000  10.690000   \n",
       "2010-04-01    Thursday               True  12.320000  11.820000  12.150000   \n",
       "2010-06-01     Tuesday               True  12.720000  12.100000  12.180000   \n",
       "2010-07-01    Thursday               True   9.870000   9.090000   9.640000   \n",
       "...                ...                ...        ...        ...        ...   \n",
       "2019-11-01      Friday               True  28.850000  28.350000  28.690001   \n",
       "2020-04-01   Wednesday               True  12.220000  10.600000  11.010000   \n",
       "2020-05-01      Friday               True  15.990000  14.910000  15.560000   \n",
       "2020-06-01      Monday               True  18.040001  17.120001  17.309999   \n",
       "2020-07-01   Wednesday               True  17.680000  16.629999  16.950001   \n",
       "\n",
       "                Close      Volume  Adj Close  \n",
       "Date                                          \n",
       "2010-02-01  11.820000  30873300.0  11.173653  \n",
       "2010-03-01  10.660000  16189600.0  10.077084  \n",
       "2010-04-01  12.040000  19151900.0  11.381623  \n",
       "2010-06-01  12.170000  28513800.0  11.504515  \n",
       "2010-07-01   9.700000  40881100.0   9.169580  \n",
       "...               ...         ...        ...  \n",
       "2019-11-01  28.830000   4367700.0  28.498667  \n",
       "2020-04-01  11.770000  30333300.0  11.768515  \n",
       "2020-05-01  15.010000  27992600.0  15.008105  \n",
       "2020-06-01  17.799999  21636600.0  17.797752  \n",
       "2020-07-01  16.770000  31420800.0  16.770000  \n",
       "\n",
       "[82 rows x 8 columns]"
      ]
     },
     "execution_count": 59,
     "metadata": {},
     "output_type": "execute_result"
    }
   ],
   "source": [
    "stocks[stocks[\"IS Start of Month\"]]"
   ]
  },
  {
   "cell_type": "markdown",
   "metadata": {},
   "source": [
    "# The pd.DateOffset Object"
   ]
  },
  {
   "cell_type": "code",
   "execution_count": 60,
   "metadata": {},
   "outputs": [
    {
     "data": {
      "text/html": [
       "<div>\n",
       "<style scoped>\n",
       "    .dataframe tbody tr th:only-of-type {\n",
       "        vertical-align: middle;\n",
       "    }\n",
       "\n",
       "    .dataframe tbody tr th {\n",
       "        vertical-align: top;\n",
       "    }\n",
       "\n",
       "    .dataframe thead th {\n",
       "        text-align: right;\n",
       "    }\n",
       "</style>\n",
       "<table border=\"1\" class=\"dataframe\">\n",
       "  <thead>\n",
       "    <tr style=\"text-align: right;\">\n",
       "      <th></th>\n",
       "      <th>Day of Week</th>\n",
       "      <th>IS Start of Month</th>\n",
       "      <th>High</th>\n",
       "      <th>Low</th>\n",
       "      <th>Open</th>\n",
       "      <th>Close</th>\n",
       "      <th>Volume</th>\n",
       "      <th>Adj Close</th>\n",
       "    </tr>\n",
       "    <tr>\n",
       "      <th>Date</th>\n",
       "      <th></th>\n",
       "      <th></th>\n",
       "      <th></th>\n",
       "      <th></th>\n",
       "      <th></th>\n",
       "      <th></th>\n",
       "      <th></th>\n",
       "      <th></th>\n",
       "    </tr>\n",
       "  </thead>\n",
       "  <tbody>\n",
       "    <tr>\n",
       "      <td>2010-01-04</td>\n",
       "      <td>Monday</td>\n",
       "      <td>False</td>\n",
       "      <td>9.750000</td>\n",
       "      <td>9.310000</td>\n",
       "      <td>9.43</td>\n",
       "      <td>9.730000</td>\n",
       "      <td>24670100.0</td>\n",
       "      <td>9.197938</td>\n",
       "    </tr>\n",
       "    <tr>\n",
       "      <td>2010-01-05</td>\n",
       "      <td>Tuesday</td>\n",
       "      <td>False</td>\n",
       "      <td>10.590000</td>\n",
       "      <td>9.800000</td>\n",
       "      <td>9.82</td>\n",
       "      <td>10.500000</td>\n",
       "      <td>49268000.0</td>\n",
       "      <td>9.925833</td>\n",
       "    </tr>\n",
       "    <tr>\n",
       "      <td>2010-01-06</td>\n",
       "      <td>Wednesday</td>\n",
       "      <td>False</td>\n",
       "      <td>10.450000</td>\n",
       "      <td>10.140000</td>\n",
       "      <td>10.44</td>\n",
       "      <td>10.140000</td>\n",
       "      <td>21539900.0</td>\n",
       "      <td>9.585518</td>\n",
       "    </tr>\n",
       "    <tr>\n",
       "      <td>2010-01-07</td>\n",
       "      <td>Thursday</td>\n",
       "      <td>False</td>\n",
       "      <td>10.810000</td>\n",
       "      <td>9.980000</td>\n",
       "      <td>10.01</td>\n",
       "      <td>10.800000</td>\n",
       "      <td>30219400.0</td>\n",
       "      <td>10.209429</td>\n",
       "    </tr>\n",
       "    <tr>\n",
       "      <td>2010-01-08</td>\n",
       "      <td>Friday</td>\n",
       "      <td>False</td>\n",
       "      <td>10.870000</td>\n",
       "      <td>10.450000</td>\n",
       "      <td>10.70</td>\n",
       "      <td>10.600000</td>\n",
       "      <td>17728500.0</td>\n",
       "      <td>10.020366</td>\n",
       "    </tr>\n",
       "    <tr>\n",
       "      <td>...</td>\n",
       "      <td>...</td>\n",
       "      <td>...</td>\n",
       "      <td>...</td>\n",
       "      <td>...</td>\n",
       "      <td>...</td>\n",
       "      <td>...</td>\n",
       "      <td>...</td>\n",
       "      <td>...</td>\n",
       "    </tr>\n",
       "    <tr>\n",
       "      <td>2020-07-27</td>\n",
       "      <td>Monday</td>\n",
       "      <td>False</td>\n",
       "      <td>15.770000</td>\n",
       "      <td>14.650000</td>\n",
       "      <td>15.76</td>\n",
       "      <td>14.960000</td>\n",
       "      <td>24905900.0</td>\n",
       "      <td>14.960000</td>\n",
       "    </tr>\n",
       "    <tr>\n",
       "      <td>2020-07-28</td>\n",
       "      <td>Tuesday</td>\n",
       "      <td>False</td>\n",
       "      <td>15.820000</td>\n",
       "      <td>14.760000</td>\n",
       "      <td>14.80</td>\n",
       "      <td>15.410000</td>\n",
       "      <td>21069100.0</td>\n",
       "      <td>15.410000</td>\n",
       "    </tr>\n",
       "    <tr>\n",
       "      <td>2020-07-29</td>\n",
       "      <td>Wednesday</td>\n",
       "      <td>False</td>\n",
       "      <td>16.260000</td>\n",
       "      <td>15.570000</td>\n",
       "      <td>15.65</td>\n",
       "      <td>16.250000</td>\n",
       "      <td>21980500.0</td>\n",
       "      <td>16.250000</td>\n",
       "    </tr>\n",
       "    <tr>\n",
       "      <td>2020-07-30</td>\n",
       "      <td>Thursday</td>\n",
       "      <td>False</td>\n",
       "      <td>16.700001</td>\n",
       "      <td>16.040001</td>\n",
       "      <td>16.18</td>\n",
       "      <td>16.639999</td>\n",
       "      <td>26814500.0</td>\n",
       "      <td>16.639999</td>\n",
       "    </tr>\n",
       "    <tr>\n",
       "      <td>2020-07-31</td>\n",
       "      <td>Friday</td>\n",
       "      <td>False</td>\n",
       "      <td>16.490000</td>\n",
       "      <td>15.580000</td>\n",
       "      <td>15.99</td>\n",
       "      <td>16.090000</td>\n",
       "      <td>31854500.0</td>\n",
       "      <td>16.090000</td>\n",
       "    </tr>\n",
       "  </tbody>\n",
       "</table>\n",
       "<p>2663 rows × 8 columns</p>\n",
       "</div>"
      ],
      "text/plain": [
       "           Day of Week  IS Start of Month       High        Low   Open  \\\n",
       "Date                                                                     \n",
       "2010-01-04      Monday              False   9.750000   9.310000   9.43   \n",
       "2010-01-05     Tuesday              False  10.590000   9.800000   9.82   \n",
       "2010-01-06   Wednesday              False  10.450000  10.140000  10.44   \n",
       "2010-01-07    Thursday              False  10.810000   9.980000  10.01   \n",
       "2010-01-08      Friday              False  10.870000  10.450000  10.70   \n",
       "...                ...                ...        ...        ...    ...   \n",
       "2020-07-27      Monday              False  15.770000  14.650000  15.76   \n",
       "2020-07-28     Tuesday              False  15.820000  14.760000  14.80   \n",
       "2020-07-29   Wednesday              False  16.260000  15.570000  15.65   \n",
       "2020-07-30    Thursday              False  16.700001  16.040001  16.18   \n",
       "2020-07-31      Friday              False  16.490000  15.580000  15.99   \n",
       "\n",
       "                Close      Volume  Adj Close  \n",
       "Date                                          \n",
       "2010-01-04   9.730000  24670100.0   9.197938  \n",
       "2010-01-05  10.500000  49268000.0   9.925833  \n",
       "2010-01-06  10.140000  21539900.0   9.585518  \n",
       "2010-01-07  10.800000  30219400.0  10.209429  \n",
       "2010-01-08  10.600000  17728500.0  10.020366  \n",
       "...               ...         ...        ...  \n",
       "2020-07-27  14.960000  24905900.0  14.960000  \n",
       "2020-07-28  15.410000  21069100.0  15.410000  \n",
       "2020-07-29  16.250000  21980500.0  16.250000  \n",
       "2020-07-30  16.639999  26814500.0  16.639999  \n",
       "2020-07-31  16.090000  31854500.0  16.090000  \n",
       "\n",
       "[2663 rows x 8 columns]"
      ]
     },
     "execution_count": 60,
     "metadata": {},
     "output_type": "execute_result"
    }
   ],
   "source": [
    "stocks"
   ]
  },
  {
   "cell_type": "code",
   "execution_count": 62,
   "metadata": {},
   "outputs": [
    {
     "ename": "NullFrequencyError",
     "evalue": "Cannot shift with no freq",
     "output_type": "error",
     "traceback": [
      "\u001b[1;31m---------------------------------------------------------------------------\u001b[0m",
      "\u001b[1;31mNullFrequencyError\u001b[0m                        Traceback (most recent call last)",
      "\u001b[1;32m<ipython-input-62-425e564fb6bf>\u001b[0m in \u001b[0;36m<module>\u001b[1;34m\u001b[0m\n\u001b[1;32m----> 1\u001b[1;33m \u001b[0mstocks\u001b[0m\u001b[1;33m.\u001b[0m\u001b[0mindex\u001b[0m \u001b[1;33m+\u001b[0m \u001b[1;36m5\u001b[0m \u001b[1;31m#pandas doesnt know the frequence e.g hour, day, year etc.\u001b[0m\u001b[1;33m\u001b[0m\u001b[1;33m\u001b[0m\u001b[0m\n\u001b[0m",
      "\u001b[1;32mC:\\ProgramData\\Anaconda3\\lib\\site-packages\\pandas\\core\\indexes\\datetimelike.py\u001b[0m in \u001b[0;36m__add__\u001b[1;34m(self, other)\u001b[0m\n\u001b[0;32m    508\u001b[0m         \u001b[1;32mdef\u001b[0m \u001b[0m__add__\u001b[0m\u001b[1;33m(\u001b[0m\u001b[0mself\u001b[0m\u001b[1;33m,\u001b[0m \u001b[0mother\u001b[0m\u001b[1;33m)\u001b[0m\u001b[1;33m:\u001b[0m\u001b[1;33m\u001b[0m\u001b[1;33m\u001b[0m\u001b[0m\n\u001b[0;32m    509\u001b[0m             \u001b[1;31m# dispatch to ExtensionArray implementation\u001b[0m\u001b[1;33m\u001b[0m\u001b[1;33m\u001b[0m\u001b[1;33m\u001b[0m\u001b[0m\n\u001b[1;32m--> 510\u001b[1;33m             \u001b[0mresult\u001b[0m \u001b[1;33m=\u001b[0m \u001b[0mself\u001b[0m\u001b[1;33m.\u001b[0m\u001b[0m_data\u001b[0m\u001b[1;33m.\u001b[0m\u001b[0m__add__\u001b[0m\u001b[1;33m(\u001b[0m\u001b[0mmaybe_unwrap_index\u001b[0m\u001b[1;33m(\u001b[0m\u001b[0mother\u001b[0m\u001b[1;33m)\u001b[0m\u001b[1;33m)\u001b[0m\u001b[1;33m\u001b[0m\u001b[1;33m\u001b[0m\u001b[0m\n\u001b[0m\u001b[0;32m    511\u001b[0m             \u001b[1;32mreturn\u001b[0m \u001b[0mwrap_arithmetic_op\u001b[0m\u001b[1;33m(\u001b[0m\u001b[0mself\u001b[0m\u001b[1;33m,\u001b[0m \u001b[0mother\u001b[0m\u001b[1;33m,\u001b[0m \u001b[0mresult\u001b[0m\u001b[1;33m)\u001b[0m\u001b[1;33m\u001b[0m\u001b[1;33m\u001b[0m\u001b[0m\n\u001b[0;32m    512\u001b[0m \u001b[1;33m\u001b[0m\u001b[0m\n",
      "\u001b[1;32mC:\\ProgramData\\Anaconda3\\lib\\site-packages\\pandas\\core\\arrays\\datetimelike.py\u001b[0m in \u001b[0;36m__add__\u001b[1;34m(self, other)\u001b[0m\n\u001b[0;32m   1218\u001b[0m             \u001b[1;32mif\u001b[0m \u001b[1;32mnot\u001b[0m \u001b[0mis_period_dtype\u001b[0m\u001b[1;33m(\u001b[0m\u001b[0mself\u001b[0m\u001b[1;33m)\u001b[0m\u001b[1;33m:\u001b[0m\u001b[1;33m\u001b[0m\u001b[1;33m\u001b[0m\u001b[0m\n\u001b[0;32m   1219\u001b[0m                 \u001b[0mmaybe_integer_op_deprecated\u001b[0m\u001b[1;33m(\u001b[0m\u001b[0mself\u001b[0m\u001b[1;33m)\u001b[0m\u001b[1;33m\u001b[0m\u001b[1;33m\u001b[0m\u001b[0m\n\u001b[1;32m-> 1220\u001b[1;33m             \u001b[0mresult\u001b[0m \u001b[1;33m=\u001b[0m \u001b[0mself\u001b[0m\u001b[1;33m.\u001b[0m\u001b[0m_time_shift\u001b[0m\u001b[1;33m(\u001b[0m\u001b[0mother\u001b[0m\u001b[1;33m)\u001b[0m\u001b[1;33m\u001b[0m\u001b[1;33m\u001b[0m\u001b[0m\n\u001b[0m\u001b[0;32m   1221\u001b[0m \u001b[1;33m\u001b[0m\u001b[0m\n\u001b[0;32m   1222\u001b[0m         \u001b[1;31m# array-like others\u001b[0m\u001b[1;33m\u001b[0m\u001b[1;33m\u001b[0m\u001b[1;33m\u001b[0m\u001b[0m\n",
      "\u001b[1;32mC:\\ProgramData\\Anaconda3\\lib\\site-packages\\pandas\\core\\arrays\\datetimelike.py\u001b[0m in \u001b[0;36m_time_shift\u001b[1;34m(self, periods, freq)\u001b[0m\n\u001b[0;32m   1188\u001b[0m \u001b[1;33m\u001b[0m\u001b[0m\n\u001b[0;32m   1189\u001b[0m         \u001b[1;32mif\u001b[0m \u001b[0mself\u001b[0m\u001b[1;33m.\u001b[0m\u001b[0mfreq\u001b[0m \u001b[1;32mis\u001b[0m \u001b[1;32mNone\u001b[0m\u001b[1;33m:\u001b[0m\u001b[1;33m\u001b[0m\u001b[1;33m\u001b[0m\u001b[0m\n\u001b[1;32m-> 1190\u001b[1;33m             \u001b[1;32mraise\u001b[0m \u001b[0mNullFrequencyError\u001b[0m\u001b[1;33m(\u001b[0m\u001b[1;34m\"Cannot shift with no freq\"\u001b[0m\u001b[1;33m)\u001b[0m\u001b[1;33m\u001b[0m\u001b[1;33m\u001b[0m\u001b[0m\n\u001b[0m\u001b[0;32m   1191\u001b[0m \u001b[1;33m\u001b[0m\u001b[0m\n\u001b[0;32m   1192\u001b[0m         \u001b[0mstart\u001b[0m \u001b[1;33m=\u001b[0m \u001b[0mself\u001b[0m\u001b[1;33m[\u001b[0m\u001b[1;36m0\u001b[0m\u001b[1;33m]\u001b[0m \u001b[1;33m+\u001b[0m \u001b[0mperiods\u001b[0m \u001b[1;33m*\u001b[0m \u001b[0mself\u001b[0m\u001b[1;33m.\u001b[0m\u001b[0mfreq\u001b[0m\u001b[1;33m\u001b[0m\u001b[1;33m\u001b[0m\u001b[0m\n",
      "\u001b[1;31mNullFrequencyError\u001b[0m: Cannot shift with no freq"
     ]
    }
   ],
   "source": [
    "stocks.index + 5 #pandas doesnt know the frequence e.g hour, day, year etc."
   ]
  },
  {
   "cell_type": "code",
   "execution_count": 64,
   "metadata": {},
   "outputs": [
    {
     "data": {
      "text/plain": [
       "DatetimeIndex(['2010-01-09', '2010-01-10', '2010-01-11', '2010-01-12',\n",
       "               '2010-01-13', '2010-01-16', '2010-01-17', '2010-01-18',\n",
       "               '2010-01-19', '2010-01-20',\n",
       "               ...\n",
       "               '2020-07-25', '2020-07-26', '2020-07-27', '2020-07-28',\n",
       "               '2020-07-29', '2020-08-01', '2020-08-02', '2020-08-03',\n",
       "               '2020-08-04', '2020-08-05'],\n",
       "              dtype='datetime64[ns]', name='Date', length=2663, freq=None)"
      ]
     },
     "execution_count": 64,
     "metadata": {},
     "output_type": "execute_result"
    }
   ],
   "source": [
    "stocks.index + pd.DateOffset(days = 5)"
   ]
  },
  {
   "cell_type": "code",
   "execution_count": 65,
   "metadata": {},
   "outputs": [],
   "source": [
    "stocks.index = stocks.index - pd.DateOffset(days = 5)"
   ]
  },
  {
   "cell_type": "code",
   "execution_count": 66,
   "metadata": {},
   "outputs": [
    {
     "data": {
      "text/html": [
       "<div>\n",
       "<style scoped>\n",
       "    .dataframe tbody tr th:only-of-type {\n",
       "        vertical-align: middle;\n",
       "    }\n",
       "\n",
       "    .dataframe tbody tr th {\n",
       "        vertical-align: top;\n",
       "    }\n",
       "\n",
       "    .dataframe thead th {\n",
       "        text-align: right;\n",
       "    }\n",
       "</style>\n",
       "<table border=\"1\" class=\"dataframe\">\n",
       "  <thead>\n",
       "    <tr style=\"text-align: right;\">\n",
       "      <th></th>\n",
       "      <th>Day of Week</th>\n",
       "      <th>IS Start of Month</th>\n",
       "      <th>High</th>\n",
       "      <th>Low</th>\n",
       "      <th>Open</th>\n",
       "      <th>Close</th>\n",
       "      <th>Volume</th>\n",
       "      <th>Adj Close</th>\n",
       "    </tr>\n",
       "    <tr>\n",
       "      <th>Date</th>\n",
       "      <th></th>\n",
       "      <th></th>\n",
       "      <th></th>\n",
       "      <th></th>\n",
       "      <th></th>\n",
       "      <th></th>\n",
       "      <th></th>\n",
       "      <th></th>\n",
       "    </tr>\n",
       "  </thead>\n",
       "  <tbody>\n",
       "    <tr>\n",
       "      <td>2009-12-30</td>\n",
       "      <td>Monday</td>\n",
       "      <td>False</td>\n",
       "      <td>9.750000</td>\n",
       "      <td>9.310000</td>\n",
       "      <td>9.43</td>\n",
       "      <td>9.730000</td>\n",
       "      <td>24670100.0</td>\n",
       "      <td>9.197938</td>\n",
       "    </tr>\n",
       "    <tr>\n",
       "      <td>2009-12-31</td>\n",
       "      <td>Tuesday</td>\n",
       "      <td>False</td>\n",
       "      <td>10.590000</td>\n",
       "      <td>9.800000</td>\n",
       "      <td>9.82</td>\n",
       "      <td>10.500000</td>\n",
       "      <td>49268000.0</td>\n",
       "      <td>9.925833</td>\n",
       "    </tr>\n",
       "    <tr>\n",
       "      <td>2010-01-01</td>\n",
       "      <td>Wednesday</td>\n",
       "      <td>False</td>\n",
       "      <td>10.450000</td>\n",
       "      <td>10.140000</td>\n",
       "      <td>10.44</td>\n",
       "      <td>10.140000</td>\n",
       "      <td>21539900.0</td>\n",
       "      <td>9.585518</td>\n",
       "    </tr>\n",
       "    <tr>\n",
       "      <td>2010-01-02</td>\n",
       "      <td>Thursday</td>\n",
       "      <td>False</td>\n",
       "      <td>10.810000</td>\n",
       "      <td>9.980000</td>\n",
       "      <td>10.01</td>\n",
       "      <td>10.800000</td>\n",
       "      <td>30219400.0</td>\n",
       "      <td>10.209429</td>\n",
       "    </tr>\n",
       "    <tr>\n",
       "      <td>2010-01-03</td>\n",
       "      <td>Friday</td>\n",
       "      <td>False</td>\n",
       "      <td>10.870000</td>\n",
       "      <td>10.450000</td>\n",
       "      <td>10.70</td>\n",
       "      <td>10.600000</td>\n",
       "      <td>17728500.0</td>\n",
       "      <td>10.020366</td>\n",
       "    </tr>\n",
       "    <tr>\n",
       "      <td>...</td>\n",
       "      <td>...</td>\n",
       "      <td>...</td>\n",
       "      <td>...</td>\n",
       "      <td>...</td>\n",
       "      <td>...</td>\n",
       "      <td>...</td>\n",
       "      <td>...</td>\n",
       "      <td>...</td>\n",
       "    </tr>\n",
       "    <tr>\n",
       "      <td>2020-07-22</td>\n",
       "      <td>Monday</td>\n",
       "      <td>False</td>\n",
       "      <td>15.770000</td>\n",
       "      <td>14.650000</td>\n",
       "      <td>15.76</td>\n",
       "      <td>14.960000</td>\n",
       "      <td>24905900.0</td>\n",
       "      <td>14.960000</td>\n",
       "    </tr>\n",
       "    <tr>\n",
       "      <td>2020-07-23</td>\n",
       "      <td>Tuesday</td>\n",
       "      <td>False</td>\n",
       "      <td>15.820000</td>\n",
       "      <td>14.760000</td>\n",
       "      <td>14.80</td>\n",
       "      <td>15.410000</td>\n",
       "      <td>21069100.0</td>\n",
       "      <td>15.410000</td>\n",
       "    </tr>\n",
       "    <tr>\n",
       "      <td>2020-07-24</td>\n",
       "      <td>Wednesday</td>\n",
       "      <td>False</td>\n",
       "      <td>16.260000</td>\n",
       "      <td>15.570000</td>\n",
       "      <td>15.65</td>\n",
       "      <td>16.250000</td>\n",
       "      <td>21980500.0</td>\n",
       "      <td>16.250000</td>\n",
       "    </tr>\n",
       "    <tr>\n",
       "      <td>2020-07-25</td>\n",
       "      <td>Thursday</td>\n",
       "      <td>False</td>\n",
       "      <td>16.700001</td>\n",
       "      <td>16.040001</td>\n",
       "      <td>16.18</td>\n",
       "      <td>16.639999</td>\n",
       "      <td>26814500.0</td>\n",
       "      <td>16.639999</td>\n",
       "    </tr>\n",
       "    <tr>\n",
       "      <td>2020-07-26</td>\n",
       "      <td>Friday</td>\n",
       "      <td>False</td>\n",
       "      <td>16.490000</td>\n",
       "      <td>15.580000</td>\n",
       "      <td>15.99</td>\n",
       "      <td>16.090000</td>\n",
       "      <td>31854500.0</td>\n",
       "      <td>16.090000</td>\n",
       "    </tr>\n",
       "  </tbody>\n",
       "</table>\n",
       "<p>2663 rows × 8 columns</p>\n",
       "</div>"
      ],
      "text/plain": [
       "           Day of Week  IS Start of Month       High        Low   Open  \\\n",
       "Date                                                                     \n",
       "2009-12-30      Monday              False   9.750000   9.310000   9.43   \n",
       "2009-12-31     Tuesday              False  10.590000   9.800000   9.82   \n",
       "2010-01-01   Wednesday              False  10.450000  10.140000  10.44   \n",
       "2010-01-02    Thursday              False  10.810000   9.980000  10.01   \n",
       "2010-01-03      Friday              False  10.870000  10.450000  10.70   \n",
       "...                ...                ...        ...        ...    ...   \n",
       "2020-07-22      Monday              False  15.770000  14.650000  15.76   \n",
       "2020-07-23     Tuesday              False  15.820000  14.760000  14.80   \n",
       "2020-07-24   Wednesday              False  16.260000  15.570000  15.65   \n",
       "2020-07-25    Thursday              False  16.700001  16.040001  16.18   \n",
       "2020-07-26      Friday              False  16.490000  15.580000  15.99   \n",
       "\n",
       "                Close      Volume  Adj Close  \n",
       "Date                                          \n",
       "2009-12-30   9.730000  24670100.0   9.197938  \n",
       "2009-12-31  10.500000  49268000.0   9.925833  \n",
       "2010-01-01  10.140000  21539900.0   9.585518  \n",
       "2010-01-02  10.800000  30219400.0  10.209429  \n",
       "2010-01-03  10.600000  17728500.0  10.020366  \n",
       "...               ...         ...        ...  \n",
       "2020-07-22  14.960000  24905900.0  14.960000  \n",
       "2020-07-23  15.410000  21069100.0  15.410000  \n",
       "2020-07-24  16.250000  21980500.0  16.250000  \n",
       "2020-07-25  16.639999  26814500.0  16.639999  \n",
       "2020-07-26  16.090000  31854500.0  16.090000  \n",
       "\n",
       "[2663 rows x 8 columns]"
      ]
     },
     "execution_count": 66,
     "metadata": {},
     "output_type": "execute_result"
    }
   ],
   "source": [
    "stocks"
   ]
  },
  {
   "cell_type": "code",
   "execution_count": 67,
   "metadata": {},
   "outputs": [
    {
     "data": {
      "text/plain": [
       "DatetimeIndex(['2010-01-13', '2010-01-14', '2010-01-15', '2010-01-16',\n",
       "               '2010-01-17', '2010-01-20', '2010-01-21', '2010-01-22',\n",
       "               '2010-01-23', '2010-01-24',\n",
       "               ...\n",
       "               '2020-07-29', '2020-07-30', '2020-07-31', '2020-08-01',\n",
       "               '2020-08-02', '2020-08-05', '2020-08-06', '2020-08-07',\n",
       "               '2020-08-08', '2020-08-09'],\n",
       "              dtype='datetime64[ns]', name='Date', length=2663, freq=None)"
      ]
     },
     "execution_count": 67,
     "metadata": {},
     "output_type": "execute_result"
    }
   ],
   "source": [
    "stocks.index + pd.DateOffset(weeks = 2)"
   ]
  },
  {
   "cell_type": "code",
   "execution_count": 68,
   "metadata": {},
   "outputs": [
    {
     "data": {
      "text/plain": [
       "DatetimeIndex(['2010-01-20', '2010-01-21', '2010-01-22', '2010-01-23',\n",
       "               '2010-01-24', '2010-01-27', '2010-01-28', '2010-01-29',\n",
       "               '2010-01-30', '2010-01-31',\n",
       "               ...\n",
       "               '2020-08-05', '2020-08-06', '2020-08-07', '2020-08-08',\n",
       "               '2020-08-09', '2020-08-12', '2020-08-13', '2020-08-14',\n",
       "               '2020-08-15', '2020-08-16'],\n",
       "              dtype='datetime64[ns]', name='Date', length=2663, freq=None)"
      ]
     },
     "execution_count": 68,
     "metadata": {},
     "output_type": "execute_result"
    }
   ],
   "source": [
    "stocks.index + pd.DateOffset(weeks = 3)"
   ]
  },
  {
   "cell_type": "code",
   "execution_count": 69,
   "metadata": {},
   "outputs": [
    {
     "data": {
      "text/plain": [
       "DatetimeIndex(['2009-07-30', '2009-07-31', '2009-08-01', '2009-08-02',\n",
       "               '2009-08-03', '2009-08-06', '2009-08-07', '2009-08-08',\n",
       "               '2009-08-09', '2009-08-10',\n",
       "               ...\n",
       "               '2020-02-15', '2020-02-16', '2020-02-17', '2020-02-18',\n",
       "               '2020-02-19', '2020-02-22', '2020-02-23', '2020-02-24',\n",
       "               '2020-02-25', '2020-02-26'],\n",
       "              dtype='datetime64[ns]', name='Date', length=2663, freq=None)"
      ]
     },
     "execution_count": 69,
     "metadata": {},
     "output_type": "execute_result"
    }
   ],
   "source": [
    "stocks.index + pd.DateOffset(months = -5)"
   ]
  },
  {
   "cell_type": "code",
   "execution_count": 70,
   "metadata": {},
   "outputs": [
    {
     "data": {
      "text/plain": [
       "DatetimeIndex(['2004-12-30', '2004-12-31', '2005-01-01', '2005-01-02',\n",
       "               '2005-01-03', '2005-01-06', '2005-01-07', '2005-01-08',\n",
       "               '2005-01-09', '2005-01-10',\n",
       "               ...\n",
       "               '2015-07-15', '2015-07-16', '2015-07-17', '2015-07-18',\n",
       "               '2015-07-19', '2015-07-22', '2015-07-23', '2015-07-24',\n",
       "               '2015-07-25', '2015-07-26'],\n",
       "              dtype='datetime64[ns]', name='Date', length=2663, freq=None)"
      ]
     },
     "execution_count": 70,
     "metadata": {},
     "output_type": "execute_result"
    }
   ],
   "source": [
    "stocks.index + pd.DateOffset(years = -5)"
   ]
  },
  {
   "cell_type": "markdown",
   "metadata": {},
   "source": [
    "# Timeseries offset"
   ]
  },
  {
   "cell_type": "code",
   "execution_count": 71,
   "metadata": {},
   "outputs": [
    {
     "data": {
      "text/html": [
       "<div>\n",
       "<style scoped>\n",
       "    .dataframe tbody tr th:only-of-type {\n",
       "        vertical-align: middle;\n",
       "    }\n",
       "\n",
       "    .dataframe tbody tr th {\n",
       "        vertical-align: top;\n",
       "    }\n",
       "\n",
       "    .dataframe thead th {\n",
       "        text-align: right;\n",
       "    }\n",
       "</style>\n",
       "<table border=\"1\" class=\"dataframe\">\n",
       "  <thead>\n",
       "    <tr style=\"text-align: right;\">\n",
       "      <th></th>\n",
       "      <th>Day of Week</th>\n",
       "      <th>IS Start of Month</th>\n",
       "      <th>High</th>\n",
       "      <th>Low</th>\n",
       "      <th>Open</th>\n",
       "      <th>Close</th>\n",
       "      <th>Volume</th>\n",
       "      <th>Adj Close</th>\n",
       "    </tr>\n",
       "    <tr>\n",
       "      <th>Date</th>\n",
       "      <th></th>\n",
       "      <th></th>\n",
       "      <th></th>\n",
       "      <th></th>\n",
       "      <th></th>\n",
       "      <th></th>\n",
       "      <th></th>\n",
       "      <th></th>\n",
       "    </tr>\n",
       "  </thead>\n",
       "  <tbody>\n",
       "    <tr>\n",
       "      <td>2009-12-30</td>\n",
       "      <td>Monday</td>\n",
       "      <td>False</td>\n",
       "      <td>9.750000</td>\n",
       "      <td>9.310000</td>\n",
       "      <td>9.43</td>\n",
       "      <td>9.730000</td>\n",
       "      <td>24670100.0</td>\n",
       "      <td>9.197938</td>\n",
       "    </tr>\n",
       "    <tr>\n",
       "      <td>2009-12-31</td>\n",
       "      <td>Tuesday</td>\n",
       "      <td>False</td>\n",
       "      <td>10.590000</td>\n",
       "      <td>9.800000</td>\n",
       "      <td>9.82</td>\n",
       "      <td>10.500000</td>\n",
       "      <td>49268000.0</td>\n",
       "      <td>9.925833</td>\n",
       "    </tr>\n",
       "    <tr>\n",
       "      <td>2010-01-01</td>\n",
       "      <td>Wednesday</td>\n",
       "      <td>False</td>\n",
       "      <td>10.450000</td>\n",
       "      <td>10.140000</td>\n",
       "      <td>10.44</td>\n",
       "      <td>10.140000</td>\n",
       "      <td>21539900.0</td>\n",
       "      <td>9.585518</td>\n",
       "    </tr>\n",
       "    <tr>\n",
       "      <td>2010-01-02</td>\n",
       "      <td>Thursday</td>\n",
       "      <td>False</td>\n",
       "      <td>10.810000</td>\n",
       "      <td>9.980000</td>\n",
       "      <td>10.01</td>\n",
       "      <td>10.800000</td>\n",
       "      <td>30219400.0</td>\n",
       "      <td>10.209429</td>\n",
       "    </tr>\n",
       "    <tr>\n",
       "      <td>2010-01-03</td>\n",
       "      <td>Friday</td>\n",
       "      <td>False</td>\n",
       "      <td>10.870000</td>\n",
       "      <td>10.450000</td>\n",
       "      <td>10.70</td>\n",
       "      <td>10.600000</td>\n",
       "      <td>17728500.0</td>\n",
       "      <td>10.020366</td>\n",
       "    </tr>\n",
       "    <tr>\n",
       "      <td>...</td>\n",
       "      <td>...</td>\n",
       "      <td>...</td>\n",
       "      <td>...</td>\n",
       "      <td>...</td>\n",
       "      <td>...</td>\n",
       "      <td>...</td>\n",
       "      <td>...</td>\n",
       "      <td>...</td>\n",
       "    </tr>\n",
       "    <tr>\n",
       "      <td>2020-07-22</td>\n",
       "      <td>Monday</td>\n",
       "      <td>False</td>\n",
       "      <td>15.770000</td>\n",
       "      <td>14.650000</td>\n",
       "      <td>15.76</td>\n",
       "      <td>14.960000</td>\n",
       "      <td>24905900.0</td>\n",
       "      <td>14.960000</td>\n",
       "    </tr>\n",
       "    <tr>\n",
       "      <td>2020-07-23</td>\n",
       "      <td>Tuesday</td>\n",
       "      <td>False</td>\n",
       "      <td>15.820000</td>\n",
       "      <td>14.760000</td>\n",
       "      <td>14.80</td>\n",
       "      <td>15.410000</td>\n",
       "      <td>21069100.0</td>\n",
       "      <td>15.410000</td>\n",
       "    </tr>\n",
       "    <tr>\n",
       "      <td>2020-07-24</td>\n",
       "      <td>Wednesday</td>\n",
       "      <td>False</td>\n",
       "      <td>16.260000</td>\n",
       "      <td>15.570000</td>\n",
       "      <td>15.65</td>\n",
       "      <td>16.250000</td>\n",
       "      <td>21980500.0</td>\n",
       "      <td>16.250000</td>\n",
       "    </tr>\n",
       "    <tr>\n",
       "      <td>2020-07-25</td>\n",
       "      <td>Thursday</td>\n",
       "      <td>False</td>\n",
       "      <td>16.700001</td>\n",
       "      <td>16.040001</td>\n",
       "      <td>16.18</td>\n",
       "      <td>16.639999</td>\n",
       "      <td>26814500.0</td>\n",
       "      <td>16.639999</td>\n",
       "    </tr>\n",
       "    <tr>\n",
       "      <td>2020-07-26</td>\n",
       "      <td>Friday</td>\n",
       "      <td>False</td>\n",
       "      <td>16.490000</td>\n",
       "      <td>15.580000</td>\n",
       "      <td>15.99</td>\n",
       "      <td>16.090000</td>\n",
       "      <td>31854500.0</td>\n",
       "      <td>16.090000</td>\n",
       "    </tr>\n",
       "  </tbody>\n",
       "</table>\n",
       "<p>2663 rows × 8 columns</p>\n",
       "</div>"
      ],
      "text/plain": [
       "           Day of Week  IS Start of Month       High        Low   Open  \\\n",
       "Date                                                                     \n",
       "2009-12-30      Monday              False   9.750000   9.310000   9.43   \n",
       "2009-12-31     Tuesday              False  10.590000   9.800000   9.82   \n",
       "2010-01-01   Wednesday              False  10.450000  10.140000  10.44   \n",
       "2010-01-02    Thursday              False  10.810000   9.980000  10.01   \n",
       "2010-01-03      Friday              False  10.870000  10.450000  10.70   \n",
       "...                ...                ...        ...        ...    ...   \n",
       "2020-07-22      Monday              False  15.770000  14.650000  15.76   \n",
       "2020-07-23     Tuesday              False  15.820000  14.760000  14.80   \n",
       "2020-07-24   Wednesday              False  16.260000  15.570000  15.65   \n",
       "2020-07-25    Thursday              False  16.700001  16.040001  16.18   \n",
       "2020-07-26      Friday              False  16.490000  15.580000  15.99   \n",
       "\n",
       "                Close      Volume  Adj Close  \n",
       "Date                                          \n",
       "2009-12-30   9.730000  24670100.0   9.197938  \n",
       "2009-12-31  10.500000  49268000.0   9.925833  \n",
       "2010-01-01  10.140000  21539900.0   9.585518  \n",
       "2010-01-02  10.800000  30219400.0  10.209429  \n",
       "2010-01-03  10.600000  17728500.0  10.020366  \n",
       "...               ...         ...        ...  \n",
       "2020-07-22  14.960000  24905900.0  14.960000  \n",
       "2020-07-23  15.410000  21069100.0  15.410000  \n",
       "2020-07-24  16.250000  21980500.0  16.250000  \n",
       "2020-07-25  16.639999  26814500.0  16.639999  \n",
       "2020-07-26  16.090000  31854500.0  16.090000  \n",
       "\n",
       "[2663 rows x 8 columns]"
      ]
     },
     "execution_count": 71,
     "metadata": {},
     "output_type": "execute_result"
    }
   ],
   "source": [
    "stocks"
   ]
  },
  {
   "cell_type": "code",
   "execution_count": 72,
   "metadata": {},
   "outputs": [
    {
     "data": {
      "text/plain": [
       "DatetimeIndex(['2009-12-31', '2010-01-31', '2010-01-31', '2010-01-31',\n",
       "               '2010-01-31', '2010-01-31', '2010-01-31', '2010-01-31',\n",
       "               '2010-01-31', '2010-01-31',\n",
       "               ...\n",
       "               '2020-07-31', '2020-07-31', '2020-07-31', '2020-07-31',\n",
       "               '2020-07-31', '2020-07-31', '2020-07-31', '2020-07-31',\n",
       "               '2020-07-31', '2020-07-31'],\n",
       "              dtype='datetime64[ns]', name='Date', length=2663, freq=None)"
      ]
     },
     "execution_count": 72,
     "metadata": {},
     "output_type": "execute_result"
    }
   ],
   "source": [
    "stocks.index + pd.tseries.offsets.MonthEnd()"
   ]
  },
  {
   "cell_type": "code",
   "execution_count": 73,
   "metadata": {},
   "outputs": [
    {
     "data": {
      "text/plain": [
       "DatetimeIndex(['2009-12-31', '2010-03-31', '2010-03-31', '2010-03-31',\n",
       "               '2010-03-31', '2010-03-31', '2010-03-31', '2010-03-31',\n",
       "               '2010-03-31', '2010-03-31',\n",
       "               ...\n",
       "               '2020-09-30', '2020-09-30', '2020-09-30', '2020-09-30',\n",
       "               '2020-09-30', '2020-09-30', '2020-09-30', '2020-09-30',\n",
       "               '2020-09-30', '2020-09-30'],\n",
       "              dtype='datetime64[ns]', name='Date', length=2663, freq=None)"
      ]
     },
     "execution_count": 73,
     "metadata": {},
     "output_type": "execute_result"
    }
   ],
   "source": [
    "stocks.index + pd.tseries.offsets.QuarterEnd()"
   ]
  },
  {
   "cell_type": "code",
   "execution_count": 74,
   "metadata": {},
   "outputs": [
    {
     "data": {
      "text/html": [
       "<div>\n",
       "<style scoped>\n",
       "    .dataframe tbody tr th:only-of-type {\n",
       "        vertical-align: middle;\n",
       "    }\n",
       "\n",
       "    .dataframe tbody tr th {\n",
       "        vertical-align: top;\n",
       "    }\n",
       "\n",
       "    .dataframe thead th {\n",
       "        text-align: right;\n",
       "    }\n",
       "</style>\n",
       "<table border=\"1\" class=\"dataframe\">\n",
       "  <thead>\n",
       "    <tr style=\"text-align: right;\">\n",
       "      <th></th>\n",
       "      <th>Day of Week</th>\n",
       "      <th>IS Start of Month</th>\n",
       "      <th>High</th>\n",
       "      <th>Low</th>\n",
       "      <th>Open</th>\n",
       "      <th>Close</th>\n",
       "      <th>Volume</th>\n",
       "      <th>Adj Close</th>\n",
       "    </tr>\n",
       "    <tr>\n",
       "      <th>Date</th>\n",
       "      <th></th>\n",
       "      <th></th>\n",
       "      <th></th>\n",
       "      <th></th>\n",
       "      <th></th>\n",
       "      <th></th>\n",
       "      <th></th>\n",
       "      <th></th>\n",
       "    </tr>\n",
       "  </thead>\n",
       "  <tbody>\n",
       "    <tr>\n",
       "      <td>2020-07-24</td>\n",
       "      <td>Wednesday</td>\n",
       "      <td>False</td>\n",
       "      <td>16.260000</td>\n",
       "      <td>15.570000</td>\n",
       "      <td>15.65</td>\n",
       "      <td>16.250000</td>\n",
       "      <td>21980500.0</td>\n",
       "      <td>16.250000</td>\n",
       "    </tr>\n",
       "    <tr>\n",
       "      <td>2020-07-25</td>\n",
       "      <td>Thursday</td>\n",
       "      <td>False</td>\n",
       "      <td>16.700001</td>\n",
       "      <td>16.040001</td>\n",
       "      <td>16.18</td>\n",
       "      <td>16.639999</td>\n",
       "      <td>26814500.0</td>\n",
       "      <td>16.639999</td>\n",
       "    </tr>\n",
       "    <tr>\n",
       "      <td>2020-07-26</td>\n",
       "      <td>Friday</td>\n",
       "      <td>False</td>\n",
       "      <td>16.490000</td>\n",
       "      <td>15.580000</td>\n",
       "      <td>15.99</td>\n",
       "      <td>16.090000</td>\n",
       "      <td>31854500.0</td>\n",
       "      <td>16.090000</td>\n",
       "    </tr>\n",
       "  </tbody>\n",
       "</table>\n",
       "</div>"
      ],
      "text/plain": [
       "           Day of Week  IS Start of Month       High        Low   Open  \\\n",
       "Date                                                                     \n",
       "2020-07-24   Wednesday              False  16.260000  15.570000  15.65   \n",
       "2020-07-25    Thursday              False  16.700001  16.040001  16.18   \n",
       "2020-07-26      Friday              False  16.490000  15.580000  15.99   \n",
       "\n",
       "                Close      Volume  Adj Close  \n",
       "Date                                          \n",
       "2020-07-24  16.250000  21980500.0  16.250000  \n",
       "2020-07-25  16.639999  26814500.0  16.639999  \n",
       "2020-07-26  16.090000  31854500.0  16.090000  "
      ]
     },
     "execution_count": 74,
     "metadata": {},
     "output_type": "execute_result"
    }
   ],
   "source": [
    "stocks.tail(3)"
   ]
  },
  {
   "cell_type": "code",
   "execution_count": 75,
   "metadata": {},
   "outputs": [
    {
     "data": {
      "text/plain": [
       "DatetimeIndex(['2009-11-30', '2009-11-30', '2009-12-31', '2009-12-31',\n",
       "               '2009-12-31', '2009-12-31', '2009-12-31', '2009-12-31',\n",
       "               '2009-12-31', '2009-12-31',\n",
       "               ...\n",
       "               '2020-06-30', '2020-06-30', '2020-06-30', '2020-06-30',\n",
       "               '2020-06-30', '2020-06-30', '2020-06-30', '2020-06-30',\n",
       "               '2020-06-30', '2020-06-30'],\n",
       "              dtype='datetime64[ns]', name='Date', length=2663, freq=None)"
      ]
     },
     "execution_count": 75,
     "metadata": {},
     "output_type": "execute_result"
    }
   ],
   "source": [
    "stocks.index - pd.tseries.offsets.MonthEnd()"
   ]
  },
  {
   "cell_type": "code",
   "execution_count": 76,
   "metadata": {},
   "outputs": [
    {
     "data": {
      "text/plain": [
       "DatetimeIndex(['2009-12-01', '2009-12-01', '2009-12-01', '2010-01-01',\n",
       "               '2010-01-01', '2010-01-01', '2010-01-01', '2010-01-01',\n",
       "               '2010-01-01', '2010-01-01',\n",
       "               ...\n",
       "               '2020-07-01', '2020-07-01', '2020-07-01', '2020-07-01',\n",
       "               '2020-07-01', '2020-07-01', '2020-07-01', '2020-07-01',\n",
       "               '2020-07-01', '2020-07-01'],\n",
       "              dtype='datetime64[ns]', name='Date', length=2663, freq=None)"
      ]
     },
     "execution_count": 76,
     "metadata": {},
     "output_type": "execute_result"
    }
   ],
   "source": [
    "stocks.index - pd.tseries.offsets.MonthBegin()"
   ]
  },
  {
   "cell_type": "code",
   "execution_count": 77,
   "metadata": {},
   "outputs": [],
   "source": [
    "from pandas.tseries import offsets"
   ]
  },
  {
   "cell_type": "code",
   "execution_count": 78,
   "metadata": {},
   "outputs": [
    {
     "data": {
      "text/plain": [
       "DatetimeIndex(['2009-12-31', '2010-01-31', '2010-01-31', '2010-01-31',\n",
       "               '2010-01-31', '2010-01-31', '2010-01-31', '2010-01-31',\n",
       "               '2010-01-31', '2010-01-31',\n",
       "               ...\n",
       "               '2020-07-31', '2020-07-31', '2020-07-31', '2020-07-31',\n",
       "               '2020-07-31', '2020-07-31', '2020-07-31', '2020-07-31',\n",
       "               '2020-07-31', '2020-07-31'],\n",
       "              dtype='datetime64[ns]', name='Date', length=2663, freq=None)"
      ]
     },
     "execution_count": 78,
     "metadata": {},
     "output_type": "execute_result"
    }
   ],
   "source": [
    "stocks.index + offsets.MonthEnd()"
   ]
  },
  {
   "cell_type": "code",
   "execution_count": 79,
   "metadata": {},
   "outputs": [
    {
     "data": {
      "text/plain": [
       "DatetimeIndex(['2009-12-31', '2010-01-29', '2010-01-29', '2010-01-29',\n",
       "               '2010-01-29', '2010-01-29', '2010-01-29', '2010-01-29',\n",
       "               '2010-01-29', '2010-01-29',\n",
       "               ...\n",
       "               '2020-07-31', '2020-07-31', '2020-07-31', '2020-07-31',\n",
       "               '2020-07-31', '2020-07-31', '2020-07-31', '2020-07-31',\n",
       "               '2020-07-31', '2020-07-31'],\n",
       "              dtype='datetime64[ns]', name='Date', length=2663, freq=None)"
      ]
     },
     "execution_count": 79,
     "metadata": {},
     "output_type": "execute_result"
    }
   ],
   "source": [
    "stocks.index + offsets.BMonthEnd()"
   ]
  },
  {
   "cell_type": "code",
   "execution_count": 80,
   "metadata": {},
   "outputs": [
    {
     "data": {
      "text/plain": [
       "DatetimeIndex(['2009-12-31', '2010-12-31', '2010-12-31', '2010-12-31',\n",
       "               '2010-12-31', '2010-12-31', '2010-12-31', '2010-12-31',\n",
       "               '2010-12-31', '2010-12-31',\n",
       "               ...\n",
       "               '2020-12-31', '2020-12-31', '2020-12-31', '2020-12-31',\n",
       "               '2020-12-31', '2020-12-31', '2020-12-31', '2020-12-31',\n",
       "               '2020-12-31', '2020-12-31'],\n",
       "              dtype='datetime64[ns]', name='Date', length=2663, freq=None)"
      ]
     },
     "execution_count": 80,
     "metadata": {},
     "output_type": "execute_result"
    }
   ],
   "source": [
    "stocks.index + offsets.YearEnd()"
   ]
  },
  {
   "cell_type": "markdown",
   "metadata": {},
   "source": [
    "# The timedelta object"
   ]
  },
  {
   "cell_type": "markdown",
   "metadata": {},
   "source": [
    "Represent a time span, duration, measurement of time"
   ]
  },
  {
   "cell_type": "code",
   "execution_count": 81,
   "metadata": {},
   "outputs": [
    {
     "data": {
      "text/plain": [
       "Timedelta('11 days 00:00:00')"
      ]
     },
     "execution_count": 81,
     "metadata": {},
     "output_type": "execute_result"
    }
   ],
   "source": [
    "time_a = pd.Timestamp(\"2020-03-31\")\n",
    "time_b = pd.Timestamp(\"2020-03-20\")\n",
    "\n",
    "time_a - time_b"
   ]
  },
  {
   "cell_type": "code",
   "execution_count": 82,
   "metadata": {},
   "outputs": [
    {
     "data": {
      "text/plain": [
       "Timedelta('10 days 06:59:59')"
      ]
     },
     "execution_count": 82,
     "metadata": {},
     "output_type": "execute_result"
    }
   ],
   "source": [
    "time_a = pd.Timestamp(\"2020-03-31 04:45:33 AM\")\n",
    "time_b = pd.Timestamp(\"2020-03-20 09:45:34 PM\")\n",
    "\n",
    "time_a - time_b"
   ]
  },
  {
   "cell_type": "code",
   "execution_count": 83,
   "metadata": {},
   "outputs": [
    {
     "data": {
      "text/plain": [
       "Timedelta('-11 days +17:00:01')"
      ]
     },
     "execution_count": 83,
     "metadata": {},
     "output_type": "execute_result"
    }
   ],
   "source": [
    "time_b - time_a"
   ]
  },
  {
   "cell_type": "code",
   "execution_count": 84,
   "metadata": {},
   "outputs": [
    {
     "data": {
      "text/plain": [
       "Timedelta('3 days 00:00:00')"
      ]
     },
     "execution_count": 84,
     "metadata": {},
     "output_type": "execute_result"
    }
   ],
   "source": [
    "pd.Timedelta(days = 3)"
   ]
  },
  {
   "cell_type": "code",
   "execution_count": 85,
   "metadata": {},
   "outputs": [
    {
     "data": {
      "text/plain": [
       "Timestamp('2020-04-03 04:45:33')"
      ]
     },
     "execution_count": 85,
     "metadata": {},
     "output_type": "execute_result"
    }
   ],
   "source": [
    "time_a + pd.Timedelta(days = 3)"
   ]
  },
  {
   "cell_type": "code",
   "execution_count": 86,
   "metadata": {},
   "outputs": [
    {
     "data": {
      "text/plain": [
       "Timedelta('59 days 12:45:20')"
      ]
     },
     "execution_count": 86,
     "metadata": {},
     "output_type": "execute_result"
    }
   ],
   "source": [
    "pd.Timedelta(weeks = 8, days = 3, hours = 12, minutes = 45, seconds = 20)"
   ]
  },
  {
   "cell_type": "code",
   "execution_count": 87,
   "metadata": {},
   "outputs": [
    {
     "data": {
      "text/plain": [
       "Timedelta('0 days 00:05:00')"
      ]
     },
     "execution_count": 87,
     "metadata": {},
     "output_type": "execute_result"
    }
   ],
   "source": [
    "pd.Timedelta(\"5 minutes\")"
   ]
  },
  {
   "cell_type": "code",
   "execution_count": 88,
   "metadata": {},
   "outputs": [
    {
     "data": {
      "text/plain": [
       "Timedelta('14 days 06:12:49')"
      ]
     },
     "execution_count": 88,
     "metadata": {},
     "output_type": "execute_result"
    }
   ],
   "source": [
    "pd.Timedelta(\"14 days 6 hours 12 minutes 49 seconds\")"
   ]
  },
  {
   "cell_type": "code",
   "execution_count": 89,
   "metadata": {},
   "outputs": [],
   "source": [
    "#Time deltas in a dataset"
   ]
  },
  {
   "cell_type": "code",
   "execution_count": 90,
   "metadata": {},
   "outputs": [
    {
     "data": {
      "text/html": [
       "<div>\n",
       "<style scoped>\n",
       "    .dataframe tbody tr th:only-of-type {\n",
       "        vertical-align: middle;\n",
       "    }\n",
       "\n",
       "    .dataframe tbody tr th {\n",
       "        vertical-align: top;\n",
       "    }\n",
       "\n",
       "    .dataframe thead th {\n",
       "        text-align: right;\n",
       "    }\n",
       "</style>\n",
       "<table border=\"1\" class=\"dataframe\">\n",
       "  <thead>\n",
       "    <tr style=\"text-align: right;\">\n",
       "      <th></th>\n",
       "      <th>ID</th>\n",
       "      <th>order_date</th>\n",
       "      <th>delivery_date</th>\n",
       "    </tr>\n",
       "  </thead>\n",
       "  <tbody>\n",
       "    <tr>\n",
       "      <td>0</td>\n",
       "      <td>1</td>\n",
       "      <td>5/24/98</td>\n",
       "      <td>2/5/99</td>\n",
       "    </tr>\n",
       "    <tr>\n",
       "      <td>1</td>\n",
       "      <td>2</td>\n",
       "      <td>4/22/92</td>\n",
       "      <td>3/6/98</td>\n",
       "    </tr>\n",
       "    <tr>\n",
       "      <td>2</td>\n",
       "      <td>4</td>\n",
       "      <td>2/10/91</td>\n",
       "      <td>8/26/92</td>\n",
       "    </tr>\n",
       "    <tr>\n",
       "      <td>3</td>\n",
       "      <td>5</td>\n",
       "      <td>7/21/92</td>\n",
       "      <td>11/20/97</td>\n",
       "    </tr>\n",
       "    <tr>\n",
       "      <td>4</td>\n",
       "      <td>7</td>\n",
       "      <td>9/2/93</td>\n",
       "      <td>6/10/98</td>\n",
       "    </tr>\n",
       "    <tr>\n",
       "      <td>...</td>\n",
       "      <td>...</td>\n",
       "      <td>...</td>\n",
       "      <td>...</td>\n",
       "    </tr>\n",
       "    <tr>\n",
       "      <td>496</td>\n",
       "      <td>990</td>\n",
       "      <td>6/24/91</td>\n",
       "      <td>2/2/96</td>\n",
       "    </tr>\n",
       "    <tr>\n",
       "      <td>497</td>\n",
       "      <td>991</td>\n",
       "      <td>9/9/91</td>\n",
       "      <td>3/30/98</td>\n",
       "    </tr>\n",
       "    <tr>\n",
       "      <td>498</td>\n",
       "      <td>993</td>\n",
       "      <td>11/16/90</td>\n",
       "      <td>4/27/98</td>\n",
       "    </tr>\n",
       "    <tr>\n",
       "      <td>499</td>\n",
       "      <td>994</td>\n",
       "      <td>6/3/93</td>\n",
       "      <td>6/13/93</td>\n",
       "    </tr>\n",
       "    <tr>\n",
       "      <td>500</td>\n",
       "      <td>997</td>\n",
       "      <td>1/4/90</td>\n",
       "      <td>10/3/91</td>\n",
       "    </tr>\n",
       "  </tbody>\n",
       "</table>\n",
       "<p>501 rows × 3 columns</p>\n",
       "</div>"
      ],
      "text/plain": [
       "      ID order_date delivery_date\n",
       "0      1    5/24/98        2/5/99\n",
       "1      2    4/22/92        3/6/98\n",
       "2      4    2/10/91       8/26/92\n",
       "3      5    7/21/92      11/20/97\n",
       "4      7     9/2/93       6/10/98\n",
       "..   ...        ...           ...\n",
       "496  990    6/24/91        2/2/96\n",
       "497  991     9/9/91       3/30/98\n",
       "498  993   11/16/90       4/27/98\n",
       "499  994     6/3/93       6/13/93\n",
       "500  997     1/4/90       10/3/91\n",
       "\n",
       "[501 rows x 3 columns]"
      ]
     },
     "execution_count": 90,
     "metadata": {},
     "output_type": "execute_result"
    }
   ],
   "source": [
    "pd.read_csv(\"ecommerce.csv\")"
   ]
  },
  {
   "cell_type": "code",
   "execution_count": 91,
   "metadata": {},
   "outputs": [
    {
     "data": {
      "text/html": [
       "<div>\n",
       "<style scoped>\n",
       "    .dataframe tbody tr th:only-of-type {\n",
       "        vertical-align: middle;\n",
       "    }\n",
       "\n",
       "    .dataframe tbody tr th {\n",
       "        vertical-align: top;\n",
       "    }\n",
       "\n",
       "    .dataframe thead th {\n",
       "        text-align: right;\n",
       "    }\n",
       "</style>\n",
       "<table border=\"1\" class=\"dataframe\">\n",
       "  <thead>\n",
       "    <tr style=\"text-align: right;\">\n",
       "      <th></th>\n",
       "      <th>order_date</th>\n",
       "      <th>delivery_date</th>\n",
       "    </tr>\n",
       "    <tr>\n",
       "      <th>ID</th>\n",
       "      <th></th>\n",
       "      <th></th>\n",
       "    </tr>\n",
       "  </thead>\n",
       "  <tbody>\n",
       "    <tr>\n",
       "      <td>1</td>\n",
       "      <td>5/24/98</td>\n",
       "      <td>2/5/99</td>\n",
       "    </tr>\n",
       "    <tr>\n",
       "      <td>2</td>\n",
       "      <td>4/22/92</td>\n",
       "      <td>3/6/98</td>\n",
       "    </tr>\n",
       "    <tr>\n",
       "      <td>4</td>\n",
       "      <td>2/10/91</td>\n",
       "      <td>8/26/92</td>\n",
       "    </tr>\n",
       "    <tr>\n",
       "      <td>5</td>\n",
       "      <td>7/21/92</td>\n",
       "      <td>11/20/97</td>\n",
       "    </tr>\n",
       "    <tr>\n",
       "      <td>7</td>\n",
       "      <td>9/2/93</td>\n",
       "      <td>6/10/98</td>\n",
       "    </tr>\n",
       "    <tr>\n",
       "      <td>...</td>\n",
       "      <td>...</td>\n",
       "      <td>...</td>\n",
       "    </tr>\n",
       "    <tr>\n",
       "      <td>990</td>\n",
       "      <td>6/24/91</td>\n",
       "      <td>2/2/96</td>\n",
       "    </tr>\n",
       "    <tr>\n",
       "      <td>991</td>\n",
       "      <td>9/9/91</td>\n",
       "      <td>3/30/98</td>\n",
       "    </tr>\n",
       "    <tr>\n",
       "      <td>993</td>\n",
       "      <td>11/16/90</td>\n",
       "      <td>4/27/98</td>\n",
       "    </tr>\n",
       "    <tr>\n",
       "      <td>994</td>\n",
       "      <td>6/3/93</td>\n",
       "      <td>6/13/93</td>\n",
       "    </tr>\n",
       "    <tr>\n",
       "      <td>997</td>\n",
       "      <td>1/4/90</td>\n",
       "      <td>10/3/91</td>\n",
       "    </tr>\n",
       "  </tbody>\n",
       "</table>\n",
       "<p>501 rows × 2 columns</p>\n",
       "</div>"
      ],
      "text/plain": [
       "    order_date delivery_date\n",
       "ID                          \n",
       "1      5/24/98        2/5/99\n",
       "2      4/22/92        3/6/98\n",
       "4      2/10/91       8/26/92\n",
       "5      7/21/92      11/20/97\n",
       "7       9/2/93       6/10/98\n",
       "..         ...           ...\n",
       "990    6/24/91        2/2/96\n",
       "991     9/9/91       3/30/98\n",
       "993   11/16/90       4/27/98\n",
       "994     6/3/93       6/13/93\n",
       "997     1/4/90       10/3/91\n",
       "\n",
       "[501 rows x 2 columns]"
      ]
     },
     "execution_count": 91,
     "metadata": {},
     "output_type": "execute_result"
    }
   ],
   "source": [
    "pd.read_csv(\"ecommerce.csv\", index_col = \"ID\")"
   ]
  },
  {
   "cell_type": "code",
   "execution_count": 93,
   "metadata": {},
   "outputs": [
    {
     "data": {
      "text/html": [
       "<div>\n",
       "<style scoped>\n",
       "    .dataframe tbody tr th:only-of-type {\n",
       "        vertical-align: middle;\n",
       "    }\n",
       "\n",
       "    .dataframe tbody tr th {\n",
       "        vertical-align: top;\n",
       "    }\n",
       "\n",
       "    .dataframe thead th {\n",
       "        text-align: right;\n",
       "    }\n",
       "</style>\n",
       "<table border=\"1\" class=\"dataframe\">\n",
       "  <thead>\n",
       "    <tr style=\"text-align: right;\">\n",
       "      <th></th>\n",
       "      <th>order_date</th>\n",
       "      <th>delivery_date</th>\n",
       "    </tr>\n",
       "    <tr>\n",
       "      <th>ID</th>\n",
       "      <th></th>\n",
       "      <th></th>\n",
       "    </tr>\n",
       "  </thead>\n",
       "  <tbody>\n",
       "    <tr>\n",
       "      <td>1</td>\n",
       "      <td>1998-05-24</td>\n",
       "      <td>1999-02-05</td>\n",
       "    </tr>\n",
       "    <tr>\n",
       "      <td>2</td>\n",
       "      <td>1992-04-22</td>\n",
       "      <td>1998-03-06</td>\n",
       "    </tr>\n",
       "    <tr>\n",
       "      <td>4</td>\n",
       "      <td>1991-02-10</td>\n",
       "      <td>1992-08-26</td>\n",
       "    </tr>\n",
       "    <tr>\n",
       "      <td>5</td>\n",
       "      <td>1992-07-21</td>\n",
       "      <td>1997-11-20</td>\n",
       "    </tr>\n",
       "    <tr>\n",
       "      <td>7</td>\n",
       "      <td>1993-09-02</td>\n",
       "      <td>1998-06-10</td>\n",
       "    </tr>\n",
       "    <tr>\n",
       "      <td>...</td>\n",
       "      <td>...</td>\n",
       "      <td>...</td>\n",
       "    </tr>\n",
       "    <tr>\n",
       "      <td>990</td>\n",
       "      <td>1991-06-24</td>\n",
       "      <td>1996-02-02</td>\n",
       "    </tr>\n",
       "    <tr>\n",
       "      <td>991</td>\n",
       "      <td>1991-09-09</td>\n",
       "      <td>1998-03-30</td>\n",
       "    </tr>\n",
       "    <tr>\n",
       "      <td>993</td>\n",
       "      <td>1990-11-16</td>\n",
       "      <td>1998-04-27</td>\n",
       "    </tr>\n",
       "    <tr>\n",
       "      <td>994</td>\n",
       "      <td>1993-06-03</td>\n",
       "      <td>1993-06-13</td>\n",
       "    </tr>\n",
       "    <tr>\n",
       "      <td>997</td>\n",
       "      <td>1990-01-04</td>\n",
       "      <td>1991-10-03</td>\n",
       "    </tr>\n",
       "  </tbody>\n",
       "</table>\n",
       "<p>501 rows × 2 columns</p>\n",
       "</div>"
      ],
      "text/plain": [
       "    order_date delivery_date\n",
       "ID                          \n",
       "1   1998-05-24    1999-02-05\n",
       "2   1992-04-22    1998-03-06\n",
       "4   1991-02-10    1992-08-26\n",
       "5   1992-07-21    1997-11-20\n",
       "7   1993-09-02    1998-06-10\n",
       "..         ...           ...\n",
       "990 1991-06-24    1996-02-02\n",
       "991 1991-09-09    1998-03-30\n",
       "993 1990-11-16    1998-04-27\n",
       "994 1993-06-03    1993-06-13\n",
       "997 1990-01-04    1991-10-03\n",
       "\n",
       "[501 rows x 2 columns]"
      ]
     },
     "execution_count": 93,
     "metadata": {},
     "output_type": "execute_result"
    }
   ],
   "source": [
    "pd.read_csv(\"ecommerce.csv\", index_col = \"ID\", parse_dates = [\"order_date\", \"delivery_date\"])"
   ]
  },
  {
   "cell_type": "code",
   "execution_count": 94,
   "metadata": {},
   "outputs": [
    {
     "data": {
      "text/html": [
       "<div>\n",
       "<style scoped>\n",
       "    .dataframe tbody tr th:only-of-type {\n",
       "        vertical-align: middle;\n",
       "    }\n",
       "\n",
       "    .dataframe tbody tr th {\n",
       "        vertical-align: top;\n",
       "    }\n",
       "\n",
       "    .dataframe thead th {\n",
       "        text-align: right;\n",
       "    }\n",
       "</style>\n",
       "<table border=\"1\" class=\"dataframe\">\n",
       "  <thead>\n",
       "    <tr style=\"text-align: right;\">\n",
       "      <th></th>\n",
       "      <th>order_date</th>\n",
       "      <th>delivery_date</th>\n",
       "    </tr>\n",
       "    <tr>\n",
       "      <th>ID</th>\n",
       "      <th></th>\n",
       "      <th></th>\n",
       "    </tr>\n",
       "  </thead>\n",
       "  <tbody>\n",
       "    <tr>\n",
       "      <td>1</td>\n",
       "      <td>1998-05-24</td>\n",
       "      <td>1999-02-05</td>\n",
       "    </tr>\n",
       "    <tr>\n",
       "      <td>2</td>\n",
       "      <td>1992-04-22</td>\n",
       "      <td>1998-03-06</td>\n",
       "    </tr>\n",
       "    <tr>\n",
       "      <td>4</td>\n",
       "      <td>1991-02-10</td>\n",
       "      <td>1992-08-26</td>\n",
       "    </tr>\n",
       "    <tr>\n",
       "      <td>5</td>\n",
       "      <td>1992-07-21</td>\n",
       "      <td>1997-11-20</td>\n",
       "    </tr>\n",
       "  </tbody>\n",
       "</table>\n",
       "</div>"
      ],
      "text/plain": [
       "   order_date delivery_date\n",
       "ID                         \n",
       "1  1998-05-24    1999-02-05\n",
       "2  1992-04-22    1998-03-06\n",
       "4  1991-02-10    1992-08-26\n",
       "5  1992-07-21    1997-11-20"
      ]
     },
     "execution_count": 94,
     "metadata": {},
     "output_type": "execute_result"
    }
   ],
   "source": [
    "shipping = pd.read_csv(\"ecommerce.csv\", index_col = \"ID\", parse_dates = [\"order_date\", \"delivery_date\"])\n",
    "shipping.head(4)"
   ]
  },
  {
   "cell_type": "code",
   "execution_count": 96,
   "metadata": {},
   "outputs": [
    {
     "data": {
      "text/plain": [
       "ID\n",
       "1      257 days\n",
       "2     2144 days\n",
       "4      563 days\n",
       "5     1948 days\n",
       "7     1742 days\n",
       "         ...   \n",
       "990   1684 days\n",
       "991   2394 days\n",
       "993   2719 days\n",
       "994     10 days\n",
       "997    637 days\n",
       "Length: 501, dtype: timedelta64[ns]"
      ]
     },
     "execution_count": 96,
     "metadata": {},
     "output_type": "execute_result"
    }
   ],
   "source": [
    "shipping[\"delivery_date\"] - shipping[\"order_date\"]"
   ]
  },
  {
   "cell_type": "code",
   "execution_count": 97,
   "metadata": {},
   "outputs": [],
   "source": [
    "shipping[\"delivery time\"] = shipping[\"delivery_date\"] - shipping[\"order_date\"]"
   ]
  },
  {
   "cell_type": "code",
   "execution_count": 98,
   "metadata": {},
   "outputs": [
    {
     "data": {
      "text/html": [
       "<div>\n",
       "<style scoped>\n",
       "    .dataframe tbody tr th:only-of-type {\n",
       "        vertical-align: middle;\n",
       "    }\n",
       "\n",
       "    .dataframe tbody tr th {\n",
       "        vertical-align: top;\n",
       "    }\n",
       "\n",
       "    .dataframe thead th {\n",
       "        text-align: right;\n",
       "    }\n",
       "</style>\n",
       "<table border=\"1\" class=\"dataframe\">\n",
       "  <thead>\n",
       "    <tr style=\"text-align: right;\">\n",
       "      <th></th>\n",
       "      <th>order_date</th>\n",
       "      <th>delivery_date</th>\n",
       "      <th>delivery time</th>\n",
       "    </tr>\n",
       "    <tr>\n",
       "      <th>ID</th>\n",
       "      <th></th>\n",
       "      <th></th>\n",
       "      <th></th>\n",
       "    </tr>\n",
       "  </thead>\n",
       "  <tbody>\n",
       "    <tr>\n",
       "      <td>1</td>\n",
       "      <td>1998-05-24</td>\n",
       "      <td>1999-02-05</td>\n",
       "      <td>257 days</td>\n",
       "    </tr>\n",
       "    <tr>\n",
       "      <td>2</td>\n",
       "      <td>1992-04-22</td>\n",
       "      <td>1998-03-06</td>\n",
       "      <td>2144 days</td>\n",
       "    </tr>\n",
       "    <tr>\n",
       "      <td>4</td>\n",
       "      <td>1991-02-10</td>\n",
       "      <td>1992-08-26</td>\n",
       "      <td>563 days</td>\n",
       "    </tr>\n",
       "    <tr>\n",
       "      <td>5</td>\n",
       "      <td>1992-07-21</td>\n",
       "      <td>1997-11-20</td>\n",
       "      <td>1948 days</td>\n",
       "    </tr>\n",
       "    <tr>\n",
       "      <td>7</td>\n",
       "      <td>1993-09-02</td>\n",
       "      <td>1998-06-10</td>\n",
       "      <td>1742 days</td>\n",
       "    </tr>\n",
       "    <tr>\n",
       "      <td>...</td>\n",
       "      <td>...</td>\n",
       "      <td>...</td>\n",
       "      <td>...</td>\n",
       "    </tr>\n",
       "    <tr>\n",
       "      <td>990</td>\n",
       "      <td>1991-06-24</td>\n",
       "      <td>1996-02-02</td>\n",
       "      <td>1684 days</td>\n",
       "    </tr>\n",
       "    <tr>\n",
       "      <td>991</td>\n",
       "      <td>1991-09-09</td>\n",
       "      <td>1998-03-30</td>\n",
       "      <td>2394 days</td>\n",
       "    </tr>\n",
       "    <tr>\n",
       "      <td>993</td>\n",
       "      <td>1990-11-16</td>\n",
       "      <td>1998-04-27</td>\n",
       "      <td>2719 days</td>\n",
       "    </tr>\n",
       "    <tr>\n",
       "      <td>994</td>\n",
       "      <td>1993-06-03</td>\n",
       "      <td>1993-06-13</td>\n",
       "      <td>10 days</td>\n",
       "    </tr>\n",
       "    <tr>\n",
       "      <td>997</td>\n",
       "      <td>1990-01-04</td>\n",
       "      <td>1991-10-03</td>\n",
       "      <td>637 days</td>\n",
       "    </tr>\n",
       "  </tbody>\n",
       "</table>\n",
       "<p>501 rows × 3 columns</p>\n",
       "</div>"
      ],
      "text/plain": [
       "    order_date delivery_date delivery time\n",
       "ID                                        \n",
       "1   1998-05-24    1999-02-05      257 days\n",
       "2   1992-04-22    1998-03-06     2144 days\n",
       "4   1991-02-10    1992-08-26      563 days\n",
       "5   1992-07-21    1997-11-20     1948 days\n",
       "7   1993-09-02    1998-06-10     1742 days\n",
       "..         ...           ...           ...\n",
       "990 1991-06-24    1996-02-02     1684 days\n",
       "991 1991-09-09    1998-03-30     2394 days\n",
       "993 1990-11-16    1998-04-27     2719 days\n",
       "994 1993-06-03    1993-06-13       10 days\n",
       "997 1990-01-04    1991-10-03      637 days\n",
       "\n",
       "[501 rows x 3 columns]"
      ]
     },
     "execution_count": 98,
     "metadata": {},
     "output_type": "execute_result"
    }
   ],
   "source": [
    "shipping"
   ]
  },
  {
   "cell_type": "code",
   "execution_count": 100,
   "metadata": {},
   "outputs": [
    {
     "data": {
      "text/plain": [
       "ID\n",
       "1     1999-10-20\n",
       "2     2004-01-18\n",
       "4     1994-03-12\n",
       "5     2003-03-22\n",
       "7     2003-03-18\n",
       "         ...    \n",
       "990   2000-09-12\n",
       "991   2004-10-18\n",
       "993   2005-10-06\n",
       "994   1993-06-23\n",
       "997   1993-07-01\n",
       "Length: 501, dtype: datetime64[ns]"
      ]
     },
     "execution_count": 100,
     "metadata": {},
     "output_type": "execute_result"
    }
   ],
   "source": [
    "shipping[\"delivery_date\"] + shipping[\"delivery time\"]"
   ]
  },
  {
   "cell_type": "code",
   "execution_count": 101,
   "metadata": {},
   "outputs": [
    {
     "data": {
      "text/plain": [
       "order_date        datetime64[ns]\n",
       "delivery_date     datetime64[ns]\n",
       "delivery time    timedelta64[ns]\n",
       "dtype: object"
      ]
     },
     "execution_count": 101,
     "metadata": {},
     "output_type": "execute_result"
    }
   ],
   "source": [
    "shipping.dtypes"
   ]
  },
  {
   "cell_type": "code",
   "execution_count": 102,
   "metadata": {},
   "outputs": [
    {
     "data": {
      "text/plain": [
       "ID\n",
       "1      False\n",
       "2       True\n",
       "4       True\n",
       "5       True\n",
       "7       True\n",
       "       ...  \n",
       "990     True\n",
       "991     True\n",
       "993     True\n",
       "994    False\n",
       "997     True\n",
       "Name: delivery time, Length: 501, dtype: bool"
      ]
     },
     "execution_count": 102,
     "metadata": {},
     "output_type": "execute_result"
    }
   ],
   "source": [
    "shipping[\"delivery time\"] > \"365 days\""
   ]
  },
  {
   "cell_type": "code",
   "execution_count": 103,
   "metadata": {},
   "outputs": [
    {
     "data": {
      "text/html": [
       "<div>\n",
       "<style scoped>\n",
       "    .dataframe tbody tr th:only-of-type {\n",
       "        vertical-align: middle;\n",
       "    }\n",
       "\n",
       "    .dataframe tbody tr th {\n",
       "        vertical-align: top;\n",
       "    }\n",
       "\n",
       "    .dataframe thead th {\n",
       "        text-align: right;\n",
       "    }\n",
       "</style>\n",
       "<table border=\"1\" class=\"dataframe\">\n",
       "  <thead>\n",
       "    <tr style=\"text-align: right;\">\n",
       "      <th></th>\n",
       "      <th>order_date</th>\n",
       "      <th>delivery_date</th>\n",
       "      <th>delivery time</th>\n",
       "    </tr>\n",
       "    <tr>\n",
       "      <th>ID</th>\n",
       "      <th></th>\n",
       "      <th></th>\n",
       "      <th></th>\n",
       "    </tr>\n",
       "  </thead>\n",
       "  <tbody>\n",
       "    <tr>\n",
       "      <td>2</td>\n",
       "      <td>1992-04-22</td>\n",
       "      <td>1998-03-06</td>\n",
       "      <td>2144 days</td>\n",
       "    </tr>\n",
       "    <tr>\n",
       "      <td>4</td>\n",
       "      <td>1991-02-10</td>\n",
       "      <td>1992-08-26</td>\n",
       "      <td>563 days</td>\n",
       "    </tr>\n",
       "    <tr>\n",
       "      <td>5</td>\n",
       "      <td>1992-07-21</td>\n",
       "      <td>1997-11-20</td>\n",
       "      <td>1948 days</td>\n",
       "    </tr>\n",
       "    <tr>\n",
       "      <td>7</td>\n",
       "      <td>1993-09-02</td>\n",
       "      <td>1998-06-10</td>\n",
       "      <td>1742 days</td>\n",
       "    </tr>\n",
       "    <tr>\n",
       "      <td>9</td>\n",
       "      <td>1990-01-25</td>\n",
       "      <td>1994-10-02</td>\n",
       "      <td>1711 days</td>\n",
       "    </tr>\n",
       "    <tr>\n",
       "      <td>...</td>\n",
       "      <td>...</td>\n",
       "      <td>...</td>\n",
       "      <td>...</td>\n",
       "    </tr>\n",
       "    <tr>\n",
       "      <td>986</td>\n",
       "      <td>1990-12-10</td>\n",
       "      <td>1992-12-16</td>\n",
       "      <td>737 days</td>\n",
       "    </tr>\n",
       "    <tr>\n",
       "      <td>990</td>\n",
       "      <td>1991-06-24</td>\n",
       "      <td>1996-02-02</td>\n",
       "      <td>1684 days</td>\n",
       "    </tr>\n",
       "    <tr>\n",
       "      <td>991</td>\n",
       "      <td>1991-09-09</td>\n",
       "      <td>1998-03-30</td>\n",
       "      <td>2394 days</td>\n",
       "    </tr>\n",
       "    <tr>\n",
       "      <td>993</td>\n",
       "      <td>1990-11-16</td>\n",
       "      <td>1998-04-27</td>\n",
       "      <td>2719 days</td>\n",
       "    </tr>\n",
       "    <tr>\n",
       "      <td>997</td>\n",
       "      <td>1990-01-04</td>\n",
       "      <td>1991-10-03</td>\n",
       "      <td>637 days</td>\n",
       "    </tr>\n",
       "  </tbody>\n",
       "</table>\n",
       "<p>394 rows × 3 columns</p>\n",
       "</div>"
      ],
      "text/plain": [
       "    order_date delivery_date delivery time\n",
       "ID                                        \n",
       "2   1992-04-22    1998-03-06     2144 days\n",
       "4   1991-02-10    1992-08-26      563 days\n",
       "5   1992-07-21    1997-11-20     1948 days\n",
       "7   1993-09-02    1998-06-10     1742 days\n",
       "9   1990-01-25    1994-10-02     1711 days\n",
       "..         ...           ...           ...\n",
       "986 1990-12-10    1992-12-16      737 days\n",
       "990 1991-06-24    1996-02-02     1684 days\n",
       "991 1991-09-09    1998-03-30     2394 days\n",
       "993 1990-11-16    1998-04-27     2719 days\n",
       "997 1990-01-04    1991-10-03      637 days\n",
       "\n",
       "[394 rows x 3 columns]"
      ]
     },
     "execution_count": 103,
     "metadata": {},
     "output_type": "execute_result"
    }
   ],
   "source": [
    "mask = shipping[\"delivery time\"] > \"365 days\"\n",
    "shipping[mask]"
   ]
  },
  {
   "cell_type": "code",
   "execution_count": 104,
   "metadata": {},
   "outputs": [
    {
     "data": {
      "text/plain": [
       "Timedelta('3583 days 00:00:00')"
      ]
     },
     "execution_count": 104,
     "metadata": {},
     "output_type": "execute_result"
    }
   ],
   "source": [
    "shipping[\"delivery time\"].max()"
   ]
  },
  {
   "cell_type": "code",
   "execution_count": 105,
   "metadata": {},
   "outputs": [
    {
     "data": {
      "text/plain": [
       "Timedelta('8 days 00:00:00')"
      ]
     },
     "execution_count": 105,
     "metadata": {},
     "output_type": "execute_result"
    }
   ],
   "source": [
    "shipping[\"delivery time\"].min()"
   ]
  },
  {
   "cell_type": "code",
   "execution_count": null,
   "metadata": {},
   "outputs": [],
   "source": []
  }
 ],
 "metadata": {
  "kernelspec": {
   "display_name": "Python 3",
   "language": "python",
   "name": "python3"
  },
  "language_info": {
   "codemirror_mode": {
    "name": "ipython",
    "version": 3
   },
   "file_extension": ".py",
   "mimetype": "text/x-python",
   "name": "python",
   "nbconvert_exporter": "python",
   "pygments_lexer": "ipython3",
   "version": "3.7.4"
  }
 },
 "nbformat": 4,
 "nbformat_minor": 2
}
